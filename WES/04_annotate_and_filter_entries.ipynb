{
 "cells": [
  {
   "cell_type": "code",
   "execution_count": 2,
   "id": "f34226f5",
   "metadata": {},
   "outputs": [],
   "source": [
    "import sys\n",
    "import hail as hl\n",
    "import pandas as pd\n",
    "import gnomad\n",
    "import gnomad.utils.vep\n",
    "from gnomad.resources.grch38 import gnomad\n",
    "from bokeh.io import show, output_notebook\n",
    "from bokeh.layouts import gridplot\n",
    "import pprint as pp\n",
    "import numpy as np"
   ]
  },
  {
   "cell_type": "code",
   "execution_count": 3,
   "id": "458e2ad0",
   "metadata": {},
   "outputs": [
    {
     "name": "stderr",
     "output_type": "stream",
     "text": [
      "Initializing Hail with default parameters...\n"
     ]
    },
    {
     "name": "stdout",
     "output_type": "stream",
     "text": [
      "load QCed mt...\n"
     ]
    },
    {
     "name": "stderr",
     "output_type": "stream",
     "text": [
      "/opt/conda/miniconda3/lib/python3.11/site-packages/hailtop/aiocloud/aiogoogle/user_config.py:43: UserWarning:\n",
      "\n",
      "Reading spark-defaults.conf to determine GCS requester pays configuration. This is deprecated. Please use `hailctl config set gcs_requester_pays/project` and `hailctl config set gcs_requester_pays/buckets`.\n",
      "\n",
      "Setting default log level to \"WARN\".\n",
      "To adjust logging level use sc.setLogLevel(newLevel). For SparkR, use setLogLevel(newLevel).\n"
     ]
    },
    {
     "name": "stdout",
     "output_type": "stream",
     "text": [
      "SPARKMONITOR_LISTENER: Started SparkListener for Jupyter Notebook\n",
      "SPARKMONITOR_LISTENER: Port obtained from environment: 41989\n",
      "SPARKMONITOR_LISTENER: Application Started: application_1752686110983_0001 ...Start Time: 1752686805012\n"
     ]
    },
    {
     "name": "stderr",
     "output_type": "stream",
     "text": [
      "Running on Apache Spark version 3.5.0\n",
      "SparkUI available at http://ychen-cnv-m.us-central1-a.c.pbn-analysis.internal:41657\n",
      "Welcome to\n",
      "     __  __     <>__\n",
      "    / /_/ /__  __/ /\n",
      "   / __  / _ `/ / /\n",
      "  /_/ /_/\\_,_/_/_/   version 0.2.135-034ef3e08116\n",
      "LOGGING: writing to /home/hail/hail-20250716-1726-0.2.135-034ef3e08116.log\n"
     ]
    },
    {
     "name": "stdout",
     "output_type": "stream",
     "text": [
      "load vep ht...\n"
     ]
    }
   ],
   "source": [
    "print(\"load QCed mt...\")\n",
    "mt = hl.read_matrix_table(\"gs://pbn_pilot/proj-PBN/04_rare_SNPs/00_raw_data/03_filter_entries_VarQC.SCZ.mt\")\n",
    "\n",
    "print(\"load vep ht...\")\n",
    "variants = hl.read_table(\"gs://pbn_pilot/proj-PBN/04_rare_SNPs/00_raw_data/02_SCZ_BGEcallset.varQCed.min_rep.VEP.ht\")   "
   ]
  },
  {
   "cell_type": "code",
   "execution_count": 4,
   "id": "4bc6f0a8",
   "metadata": {},
   "outputs": [
    {
     "name": "stdout",
     "output_type": "stream",
     "text": [
      "Annotating mt with VEP annotations...\n",
      "['assembly_name', 'allele_string', 'ancestral', 'colocated_variants', 'context', 'end', 'id', 'input', 'intergenic_consequences', 'most_severe_consequence', 'motif_feature_consequences', 'regulatory_feature_consequences', 'seq_region_name', 'start', 'strand', 'transcript_consequences', 'variant_class']\n"
     ]
    }
   ],
   "source": [
    "print(\"Annotating mt with VEP annotations...\")\n",
    "mt = mt.annotate_rows(vep = variants[mt.row_key].vep)\n",
    "mt = mt.filter_rows(hl.is_defined(mt.vep))\n",
    "\n",
    "print(list(mt.vep)) # no 'worst_csq_by_gene_canonical' info here"
   ]
  },
  {
   "cell_type": "code",
   "execution_count": 5,
   "id": "f6869b9c",
   "metadata": {},
   "outputs": [
    {
     "name": "stdout",
     "output_type": "stream",
     "text": [
      "make LOF HC loftee \n"
     ]
    }
   ],
   "source": [
    "print(\"make LOF HC loftee \")\n",
    "from gnomad.utils.vep import process_consequences\n",
    "mt=process_consequences(mt)"
   ]
  },
  {
   "cell_type": "code",
   "execution_count": 6,
   "id": "db9e5da9",
   "metadata": {},
   "outputs": [
    {
     "name": "stdout",
     "output_type": "stream",
     "text": [
      "['assembly_name', 'allele_string', 'ancestral', 'colocated_variants', 'context', 'end', 'id', 'input', 'intergenic_consequences', 'most_severe_consequence', 'motif_feature_consequences', 'regulatory_feature_consequences', 'seq_region_name', 'start', 'strand', 'transcript_consequences', 'variant_class', 'worst_consequence_term', 'worst_csq_by_gene', 'worst_csq_for_variant', 'worst_csq_by_gene_canonical', 'worst_csq_for_variant_canonical']\n"
     ]
    }
   ],
   "source": [
    "print(list(mt.vep)) # generate 'worst_csq_by_gene_canonical' info after process consequences"
   ]
  },
  {
   "cell_type": "code",
   "execution_count": 7,
   "id": "e6e34058",
   "metadata": {},
   "outputs": [
    {
     "name": "stderr",
     "output_type": "stream",
     "text": [
      "[Stage 0:============================================>              (3 + 1) / 4]\r"
     ]
    },
    {
     "data": {
      "text/html": [
       "<table><thead><tr><td style=\"white-space: nowrap; max-width: 500px; overflow: hidden; text-overflow: ellipsis; \" colspan=\"1\"><div style=\"text-align: left;\"></div></td><td style=\"white-space: nowrap; max-width: 500px; overflow: hidden; text-overflow: ellipsis; \" colspan=\"1\"><div style=\"text-align: left;\"></div></td><td style=\"white-space: nowrap; max-width: 500px; overflow: hidden; text-overflow: ellipsis; \" colspan=\"1\"><div style=\"text-align: left;\"></div></td></tr><tr><td style=\"white-space: nowrap; max-width: 500px; overflow: hidden; text-overflow: ellipsis; \" colspan=\"1\"><div style=\"text-align: left;border-bottom: solid 2px #000; padding-bottom: 5px\">locus</div></td><td style=\"white-space: nowrap; max-width: 500px; overflow: hidden; text-overflow: ellipsis; \" colspan=\"1\"><div style=\"text-align: left;border-bottom: solid 2px #000; padding-bottom: 5px\">alleles</div></td><td style=\"white-space: nowrap; max-width: 500px; overflow: hidden; text-overflow: ellipsis; \" colspan=\"1\"><div style=\"text-align: left;border-bottom: solid 2px #000; padding-bottom: 5px\">&lt;expr&gt;</div></td></tr><tr><td style=\"white-space: nowrap; max-width: 500px; overflow: hidden; text-overflow: ellipsis; text-align: left;\">locus&lt;GRCh38&gt;</td><td style=\"white-space: nowrap; max-width: 500px; overflow: hidden; text-overflow: ellipsis; text-align: left;\">array&lt;str&gt;</td><td style=\"white-space: nowrap; max-width: 500px; overflow: hidden; text-overflow: ellipsis; text-align: left;\">array&lt;array&lt;str&gt;&gt;</td></tr>\n",
       "</thead><tbody><tr><td style=\"white-space: nowrap; max-width: 500px; overflow: hidden; text-overflow: ellipsis; \">chr1:930204</td><td style=\"white-space: nowrap; max-width: 500px; overflow: hidden; text-overflow: ellipsis; \">[&quot;G&quot;,&quot;A&quot;]</td><td style=\"white-space: nowrap; max-width: 500px; overflow: hidden; text-overflow: ellipsis; \">[[&quot;missense_variant&quot;]]</td></tr>\n",
       "<tr><td style=\"white-space: nowrap; max-width: 500px; overflow: hidden; text-overflow: ellipsis; \">chr1:930245</td><td style=\"white-space: nowrap; max-width: 500px; overflow: hidden; text-overflow: ellipsis; \">[&quot;G&quot;,&quot;A&quot;]</td><td style=\"white-space: nowrap; max-width: 500px; overflow: hidden; text-overflow: ellipsis; \">[[&quot;missense_variant&quot;]]</td></tr>\n",
       "<tr><td style=\"white-space: nowrap; max-width: 500px; overflow: hidden; text-overflow: ellipsis; \">chr1:930285</td><td style=\"white-space: nowrap; max-width: 500px; overflow: hidden; text-overflow: ellipsis; \">[&quot;G&quot;,&quot;A&quot;]</td><td style=\"white-space: nowrap; max-width: 500px; overflow: hidden; text-overflow: ellipsis; \">[[&quot;missense_variant&quot;]]</td></tr>\n",
       "<tr><td style=\"white-space: nowrap; max-width: 500px; overflow: hidden; text-overflow: ellipsis; \">chr1:930314</td><td style=\"white-space: nowrap; max-width: 500px; overflow: hidden; text-overflow: ellipsis; \">[&quot;C&quot;,&quot;T&quot;]</td><td style=\"white-space: nowrap; max-width: 500px; overflow: hidden; text-overflow: ellipsis; \">[[&quot;missense_variant&quot;]]</td></tr>\n",
       "<tr><td style=\"white-space: nowrap; max-width: 500px; overflow: hidden; text-overflow: ellipsis; \">chr1:930320</td><td style=\"white-space: nowrap; max-width: 500px; overflow: hidden; text-overflow: ellipsis; \">[&quot;C&quot;,&quot;T&quot;]</td><td style=\"white-space: nowrap; max-width: 500px; overflow: hidden; text-overflow: ellipsis; \">[[&quot;missense_variant&quot;]]</td></tr>\n",
       "<tr><td style=\"white-space: nowrap; max-width: 500px; overflow: hidden; text-overflow: ellipsis; \">chr1:935835</td><td style=\"white-space: nowrap; max-width: 500px; overflow: hidden; text-overflow: ellipsis; \">[&quot;C&quot;,&quot;G&quot;]</td><td style=\"white-space: nowrap; max-width: 500px; overflow: hidden; text-overflow: ellipsis; \">[[&quot;synonymous_variant&quot;]]</td></tr>\n",
       "<tr><td style=\"white-space: nowrap; max-width: 500px; overflow: hidden; text-overflow: ellipsis; \">chr1:935836</td><td style=\"white-space: nowrap; max-width: 500px; overflow: hidden; text-overflow: ellipsis; \">[&quot;G&quot;,&quot;A&quot;]</td><td style=\"white-space: nowrap; max-width: 500px; overflow: hidden; text-overflow: ellipsis; \">[[&quot;missense_variant&quot;]]</td></tr>\n",
       "<tr><td style=\"white-space: nowrap; max-width: 500px; overflow: hidden; text-overflow: ellipsis; \">chr1:939121</td><td style=\"white-space: nowrap; max-width: 500px; overflow: hidden; text-overflow: ellipsis; \">[&quot;C&quot;,&quot;T&quot;]</td><td style=\"white-space: nowrap; max-width: 500px; overflow: hidden; text-overflow: ellipsis; \">[[&quot;missense_variant&quot;]]</td></tr>\n",
       "<tr><td style=\"white-space: nowrap; max-width: 500px; overflow: hidden; text-overflow: ellipsis; \">chr1:939285</td><td style=\"white-space: nowrap; max-width: 500px; overflow: hidden; text-overflow: ellipsis; \">[&quot;G&quot;,&quot;A&quot;]</td><td style=\"white-space: nowrap; max-width: 500px; overflow: hidden; text-overflow: ellipsis; \">[[&quot;synonymous_variant&quot;],[&quot;downstream_gene_variant&quot;]]</td></tr>\n",
       "<tr><td style=\"white-space: nowrap; max-width: 500px; overflow: hidden; text-overflow: ellipsis; \">chr1:939355</td><td style=\"white-space: nowrap; max-width: 500px; overflow: hidden; text-overflow: ellipsis; \">[&quot;G&quot;,&quot;C&quot;]</td><td style=\"white-space: nowrap; max-width: 500px; overflow: hidden; text-overflow: ellipsis; \">[[&quot;missense_variant&quot;],[&quot;downstream_gene_variant&quot;]]</td></tr>\n",
       "</tbody></table><p style=\"background: #fdd; padding: 0.4em;\">showing top 10 rows</p>\n"
      ],
      "text/plain": [
       "+---------------+------------+\n",
       "| locus         | alleles    |\n",
       "+---------------+------------+\n",
       "| locus<GRCh38> | array<str> |\n",
       "+---------------+------------+\n",
       "| chr1:930204   | [\"G\",\"A\"]  |\n",
       "| chr1:930245   | [\"G\",\"A\"]  |\n",
       "| chr1:930285   | [\"G\",\"A\"]  |\n",
       "| chr1:930314   | [\"C\",\"T\"]  |\n",
       "| chr1:930320   | [\"C\",\"T\"]  |\n",
       "| chr1:935835   | [\"C\",\"G\"]  |\n",
       "| chr1:935836   | [\"G\",\"A\"]  |\n",
       "| chr1:939121   | [\"C\",\"T\"]  |\n",
       "| chr1:939285   | [\"G\",\"A\"]  |\n",
       "| chr1:939355   | [\"G\",\"C\"]  |\n",
       "+---------------+------------+\n",
       "\n",
       "+------------------------------------------------------+\n",
       "| <expr>                                               |\n",
       "+------------------------------------------------------+\n",
       "| array<array<str>>                                    |\n",
       "+------------------------------------------------------+\n",
       "| [[\"missense_variant\"]]                               |\n",
       "| [[\"missense_variant\"]]                               |\n",
       "| [[\"missense_variant\"]]                               |\n",
       "| [[\"missense_variant\"]]                               |\n",
       "| [[\"missense_variant\"]]                               |\n",
       "| [[\"synonymous_variant\"]]                             |\n",
       "| [[\"missense_variant\"]]                               |\n",
       "| [[\"missense_variant\"]]                               |\n",
       "| [[\"synonymous_variant\"],[\"downstream_gene_variant\"]] |\n",
       "| [[\"missense_variant\"],[\"downstream_gene_variant\"]]   |\n",
       "+------------------------------------------------------+\n",
       "showing top 10 rows"
      ]
     },
     "metadata": {},
     "output_type": "display_data"
    }
   ],
   "source": [
    "mt.vep.worst_csq_by_gene_canonical.consequence_terms.show() # before explode"
   ]
  },
  {
   "cell_type": "code",
   "execution_count": 8,
   "id": "e43de705",
   "metadata": {},
   "outputs": [],
   "source": [
    "mt = mt.explode_rows(mt.vep.worst_csq_by_gene_canonical)"
   ]
  },
  {
   "cell_type": "code",
   "execution_count": 9,
   "id": "ba43c0dd",
   "metadata": {},
   "outputs": [
    {
     "name": "stderr",
     "output_type": "stream",
     "text": [
      "[Stage 2:======================================================>  (23 + 1) / 24]\r"
     ]
    },
    {
     "name": "stdout",
     "output_type": "stream",
     "text": [
      "2. explode by worst_csq_by_gene_canonical ---> Sites: 227896\n",
      "\n",
      "['allele_num', 'amino_acids', 'appris', 'biotype', 'canonical', 'ccds', 'cdna_start', 'cdna_end', 'cds_end', 'cds_start', 'codons', 'consequence_terms', 'distance', 'domains', 'exon', 'gene_id', 'gene_pheno', 'gene_symbol', 'gene_symbol_source', 'hgnc_id', 'hgvsc', 'hgvsp', 'hgvs_offset', 'impact', 'intron', 'lof', 'lof_flags', 'lof_filter', 'lof_info', 'minimised', 'polyphen_prediction', 'polyphen_score', 'protein_end', 'protein_start', 'protein_id', 'sift_prediction', 'sift_score', 'strand', 'swissprot', 'transcript_id', 'trembl', 'tsl', 'uniparc', 'variant_allele', 'most_severe_consequence', 'csq_score']\n",
      "Check how many LOF HC variants\n"
     ]
    }
   ],
   "source": [
    "print(\"2. explode by worst_csq_by_gene_canonical ---> Sites: %d\\n\" % (mt.count_rows())) # 5495541\n",
    "print(list(mt.vep.worst_csq_by_gene_canonical)) # check 'lof'\n",
    "print(\"Check how many LOF HC variants\")\n",
    "lof_hc = mt.filter_rows(mt.vep.worst_csq_by_gene_canonical.lof.contains('HC')) # Konrad"
   ]
  },
  {
   "cell_type": "code",
   "execution_count": 10,
   "id": "b8e3b8d3",
   "metadata": {},
   "outputs": [
    {
     "name": "stderr",
     "output_type": "stream",
     "text": [
      "[Stage 3:=========================================================(24 + 4) / 24]\r"
     ]
    },
    {
     "name": "stdout",
     "output_type": "stream",
     "text": [
      "3. HC loftee from worst_csq_by_gene_canonical ---> Sites: 1556\n",
      "\n",
      "4. File saving...\n"
     ]
    },
    {
     "ename": "FatalError",
     "evalue": "HailException: RelationalSetup.writeMetadata: file already exists: gs://pbn_pilot/proj-PBN/04_rare_SNPs/00_raw_data/04_explode_by_worst_csq_by_gene_canonical.mt\n\nJava stack trace:\nis.hail.utils.HailException: RelationalSetup.writeMetadata: file already exists: gs://pbn_pilot/proj-PBN/04_rare_SNPs/00_raw_data/04_explode_by_worst_csq_by_gene_canonical.mt\n\tat __C4819Compile.__m4823begin_group_0(Emit.scala)\n\tat __C4819Compile.__m4821split_Block(Emit.scala)\n\tat __C4819Compile.apply(Emit.scala)\n\tat is.hail.expr.ir.CompileAndEvaluate$.$anonfun$_apply$3(CompileAndEvaluate.scala:64)\n\tat scala.runtime.java8.JFunction0$mcV$sp.apply(JFunction0$mcV$sp.java:23)\n\tat is.hail.utils.ExecutionTimer.time(ExecutionTimer.scala:98)\n\tat is.hail.backend.ExecuteContext.time(ExecuteContext.scala:187)\n\tat is.hail.expr.ir.CompileAndEvaluate$.$anonfun$_apply$2(CompileAndEvaluate.scala:64)\n\tat is.hail.expr.ir.CompileAndEvaluate$.$anonfun$_apply$2$adapted(CompileAndEvaluate.scala:62)\n\tat is.hail.backend.ExecuteContext.$anonfun$scopedExecution$2(ExecuteContext.scala:166)\n\tat is.hail.utils.ExecutionTimer.time(ExecutionTimer.scala:98)\n\tat is.hail.backend.ExecuteContext.time(ExecuteContext.scala:187)\n\tat is.hail.backend.ExecuteContext.$anonfun$scopedExecution$1(ExecuteContext.scala:165)\n\tat is.hail.utils.package$.using(package.scala:665)\n\tat is.hail.backend.ExecuteContext.scopedExecution(ExecuteContext.scala:164)\n\tat is.hail.expr.ir.CompileAndEvaluate$.$anonfun$_apply$1(CompileAndEvaluate.scala:62)\n\tat is.hail.utils.ExecutionTimer.time(ExecutionTimer.scala:98)\n\tat is.hail.backend.ExecuteContext.time(ExecuteContext.scala:187)\n\tat is.hail.expr.ir.CompileAndEvaluate$._apply(CompileAndEvaluate.scala:47)\n\tat is.hail.expr.ir.CompileAndEvaluate$.evalToIR(CompileAndEvaluate.scala:30)\n\tat is.hail.expr.ir.LowerOrInterpretNonCompilable$.evaluate$1(LowerOrInterpretNonCompilable.scala:31)\n\tat is.hail.expr.ir.LowerOrInterpretNonCompilable$.rewrite$1(LowerOrInterpretNonCompilable.scala:60)\n\tat is.hail.expr.ir.LowerOrInterpretNonCompilable$.apply(LowerOrInterpretNonCompilable.scala:65)\n\tat is.hail.expr.ir.lowering.LowerOrInterpretNonCompilablePass$.transform(LoweringPass.scala:86)\n\tat is.hail.expr.ir.lowering.LoweringPass.$anonfun$apply$3(LoweringPass.scala:37)\n\tat is.hail.utils.ExecutionTimer.time(ExecutionTimer.scala:98)\n\tat is.hail.expr.ir.lowering.LoweringPass.$anonfun$apply$1(LoweringPass.scala:37)\n\tat is.hail.utils.ExecutionTimer.time(ExecutionTimer.scala:98)\n\tat is.hail.expr.ir.lowering.LoweringPass.apply(LoweringPass.scala:35)\n\tat is.hail.expr.ir.lowering.LoweringPass.apply$(LoweringPass.scala:34)\n\tat is.hail.expr.ir.lowering.LowerOrInterpretNonCompilablePass$.apply(LoweringPass.scala:81)\n\tat is.hail.expr.ir.lowering.LoweringPipeline.$anonfun$apply$2(LoweringPipeline.scala:22)\n\tat is.hail.expr.ir.lowering.LoweringPipeline.$anonfun$apply$2$adapted(LoweringPipeline.scala:20)\n\tat scala.collection.mutable.ResizableArray.foreach(ResizableArray.scala:62)\n\tat scala.collection.mutable.ResizableArray.foreach$(ResizableArray.scala:55)\n\tat scala.collection.mutable.ArrayBuffer.foreach(ArrayBuffer.scala:49)\n\tat is.hail.expr.ir.lowering.LoweringPipeline.$anonfun$apply$1(LoweringPipeline.scala:20)\n\tat is.hail.utils.ExecutionTimer.time(ExecutionTimer.scala:98)\n\tat is.hail.backend.ExecuteContext.time(ExecuteContext.scala:187)\n\tat is.hail.expr.ir.lowering.LoweringPipeline.apply(LoweringPipeline.scala:11)\n\tat is.hail.expr.ir.CompileAndEvaluate$.$anonfun$_apply$1(CompileAndEvaluate.scala:48)\n\tat is.hail.utils.ExecutionTimer.time(ExecutionTimer.scala:98)\n\tat is.hail.backend.ExecuteContext.time(ExecuteContext.scala:187)\n\tat is.hail.expr.ir.CompileAndEvaluate$._apply(CompileAndEvaluate.scala:47)\n\tat is.hail.backend.spark.SparkBackend.$anonfun$execute$1(SparkBackend.scala:554)\n\tat is.hail.utils.ExecutionTimer.time(ExecutionTimer.scala:98)\n\tat is.hail.backend.ExecuteContext.time(ExecuteContext.scala:187)\n\tat is.hail.backend.spark.SparkBackend.execute(SparkBackend.scala:543)\n\tat is.hail.backend.BackendHttpHandler.$anonfun$handle$4(BackendServer.scala:93)\n\tat is.hail.utils.package$.using(package.scala:665)\n\tat is.hail.backend.ExecuteContext.local(ExecuteContext.scala:226)\n\tat is.hail.backend.BackendHttpHandler.$anonfun$handle$3(BackendServer.scala:91)\n\tat is.hail.utils.ExecutionTimer$.time(ExecutionTimer.scala:15)\n\tat is.hail.backend.BackendHttpHandler.$anonfun$handle$2(BackendServer.scala:90)\n\tat is.hail.backend.BackendHttpHandler.$anonfun$handle$2$adapted(BackendServer.scala:89)\n\tat is.hail.backend.ExecuteContext$.$anonfun$scoped$3(ExecuteContext.scala:103)\n\tat is.hail.utils.package$.using(package.scala:665)\n\tat is.hail.backend.ExecuteContext$.$anonfun$scoped$2(ExecuteContext.scala:103)\n\tat is.hail.utils.package$.using(package.scala:665)\n\tat is.hail.annotations.RegionPool.scopedRegion(RegionPool.scala:166)\n\tat is.hail.backend.ExecuteContext$.$anonfun$scoped$1(ExecuteContext.scala:85)\n\tat is.hail.utils.package$.using(package.scala:665)\n\tat is.hail.annotations.RegionPool$.scoped(RegionPool.scala:13)\n\tat is.hail.backend.ExecuteContext$.scoped(ExecuteContext.scala:84)\n\tat is.hail.backend.spark.SparkBackend.$anonfun$withExecuteContext$1(SparkBackend.scala:410)\n\tat is.hail.utils.ExecutionTimer$.time(ExecutionTimer.scala:15)\n\tat is.hail.utils.ExecutionTimer$.logTime(ExecutionTimer.scala:22)\n\tat is.hail.backend.spark.SparkBackend.withExecuteContext(SparkBackend.scala:390)\n\tat is.hail.backend.BackendHttpHandler.handle(BackendServer.scala:89)\n\tat jdk.httpserver/com.sun.net.httpserver.Filter$Chain.doFilter(Filter.java:77)\n\tat jdk.httpserver/sun.net.httpserver.AuthFilter.doFilter(AuthFilter.java:82)\n\tat jdk.httpserver/com.sun.net.httpserver.Filter$Chain.doFilter(Filter.java:80)\n\tat jdk.httpserver/sun.net.httpserver.ServerImpl$Exchange$LinkHandler.handle(ServerImpl.java:848)\n\tat jdk.httpserver/com.sun.net.httpserver.Filter$Chain.doFilter(Filter.java:77)\n\tat jdk.httpserver/sun.net.httpserver.ServerImpl$Exchange.run(ServerImpl.java:817)\n\tat jdk.httpserver/sun.net.httpserver.ServerImpl$DefaultExecutor.execute(ServerImpl.java:201)\n\tat jdk.httpserver/sun.net.httpserver.ServerImpl$Dispatcher.handle(ServerImpl.java:560)\n\tat jdk.httpserver/sun.net.httpserver.ServerImpl$Dispatcher.run(ServerImpl.java:526)\n\tat java.base/java.lang.Thread.run(Thread.java:829)\n\n\n\nHail version: 0.2.135-034ef3e08116\nError summary: HailException: RelationalSetup.writeMetadata: file already exists: gs://pbn_pilot/proj-PBN/04_rare_SNPs/00_raw_data/04_explode_by_worst_csq_by_gene_canonical.mt",
     "output_type": "error",
     "traceback": [
      "\u001b[0;31m---------------------------------------------------------------------------\u001b[0m",
      "\u001b[0;31mFatalError\u001b[0m                                Traceback (most recent call last)",
      "Cell \u001b[0;32mIn[10], line 3\u001b[0m\n\u001b[1;32m      1\u001b[0m \u001b[38;5;28mprint\u001b[39m(\u001b[38;5;124m\"\u001b[39m\u001b[38;5;124m3. HC loftee from worst_csq_by_gene_canonical ---> Sites: \u001b[39m\u001b[38;5;132;01m%d\u001b[39;00m\u001b[38;5;130;01m\\n\u001b[39;00m\u001b[38;5;124m\"\u001b[39m \u001b[38;5;241m%\u001b[39m (lof_hc\u001b[38;5;241m.\u001b[39mcount_rows())) \u001b[38;5;66;03m# 41073\u001b[39;00m\n\u001b[1;32m      2\u001b[0m \u001b[38;5;28mprint\u001b[39m(\u001b[38;5;124m\"\u001b[39m\u001b[38;5;124m4. File saving...\u001b[39m\u001b[38;5;124m\"\u001b[39m)\n\u001b[0;32m----> 3\u001b[0m mt \u001b[38;5;241m=\u001b[39m \u001b[43mmt\u001b[49m\u001b[38;5;241;43m.\u001b[39;49m\u001b[43mcheckpoint\u001b[49m\u001b[43m(\u001b[49m\u001b[38;5;124;43m\"\u001b[39;49m\u001b[38;5;124;43mgs://pbn_pilot/proj-PBN/04_rare_SNPs/00_raw_data/04_explode_by_worst_csq_by_gene_canonical.mt\u001b[39;49m\u001b[38;5;124;43m\"\u001b[39;49m\u001b[43m)\u001b[49m\n",
      "File \u001b[0;32m<decorator-gen-1486>:2\u001b[0m, in \u001b[0;36mcheckpoint\u001b[0;34m(self, output, overwrite, stage_locally, _codec_spec, _read_if_exists, _intervals, _filter_intervals, _drop_cols, _drop_rows)\u001b[0m\n",
      "File \u001b[0;32m/opt/conda/miniconda3/lib/python3.11/site-packages/hail/typecheck/check.py:584\u001b[0m, in \u001b[0;36m_make_dec.<locals>.wrapper\u001b[0;34m(__original_func, *args, **kwargs)\u001b[0m\n\u001b[1;32m    581\u001b[0m \u001b[38;5;129m@decorator\u001b[39m\n\u001b[1;32m    582\u001b[0m \u001b[38;5;28;01mdef\u001b[39;00m\u001b[38;5;250m \u001b[39m\u001b[38;5;21mwrapper\u001b[39m(__original_func: Callable[\u001b[38;5;241m.\u001b[39m\u001b[38;5;241m.\u001b[39m\u001b[38;5;241m.\u001b[39m, T], \u001b[38;5;241m*\u001b[39margs, \u001b[38;5;241m*\u001b[39m\u001b[38;5;241m*\u001b[39mkwargs) \u001b[38;5;241m-\u001b[39m\u001b[38;5;241m>\u001b[39m T:\n\u001b[1;32m    583\u001b[0m     args_, kwargs_ \u001b[38;5;241m=\u001b[39m check_all(__original_func, args, kwargs, checkers, is_method\u001b[38;5;241m=\u001b[39mis_method)\n\u001b[0;32m--> 584\u001b[0m     \u001b[38;5;28;01mreturn\u001b[39;00m \u001b[43m__original_func\u001b[49m\u001b[43m(\u001b[49m\u001b[38;5;241;43m*\u001b[39;49m\u001b[43margs_\u001b[49m\u001b[43m,\u001b[49m\u001b[43m \u001b[49m\u001b[38;5;241;43m*\u001b[39;49m\u001b[38;5;241;43m*\u001b[39;49m\u001b[43mkwargs_\u001b[49m\u001b[43m)\u001b[49m\n",
      "File \u001b[0;32m/opt/conda/miniconda3/lib/python3.11/site-packages/hail/matrixtable.py:2749\u001b[0m, in \u001b[0;36mMatrixTable.checkpoint\u001b[0;34m(self, output, overwrite, stage_locally, _codec_spec, _read_if_exists, _intervals, _filter_intervals, _drop_cols, _drop_rows)\u001b[0m\n\u001b[1;32m   2746\u001b[0m hl\u001b[38;5;241m.\u001b[39mcurrent_backend()\u001b[38;5;241m.\u001b[39mvalidate_file(output)\n\u001b[1;32m   2748\u001b[0m \u001b[38;5;28;01mif\u001b[39;00m \u001b[38;5;129;01mnot\u001b[39;00m _read_if_exists \u001b[38;5;129;01mor\u001b[39;00m \u001b[38;5;129;01mnot\u001b[39;00m hl\u001b[38;5;241m.\u001b[39mhadoop_exists(\u001b[38;5;124mf\u001b[39m\u001b[38;5;124m'\u001b[39m\u001b[38;5;132;01m{\u001b[39;00moutput\u001b[38;5;132;01m}\u001b[39;00m\u001b[38;5;124m/_SUCCESS\u001b[39m\u001b[38;5;124m'\u001b[39m):\n\u001b[0;32m-> 2749\u001b[0m     \u001b[38;5;28;43mself\u001b[39;49m\u001b[38;5;241;43m.\u001b[39;49m\u001b[43mwrite\u001b[49m\u001b[43m(\u001b[49m\u001b[43moutput\u001b[49m\u001b[38;5;241;43m=\u001b[39;49m\u001b[43moutput\u001b[49m\u001b[43m,\u001b[49m\u001b[43m \u001b[49m\u001b[43moverwrite\u001b[49m\u001b[38;5;241;43m=\u001b[39;49m\u001b[43moverwrite\u001b[49m\u001b[43m,\u001b[49m\u001b[43m \u001b[49m\u001b[43mstage_locally\u001b[49m\u001b[38;5;241;43m=\u001b[39;49m\u001b[43mstage_locally\u001b[49m\u001b[43m,\u001b[49m\u001b[43m \u001b[49m\u001b[43m_codec_spec\u001b[49m\u001b[38;5;241;43m=\u001b[39;49m\u001b[43m_codec_spec\u001b[49m\u001b[43m)\u001b[49m\n\u001b[1;32m   2750\u001b[0m     _assert_type \u001b[38;5;241m=\u001b[39m \u001b[38;5;28mself\u001b[39m\u001b[38;5;241m.\u001b[39m_type\n\u001b[1;32m   2751\u001b[0m     _load_refs \u001b[38;5;241m=\u001b[39m \u001b[38;5;28;01mFalse\u001b[39;00m\n",
      "File \u001b[0;32m<decorator-gen-1488>:2\u001b[0m, in \u001b[0;36mwrite\u001b[0;34m(self, output, overwrite, stage_locally, _codec_spec, _partitions)\u001b[0m\n",
      "File \u001b[0;32m/opt/conda/miniconda3/lib/python3.11/site-packages/hail/typecheck/check.py:584\u001b[0m, in \u001b[0;36m_make_dec.<locals>.wrapper\u001b[0;34m(__original_func, *args, **kwargs)\u001b[0m\n\u001b[1;32m    581\u001b[0m \u001b[38;5;129m@decorator\u001b[39m\n\u001b[1;32m    582\u001b[0m \u001b[38;5;28;01mdef\u001b[39;00m\u001b[38;5;250m \u001b[39m\u001b[38;5;21mwrapper\u001b[39m(__original_func: Callable[\u001b[38;5;241m.\u001b[39m\u001b[38;5;241m.\u001b[39m\u001b[38;5;241m.\u001b[39m, T], \u001b[38;5;241m*\u001b[39margs, \u001b[38;5;241m*\u001b[39m\u001b[38;5;241m*\u001b[39mkwargs) \u001b[38;5;241m-\u001b[39m\u001b[38;5;241m>\u001b[39m T:\n\u001b[1;32m    583\u001b[0m     args_, kwargs_ \u001b[38;5;241m=\u001b[39m check_all(__original_func, args, kwargs, checkers, is_method\u001b[38;5;241m=\u001b[39mis_method)\n\u001b[0;32m--> 584\u001b[0m     \u001b[38;5;28;01mreturn\u001b[39;00m \u001b[43m__original_func\u001b[49m\u001b[43m(\u001b[49m\u001b[38;5;241;43m*\u001b[39;49m\u001b[43margs_\u001b[49m\u001b[43m,\u001b[49m\u001b[43m \u001b[49m\u001b[38;5;241;43m*\u001b[39;49m\u001b[38;5;241;43m*\u001b[39;49m\u001b[43mkwargs_\u001b[49m\u001b[43m)\u001b[49m\n",
      "File \u001b[0;32m/opt/conda/miniconda3/lib/python3.11/site-packages/hail/matrixtable.py:2808\u001b[0m, in \u001b[0;36mMatrixTable.write\u001b[0;34m(self, output, overwrite, stage_locally, _codec_spec, _partitions)\u001b[0m\n\u001b[1;32m   2805\u001b[0m     _partitions_type \u001b[38;5;241m=\u001b[39m \u001b[38;5;28;01mNone\u001b[39;00m\n\u001b[1;32m   2807\u001b[0m writer \u001b[38;5;241m=\u001b[39m ir\u001b[38;5;241m.\u001b[39mMatrixNativeWriter(output, overwrite, stage_locally, _codec_spec, _partitions, _partitions_type)\n\u001b[0;32m-> 2808\u001b[0m \u001b[43mEnv\u001b[49m\u001b[38;5;241;43m.\u001b[39;49m\u001b[43mbackend\u001b[49m\u001b[43m(\u001b[49m\u001b[43m)\u001b[49m\u001b[38;5;241;43m.\u001b[39;49m\u001b[43mexecute\u001b[49m\u001b[43m(\u001b[49m\u001b[43mir\u001b[49m\u001b[38;5;241;43m.\u001b[39;49m\u001b[43mMatrixWrite\u001b[49m\u001b[43m(\u001b[49m\u001b[38;5;28;43mself\u001b[39;49m\u001b[38;5;241;43m.\u001b[39;49m\u001b[43m_mir\u001b[49m\u001b[43m,\u001b[49m\u001b[43m \u001b[49m\u001b[43mwriter\u001b[49m\u001b[43m)\u001b[49m\u001b[43m)\u001b[49m\n",
      "File \u001b[0;32m/opt/conda/miniconda3/lib/python3.11/site-packages/hail/backend/spark_backend.py:217\u001b[0m, in \u001b[0;36mSparkBackend.execute\u001b[0;34m(self, ir, timed)\u001b[0m\n\u001b[1;32m    214\u001b[0m     \u001b[38;5;28;01mexcept\u001b[39;00m \u001b[38;5;167;01mException\u001b[39;00m \u001b[38;5;28;01mas\u001b[39;00m fatal:\n\u001b[1;32m    215\u001b[0m         \u001b[38;5;28;01mraise\u001b[39;00m err \u001b[38;5;28;01mfrom\u001b[39;00m\u001b[38;5;250m \u001b[39m\u001b[38;5;21;01mfatal\u001b[39;00m\n\u001b[0;32m--> 217\u001b[0m \u001b[38;5;28;01mraise\u001b[39;00m err\n",
      "File \u001b[0;32m/opt/conda/miniconda3/lib/python3.11/site-packages/hail/backend/spark_backend.py:209\u001b[0m, in \u001b[0;36mSparkBackend.execute\u001b[0;34m(self, ir, timed)\u001b[0m\n\u001b[1;32m    207\u001b[0m \u001b[38;5;28;01mdef\u001b[39;00m\u001b[38;5;250m \u001b[39m\u001b[38;5;21mexecute\u001b[39m(\u001b[38;5;28mself\u001b[39m, ir: BaseIR, timed: \u001b[38;5;28mbool\u001b[39m \u001b[38;5;241m=\u001b[39m \u001b[38;5;28;01mFalse\u001b[39;00m) \u001b[38;5;241m-\u001b[39m\u001b[38;5;241m>\u001b[39m Any:\n\u001b[1;32m    208\u001b[0m     \u001b[38;5;28;01mtry\u001b[39;00m:\n\u001b[0;32m--> 209\u001b[0m         \u001b[38;5;28;01mreturn\u001b[39;00m \u001b[38;5;28;43msuper\u001b[39;49m\u001b[43m(\u001b[49m\u001b[43m)\u001b[49m\u001b[38;5;241;43m.\u001b[39;49m\u001b[43mexecute\u001b[49m\u001b[43m(\u001b[49m\u001b[43mir\u001b[49m\u001b[43m,\u001b[49m\u001b[43m \u001b[49m\u001b[43mtimed\u001b[49m\u001b[43m)\u001b[49m\n\u001b[1;32m    210\u001b[0m     \u001b[38;5;28;01mexcept\u001b[39;00m \u001b[38;5;167;01mException\u001b[39;00m \u001b[38;5;28;01mas\u001b[39;00m err:\n\u001b[1;32m    211\u001b[0m         \u001b[38;5;28;01mif\u001b[39;00m \u001b[38;5;28mself\u001b[39m\u001b[38;5;241m.\u001b[39m_copy_log_on_error:\n",
      "File \u001b[0;32m/opt/conda/miniconda3/lib/python3.11/site-packages/hail/backend/backend.py:181\u001b[0m, in \u001b[0;36mBackend.execute\u001b[0;34m(self, ir, timed)\u001b[0m\n\u001b[1;32m    179\u001b[0m     result, timings \u001b[38;5;241m=\u001b[39m \u001b[38;5;28mself\u001b[39m\u001b[38;5;241m.\u001b[39m_rpc(ActionTag\u001b[38;5;241m.\u001b[39mEXECUTE, payload)\n\u001b[1;32m    180\u001b[0m \u001b[38;5;28;01mexcept\u001b[39;00m FatalError \u001b[38;5;28;01mas\u001b[39;00m e:\n\u001b[0;32m--> 181\u001b[0m     \u001b[38;5;28;01mraise\u001b[39;00m e\u001b[38;5;241m.\u001b[39mmaybe_user_error(ir) \u001b[38;5;28;01mfrom\u001b[39;00m\u001b[38;5;250m \u001b[39m\u001b[38;5;28;01mNone\u001b[39;00m\n\u001b[1;32m    182\u001b[0m \u001b[38;5;28;01mif\u001b[39;00m ir\u001b[38;5;241m.\u001b[39mtyp \u001b[38;5;241m==\u001b[39m tvoid:\n\u001b[1;32m    183\u001b[0m     value \u001b[38;5;241m=\u001b[39m \u001b[38;5;28;01mNone\u001b[39;00m\n",
      "File \u001b[0;32m/opt/conda/miniconda3/lib/python3.11/site-packages/hail/backend/backend.py:179\u001b[0m, in \u001b[0;36mBackend.execute\u001b[0;34m(self, ir, timed)\u001b[0m\n\u001b[1;32m    177\u001b[0m payload \u001b[38;5;241m=\u001b[39m ExecutePayload(\u001b[38;5;28mself\u001b[39m\u001b[38;5;241m.\u001b[39m_render_ir(ir), \u001b[38;5;124m'\u001b[39m\u001b[38;5;124m{\u001b[39m\u001b[38;5;124m\"\u001b[39m\u001b[38;5;124mname\u001b[39m\u001b[38;5;124m\"\u001b[39m\u001b[38;5;124m:\u001b[39m\u001b[38;5;124m\"\u001b[39m\u001b[38;5;124mStreamBufferSpec\u001b[39m\u001b[38;5;124m\"\u001b[39m\u001b[38;5;124m}\u001b[39m\u001b[38;5;124m'\u001b[39m, timed)\n\u001b[1;32m    178\u001b[0m \u001b[38;5;28;01mtry\u001b[39;00m:\n\u001b[0;32m--> 179\u001b[0m     result, timings \u001b[38;5;241m=\u001b[39m \u001b[38;5;28;43mself\u001b[39;49m\u001b[38;5;241;43m.\u001b[39;49m\u001b[43m_rpc\u001b[49m\u001b[43m(\u001b[49m\u001b[43mActionTag\u001b[49m\u001b[38;5;241;43m.\u001b[39;49m\u001b[43mEXECUTE\u001b[49m\u001b[43m,\u001b[49m\u001b[43m \u001b[49m\u001b[43mpayload\u001b[49m\u001b[43m)\u001b[49m\n\u001b[1;32m    180\u001b[0m \u001b[38;5;28;01mexcept\u001b[39;00m FatalError \u001b[38;5;28;01mas\u001b[39;00m e:\n\u001b[1;32m    181\u001b[0m     \u001b[38;5;28;01mraise\u001b[39;00m e\u001b[38;5;241m.\u001b[39mmaybe_user_error(ir) \u001b[38;5;28;01mfrom\u001b[39;00m\u001b[38;5;250m \u001b[39m\u001b[38;5;28;01mNone\u001b[39;00m\n",
      "File \u001b[0;32m/opt/conda/miniconda3/lib/python3.11/site-packages/hail/backend/py4j_backend.py:232\u001b[0m, in \u001b[0;36mPy4JBackend._rpc\u001b[0;34m(self, action, payload)\u001b[0m\n\u001b[1;32m    230\u001b[0m \u001b[38;5;28;01mif\u001b[39;00m resp\u001b[38;5;241m.\u001b[39mstatus_code \u001b[38;5;241m>\u001b[39m\u001b[38;5;241m=\u001b[39m \u001b[38;5;241m400\u001b[39m:\n\u001b[1;32m    231\u001b[0m     error_json \u001b[38;5;241m=\u001b[39m orjson\u001b[38;5;241m.\u001b[39mloads(resp\u001b[38;5;241m.\u001b[39mcontent)\n\u001b[0;32m--> 232\u001b[0m     \u001b[38;5;28;01mraise\u001b[39;00m fatal_error_from_java_error_triplet(\n\u001b[1;32m    233\u001b[0m         error_json[\u001b[38;5;124m'\u001b[39m\u001b[38;5;124mshort\u001b[39m\u001b[38;5;124m'\u001b[39m], error_json[\u001b[38;5;124m'\u001b[39m\u001b[38;5;124mexpanded\u001b[39m\u001b[38;5;124m'\u001b[39m], error_json[\u001b[38;5;124m'\u001b[39m\u001b[38;5;124merror_id\u001b[39m\u001b[38;5;124m'\u001b[39m]\n\u001b[1;32m    234\u001b[0m     )\n\u001b[1;32m    235\u001b[0m \u001b[38;5;28;01mreturn\u001b[39;00m resp\u001b[38;5;241m.\u001b[39mcontent, parse_timings(resp\u001b[38;5;241m.\u001b[39mheaders\u001b[38;5;241m.\u001b[39mget(\u001b[38;5;124m'\u001b[39m\u001b[38;5;124mX-Hail-Timings\u001b[39m\u001b[38;5;124m'\u001b[39m, \u001b[38;5;28;01mNone\u001b[39;00m))\n",
      "\u001b[0;31mFatalError\u001b[0m: HailException: RelationalSetup.writeMetadata: file already exists: gs://pbn_pilot/proj-PBN/04_rare_SNPs/00_raw_data/04_explode_by_worst_csq_by_gene_canonical.mt\n\nJava stack trace:\nis.hail.utils.HailException: RelationalSetup.writeMetadata: file already exists: gs://pbn_pilot/proj-PBN/04_rare_SNPs/00_raw_data/04_explode_by_worst_csq_by_gene_canonical.mt\n\tat __C4819Compile.__m4823begin_group_0(Emit.scala)\n\tat __C4819Compile.__m4821split_Block(Emit.scala)\n\tat __C4819Compile.apply(Emit.scala)\n\tat is.hail.expr.ir.CompileAndEvaluate$.$anonfun$_apply$3(CompileAndEvaluate.scala:64)\n\tat scala.runtime.java8.JFunction0$mcV$sp.apply(JFunction0$mcV$sp.java:23)\n\tat is.hail.utils.ExecutionTimer.time(ExecutionTimer.scala:98)\n\tat is.hail.backend.ExecuteContext.time(ExecuteContext.scala:187)\n\tat is.hail.expr.ir.CompileAndEvaluate$.$anonfun$_apply$2(CompileAndEvaluate.scala:64)\n\tat is.hail.expr.ir.CompileAndEvaluate$.$anonfun$_apply$2$adapted(CompileAndEvaluate.scala:62)\n\tat is.hail.backend.ExecuteContext.$anonfun$scopedExecution$2(ExecuteContext.scala:166)\n\tat is.hail.utils.ExecutionTimer.time(ExecutionTimer.scala:98)\n\tat is.hail.backend.ExecuteContext.time(ExecuteContext.scala:187)\n\tat is.hail.backend.ExecuteContext.$anonfun$scopedExecution$1(ExecuteContext.scala:165)\n\tat is.hail.utils.package$.using(package.scala:665)\n\tat is.hail.backend.ExecuteContext.scopedExecution(ExecuteContext.scala:164)\n\tat is.hail.expr.ir.CompileAndEvaluate$.$anonfun$_apply$1(CompileAndEvaluate.scala:62)\n\tat is.hail.utils.ExecutionTimer.time(ExecutionTimer.scala:98)\n\tat is.hail.backend.ExecuteContext.time(ExecuteContext.scala:187)\n\tat is.hail.expr.ir.CompileAndEvaluate$._apply(CompileAndEvaluate.scala:47)\n\tat is.hail.expr.ir.CompileAndEvaluate$.evalToIR(CompileAndEvaluate.scala:30)\n\tat is.hail.expr.ir.LowerOrInterpretNonCompilable$.evaluate$1(LowerOrInterpretNonCompilable.scala:31)\n\tat is.hail.expr.ir.LowerOrInterpretNonCompilable$.rewrite$1(LowerOrInterpretNonCompilable.scala:60)\n\tat is.hail.expr.ir.LowerOrInterpretNonCompilable$.apply(LowerOrInterpretNonCompilable.scala:65)\n\tat is.hail.expr.ir.lowering.LowerOrInterpretNonCompilablePass$.transform(LoweringPass.scala:86)\n\tat is.hail.expr.ir.lowering.LoweringPass.$anonfun$apply$3(LoweringPass.scala:37)\n\tat is.hail.utils.ExecutionTimer.time(ExecutionTimer.scala:98)\n\tat is.hail.expr.ir.lowering.LoweringPass.$anonfun$apply$1(LoweringPass.scala:37)\n\tat is.hail.utils.ExecutionTimer.time(ExecutionTimer.scala:98)\n\tat is.hail.expr.ir.lowering.LoweringPass.apply(LoweringPass.scala:35)\n\tat is.hail.expr.ir.lowering.LoweringPass.apply$(LoweringPass.scala:34)\n\tat is.hail.expr.ir.lowering.LowerOrInterpretNonCompilablePass$.apply(LoweringPass.scala:81)\n\tat is.hail.expr.ir.lowering.LoweringPipeline.$anonfun$apply$2(LoweringPipeline.scala:22)\n\tat is.hail.expr.ir.lowering.LoweringPipeline.$anonfun$apply$2$adapted(LoweringPipeline.scala:20)\n\tat scala.collection.mutable.ResizableArray.foreach(ResizableArray.scala:62)\n\tat scala.collection.mutable.ResizableArray.foreach$(ResizableArray.scala:55)\n\tat scala.collection.mutable.ArrayBuffer.foreach(ArrayBuffer.scala:49)\n\tat is.hail.expr.ir.lowering.LoweringPipeline.$anonfun$apply$1(LoweringPipeline.scala:20)\n\tat is.hail.utils.ExecutionTimer.time(ExecutionTimer.scala:98)\n\tat is.hail.backend.ExecuteContext.time(ExecuteContext.scala:187)\n\tat is.hail.expr.ir.lowering.LoweringPipeline.apply(LoweringPipeline.scala:11)\n\tat is.hail.expr.ir.CompileAndEvaluate$.$anonfun$_apply$1(CompileAndEvaluate.scala:48)\n\tat is.hail.utils.ExecutionTimer.time(ExecutionTimer.scala:98)\n\tat is.hail.backend.ExecuteContext.time(ExecuteContext.scala:187)\n\tat is.hail.expr.ir.CompileAndEvaluate$._apply(CompileAndEvaluate.scala:47)\n\tat is.hail.backend.spark.SparkBackend.$anonfun$execute$1(SparkBackend.scala:554)\n\tat is.hail.utils.ExecutionTimer.time(ExecutionTimer.scala:98)\n\tat is.hail.backend.ExecuteContext.time(ExecuteContext.scala:187)\n\tat is.hail.backend.spark.SparkBackend.execute(SparkBackend.scala:543)\n\tat is.hail.backend.BackendHttpHandler.$anonfun$handle$4(BackendServer.scala:93)\n\tat is.hail.utils.package$.using(package.scala:665)\n\tat is.hail.backend.ExecuteContext.local(ExecuteContext.scala:226)\n\tat is.hail.backend.BackendHttpHandler.$anonfun$handle$3(BackendServer.scala:91)\n\tat is.hail.utils.ExecutionTimer$.time(ExecutionTimer.scala:15)\n\tat is.hail.backend.BackendHttpHandler.$anonfun$handle$2(BackendServer.scala:90)\n\tat is.hail.backend.BackendHttpHandler.$anonfun$handle$2$adapted(BackendServer.scala:89)\n\tat is.hail.backend.ExecuteContext$.$anonfun$scoped$3(ExecuteContext.scala:103)\n\tat is.hail.utils.package$.using(package.scala:665)\n\tat is.hail.backend.ExecuteContext$.$anonfun$scoped$2(ExecuteContext.scala:103)\n\tat is.hail.utils.package$.using(package.scala:665)\n\tat is.hail.annotations.RegionPool.scopedRegion(RegionPool.scala:166)\n\tat is.hail.backend.ExecuteContext$.$anonfun$scoped$1(ExecuteContext.scala:85)\n\tat is.hail.utils.package$.using(package.scala:665)\n\tat is.hail.annotations.RegionPool$.scoped(RegionPool.scala:13)\n\tat is.hail.backend.ExecuteContext$.scoped(ExecuteContext.scala:84)\n\tat is.hail.backend.spark.SparkBackend.$anonfun$withExecuteContext$1(SparkBackend.scala:410)\n\tat is.hail.utils.ExecutionTimer$.time(ExecutionTimer.scala:15)\n\tat is.hail.utils.ExecutionTimer$.logTime(ExecutionTimer.scala:22)\n\tat is.hail.backend.spark.SparkBackend.withExecuteContext(SparkBackend.scala:390)\n\tat is.hail.backend.BackendHttpHandler.handle(BackendServer.scala:89)\n\tat jdk.httpserver/com.sun.net.httpserver.Filter$Chain.doFilter(Filter.java:77)\n\tat jdk.httpserver/sun.net.httpserver.AuthFilter.doFilter(AuthFilter.java:82)\n\tat jdk.httpserver/com.sun.net.httpserver.Filter$Chain.doFilter(Filter.java:80)\n\tat jdk.httpserver/sun.net.httpserver.ServerImpl$Exchange$LinkHandler.handle(ServerImpl.java:848)\n\tat jdk.httpserver/com.sun.net.httpserver.Filter$Chain.doFilter(Filter.java:77)\n\tat jdk.httpserver/sun.net.httpserver.ServerImpl$Exchange.run(ServerImpl.java:817)\n\tat jdk.httpserver/sun.net.httpserver.ServerImpl$DefaultExecutor.execute(ServerImpl.java:201)\n\tat jdk.httpserver/sun.net.httpserver.ServerImpl$Dispatcher.handle(ServerImpl.java:560)\n\tat jdk.httpserver/sun.net.httpserver.ServerImpl$Dispatcher.run(ServerImpl.java:526)\n\tat java.base/java.lang.Thread.run(Thread.java:829)\n\n\n\nHail version: 0.2.135-034ef3e08116\nError summary: HailException: RelationalSetup.writeMetadata: file already exists: gs://pbn_pilot/proj-PBN/04_rare_SNPs/00_raw_data/04_explode_by_worst_csq_by_gene_canonical.mt"
     ]
    }
   ],
   "source": [
    "print(\"3. HC loftee from worst_csq_by_gene_canonical ---> Sites: %d\\n\" % (lof_hc.count_rows())) # 41073\n",
    "print(\"4. File saving...\")\n",
    "mt = mt.checkpoint(\"gs://pbn_pilot/proj-PBN/04_rare_SNPs/00_raw_data/04_explode_by_worst_csq_by_gene_canonical.mt\")"
   ]
  },
  {
   "cell_type": "code",
   "execution_count": 11,
   "id": "76290b6b",
   "metadata": {},
   "outputs": [
    {
     "name": "stderr",
     "output_type": "stream",
     "text": [
      "[Stage 3:=================(24 + 4) / 24][Stage 4:===============> (22 + 6) / 24]\r"
     ]
    },
    {
     "data": {
      "text/plain": [
       "(183100, 70)"
      ]
     },
     "execution_count": 11,
     "metadata": {},
     "output_type": "execute_result"
    }
   ],
   "source": [
    "mt = mt.filter_rows(mt.vep.worst_csq_by_gene_canonical.biotype == \"protein_coding\")\n",
    "mt.count() # (4178002, 8966)"
   ]
  },
  {
   "cell_type": "code",
   "execution_count": 12,
   "id": "0509d6e4",
   "metadata": {},
   "outputs": [
    {
     "name": "stderr",
     "output_type": "stream",
     "text": [
      "\r",
      "[Stage 3:=================(24 + 4) / 24][Stage 4:=================(24 + 4) / 24]\r"
     ]
    },
    {
     "data": {
      "text/html": [
       "<table><thead><tr><td style=\"white-space: nowrap; max-width: 500px; overflow: hidden; text-overflow: ellipsis; \" colspan=\"1\"><div style=\"text-align: left;\"></div></td><td style=\"white-space: nowrap; max-width: 500px; overflow: hidden; text-overflow: ellipsis; \" colspan=\"1\"><div style=\"text-align: left;\"></div></td><td style=\"white-space: nowrap; max-width: 500px; overflow: hidden; text-overflow: ellipsis; \" colspan=\"46\"><div style=\"text-align: left;\"></div></td></tr><tr><td style=\"white-space: nowrap; max-width: 500px; overflow: hidden; text-overflow: ellipsis; \" colspan=\"1\"><div style=\"text-align: left;\"></div></td><td style=\"white-space: nowrap; max-width: 500px; overflow: hidden; text-overflow: ellipsis; \" colspan=\"1\"><div style=\"text-align: left;\"></div></td><td style=\"white-space: nowrap; max-width: 500px; overflow: hidden; text-overflow: ellipsis; \" colspan=\"46\"><div style=\"text-align: left;border-bottom: solid 2px #000; padding-bottom: 5px\">&lt;expr&gt;</div></td></tr><tr><td style=\"white-space: nowrap; max-width: 500px; overflow: hidden; text-overflow: ellipsis; \" colspan=\"1\"><div style=\"text-align: left;border-bottom: solid 2px #000; padding-bottom: 5px\">locus</div></td><td style=\"white-space: nowrap; max-width: 500px; overflow: hidden; text-overflow: ellipsis; \" colspan=\"1\"><div style=\"text-align: left;border-bottom: solid 2px #000; padding-bottom: 5px\">alleles</div></td><td style=\"white-space: nowrap; max-width: 500px; overflow: hidden; text-overflow: ellipsis; \" colspan=\"1\"><div style=\"text-align: left;border-bottom: solid 2px #000; padding-bottom: 5px\">allele_num</div></td><td style=\"white-space: nowrap; max-width: 500px; overflow: hidden; text-overflow: ellipsis; \" colspan=\"1\"><div style=\"text-align: left;border-bottom: solid 2px #000; padding-bottom: 5px\">amino_acids</div></td><td style=\"white-space: nowrap; max-width: 500px; overflow: hidden; text-overflow: ellipsis; \" colspan=\"1\"><div style=\"text-align: left;border-bottom: solid 2px #000; padding-bottom: 5px\">appris</div></td><td style=\"white-space: nowrap; max-width: 500px; overflow: hidden; text-overflow: ellipsis; \" colspan=\"1\"><div style=\"text-align: left;border-bottom: solid 2px #000; padding-bottom: 5px\">biotype</div></td><td style=\"white-space: nowrap; max-width: 500px; overflow: hidden; text-overflow: ellipsis; \" colspan=\"1\"><div style=\"text-align: left;border-bottom: solid 2px #000; padding-bottom: 5px\">canonical</div></td><td style=\"white-space: nowrap; max-width: 500px; overflow: hidden; text-overflow: ellipsis; \" colspan=\"1\"><div style=\"text-align: left;border-bottom: solid 2px #000; padding-bottom: 5px\">ccds</div></td><td style=\"white-space: nowrap; max-width: 500px; overflow: hidden; text-overflow: ellipsis; \" colspan=\"1\"><div style=\"text-align: left;border-bottom: solid 2px #000; padding-bottom: 5px\">cdna_start</div></td><td style=\"white-space: nowrap; max-width: 500px; overflow: hidden; text-overflow: ellipsis; \" colspan=\"1\"><div style=\"text-align: left;border-bottom: solid 2px #000; padding-bottom: 5px\">cdna_end</div></td><td style=\"white-space: nowrap; max-width: 500px; overflow: hidden; text-overflow: ellipsis; \" colspan=\"1\"><div style=\"text-align: left;border-bottom: solid 2px #000; padding-bottom: 5px\">cds_end</div></td><td style=\"white-space: nowrap; max-width: 500px; overflow: hidden; text-overflow: ellipsis; \" colspan=\"1\"><div style=\"text-align: left;border-bottom: solid 2px #000; padding-bottom: 5px\">cds_start</div></td><td style=\"white-space: nowrap; max-width: 500px; overflow: hidden; text-overflow: ellipsis; \" colspan=\"1\"><div style=\"text-align: left;border-bottom: solid 2px #000; padding-bottom: 5px\">codons</div></td><td style=\"white-space: nowrap; max-width: 500px; overflow: hidden; text-overflow: ellipsis; \" colspan=\"1\"><div style=\"text-align: left;border-bottom: solid 2px #000; padding-bottom: 5px\">consequence_terms</div></td><td style=\"white-space: nowrap; max-width: 500px; overflow: hidden; text-overflow: ellipsis; \" colspan=\"1\"><div style=\"text-align: left;border-bottom: solid 2px #000; padding-bottom: 5px\">distance</div></td><td style=\"white-space: nowrap; max-width: 500px; overflow: hidden; text-overflow: ellipsis; \" colspan=\"1\"><div style=\"text-align: left;border-bottom: solid 2px #000; padding-bottom: 5px\">domains</div></td><td style=\"white-space: nowrap; max-width: 500px; overflow: hidden; text-overflow: ellipsis; \" colspan=\"1\"><div style=\"text-align: left;border-bottom: solid 2px #000; padding-bottom: 5px\">exon</div></td><td style=\"white-space: nowrap; max-width: 500px; overflow: hidden; text-overflow: ellipsis; \" colspan=\"1\"><div style=\"text-align: left;border-bottom: solid 2px #000; padding-bottom: 5px\">gene_id</div></td><td style=\"white-space: nowrap; max-width: 500px; overflow: hidden; text-overflow: ellipsis; \" colspan=\"1\"><div style=\"text-align: left;border-bottom: solid 2px #000; padding-bottom: 5px\">gene_pheno</div></td><td style=\"white-space: nowrap; max-width: 500px; overflow: hidden; text-overflow: ellipsis; \" colspan=\"1\"><div style=\"text-align: left;border-bottom: solid 2px #000; padding-bottom: 5px\">gene_symbol</div></td><td style=\"white-space: nowrap; max-width: 500px; overflow: hidden; text-overflow: ellipsis; \" colspan=\"1\"><div style=\"text-align: left;border-bottom: solid 2px #000; padding-bottom: 5px\">gene_symbol_source</div></td><td style=\"white-space: nowrap; max-width: 500px; overflow: hidden; text-overflow: ellipsis; \" colspan=\"1\"><div style=\"text-align: left;border-bottom: solid 2px #000; padding-bottom: 5px\">hgnc_id</div></td><td style=\"white-space: nowrap; max-width: 500px; overflow: hidden; text-overflow: ellipsis; \" colspan=\"1\"><div style=\"text-align: left;border-bottom: solid 2px #000; padding-bottom: 5px\">hgvsc</div></td><td style=\"white-space: nowrap; max-width: 500px; overflow: hidden; text-overflow: ellipsis; \" colspan=\"1\"><div style=\"text-align: left;border-bottom: solid 2px #000; padding-bottom: 5px\">hgvsp</div></td><td style=\"white-space: nowrap; max-width: 500px; overflow: hidden; text-overflow: ellipsis; \" colspan=\"1\"><div style=\"text-align: left;border-bottom: solid 2px #000; padding-bottom: 5px\">hgvs_offset</div></td><td style=\"white-space: nowrap; max-width: 500px; overflow: hidden; text-overflow: ellipsis; \" colspan=\"1\"><div style=\"text-align: left;border-bottom: solid 2px #000; padding-bottom: 5px\">impact</div></td><td style=\"white-space: nowrap; max-width: 500px; overflow: hidden; text-overflow: ellipsis; \" colspan=\"1\"><div style=\"text-align: left;border-bottom: solid 2px #000; padding-bottom: 5px\">intron</div></td><td style=\"white-space: nowrap; max-width: 500px; overflow: hidden; text-overflow: ellipsis; \" colspan=\"1\"><div style=\"text-align: left;border-bottom: solid 2px #000; padding-bottom: 5px\">lof</div></td><td style=\"white-space: nowrap; max-width: 500px; overflow: hidden; text-overflow: ellipsis; \" colspan=\"1\"><div style=\"text-align: left;border-bottom: solid 2px #000; padding-bottom: 5px\">lof_flags</div></td><td style=\"white-space: nowrap; max-width: 500px; overflow: hidden; text-overflow: ellipsis; \" colspan=\"1\"><div style=\"text-align: left;border-bottom: solid 2px #000; padding-bottom: 5px\">lof_filter</div></td><td style=\"white-space: nowrap; max-width: 500px; overflow: hidden; text-overflow: ellipsis; \" colspan=\"1\"><div style=\"text-align: left;border-bottom: solid 2px #000; padding-bottom: 5px\">lof_info</div></td><td style=\"white-space: nowrap; max-width: 500px; overflow: hidden; text-overflow: ellipsis; \" colspan=\"1\"><div style=\"text-align: left;border-bottom: solid 2px #000; padding-bottom: 5px\">minimised</div></td><td style=\"white-space: nowrap; max-width: 500px; overflow: hidden; text-overflow: ellipsis; \" colspan=\"1\"><div style=\"text-align: left;border-bottom: solid 2px #000; padding-bottom: 5px\">polyphen_prediction</div></td><td style=\"white-space: nowrap; max-width: 500px; overflow: hidden; text-overflow: ellipsis; \" colspan=\"1\"><div style=\"text-align: left;border-bottom: solid 2px #000; padding-bottom: 5px\">polyphen_score</div></td><td style=\"white-space: nowrap; max-width: 500px; overflow: hidden; text-overflow: ellipsis; \" colspan=\"1\"><div style=\"text-align: left;border-bottom: solid 2px #000; padding-bottom: 5px\">protein_end</div></td><td style=\"white-space: nowrap; max-width: 500px; overflow: hidden; text-overflow: ellipsis; \" colspan=\"1\"><div style=\"text-align: left;border-bottom: solid 2px #000; padding-bottom: 5px\">protein_start</div></td><td style=\"white-space: nowrap; max-width: 500px; overflow: hidden; text-overflow: ellipsis; \" colspan=\"1\"><div style=\"text-align: left;border-bottom: solid 2px #000; padding-bottom: 5px\">protein_id</div></td><td style=\"white-space: nowrap; max-width: 500px; overflow: hidden; text-overflow: ellipsis; \" colspan=\"1\"><div style=\"text-align: left;border-bottom: solid 2px #000; padding-bottom: 5px\">sift_prediction</div></td><td style=\"white-space: nowrap; max-width: 500px; overflow: hidden; text-overflow: ellipsis; \" colspan=\"1\"><div style=\"text-align: left;border-bottom: solid 2px #000; padding-bottom: 5px\">sift_score</div></td><td style=\"white-space: nowrap; max-width: 500px; overflow: hidden; text-overflow: ellipsis; \" colspan=\"1\"><div style=\"text-align: left;border-bottom: solid 2px #000; padding-bottom: 5px\">strand</div></td><td style=\"white-space: nowrap; max-width: 500px; overflow: hidden; text-overflow: ellipsis; \" colspan=\"1\"><div style=\"text-align: left;border-bottom: solid 2px #000; padding-bottom: 5px\">swissprot</div></td><td style=\"white-space: nowrap; max-width: 500px; overflow: hidden; text-overflow: ellipsis; \" colspan=\"1\"><div style=\"text-align: left;border-bottom: solid 2px #000; padding-bottom: 5px\">transcript_id</div></td><td style=\"white-space: nowrap; max-width: 500px; overflow: hidden; text-overflow: ellipsis; \" colspan=\"1\"><div style=\"text-align: left;border-bottom: solid 2px #000; padding-bottom: 5px\">trembl</div></td><td style=\"white-space: nowrap; max-width: 500px; overflow: hidden; text-overflow: ellipsis; \" colspan=\"1\"><div style=\"text-align: left;border-bottom: solid 2px #000; padding-bottom: 5px\">tsl</div></td><td style=\"white-space: nowrap; max-width: 500px; overflow: hidden; text-overflow: ellipsis; \" colspan=\"1\"><div style=\"text-align: left;border-bottom: solid 2px #000; padding-bottom: 5px\">uniparc</div></td><td style=\"white-space: nowrap; max-width: 500px; overflow: hidden; text-overflow: ellipsis; \" colspan=\"1\"><div style=\"text-align: left;border-bottom: solid 2px #000; padding-bottom: 5px\">variant_allele</div></td><td style=\"white-space: nowrap; max-width: 500px; overflow: hidden; text-overflow: ellipsis; \" colspan=\"1\"><div style=\"text-align: left;border-bottom: solid 2px #000; padding-bottom: 5px\">most_severe_consequence</div></td><td style=\"white-space: nowrap; max-width: 500px; overflow: hidden; text-overflow: ellipsis; \" colspan=\"1\"><div style=\"text-align: left;border-bottom: solid 2px #000; padding-bottom: 5px\">csq_score</div></td></tr><tr><td style=\"white-space: nowrap; max-width: 500px; overflow: hidden; text-overflow: ellipsis; text-align: left;\">locus&lt;GRCh38&gt;</td><td style=\"white-space: nowrap; max-width: 500px; overflow: hidden; text-overflow: ellipsis; text-align: left;\">array&lt;str&gt;</td><td style=\"white-space: nowrap; max-width: 500px; overflow: hidden; text-overflow: ellipsis; text-align: left;\">int32</td><td style=\"white-space: nowrap; max-width: 500px; overflow: hidden; text-overflow: ellipsis; text-align: left;\">str</td><td style=\"white-space: nowrap; max-width: 500px; overflow: hidden; text-overflow: ellipsis; text-align: left;\">str</td><td style=\"white-space: nowrap; max-width: 500px; overflow: hidden; text-overflow: ellipsis; text-align: left;\">str</td><td style=\"white-space: nowrap; max-width: 500px; overflow: hidden; text-overflow: ellipsis; text-align: left;\">int32</td><td style=\"white-space: nowrap; max-width: 500px; overflow: hidden; text-overflow: ellipsis; text-align: left;\">str</td><td style=\"white-space: nowrap; max-width: 500px; overflow: hidden; text-overflow: ellipsis; text-align: left;\">int32</td><td style=\"white-space: nowrap; max-width: 500px; overflow: hidden; text-overflow: ellipsis; text-align: left;\">int32</td><td style=\"white-space: nowrap; max-width: 500px; overflow: hidden; text-overflow: ellipsis; text-align: left;\">int32</td><td style=\"white-space: nowrap; max-width: 500px; overflow: hidden; text-overflow: ellipsis; text-align: left;\">int32</td><td style=\"white-space: nowrap; max-width: 500px; overflow: hidden; text-overflow: ellipsis; text-align: left;\">str</td><td style=\"white-space: nowrap; max-width: 500px; overflow: hidden; text-overflow: ellipsis; text-align: left;\">array&lt;str&gt;</td><td style=\"white-space: nowrap; max-width: 500px; overflow: hidden; text-overflow: ellipsis; text-align: left;\">int32</td><td style=\"white-space: nowrap; max-width: 500px; overflow: hidden; text-overflow: ellipsis; text-align: left;\">array&lt;struct{db: str, name: str}&gt;</td><td style=\"white-space: nowrap; max-width: 500px; overflow: hidden; text-overflow: ellipsis; text-align: left;\">str</td><td style=\"white-space: nowrap; max-width: 500px; overflow: hidden; text-overflow: ellipsis; text-align: left;\">str</td><td style=\"white-space: nowrap; max-width: 500px; overflow: hidden; text-overflow: ellipsis; text-align: left;\">int32</td><td style=\"white-space: nowrap; max-width: 500px; overflow: hidden; text-overflow: ellipsis; text-align: left;\">str</td><td style=\"white-space: nowrap; max-width: 500px; overflow: hidden; text-overflow: ellipsis; text-align: left;\">str</td><td style=\"white-space: nowrap; max-width: 500px; overflow: hidden; text-overflow: ellipsis; text-align: left;\">str</td><td style=\"white-space: nowrap; max-width: 500px; overflow: hidden; text-overflow: ellipsis; text-align: left;\">str</td><td style=\"white-space: nowrap; max-width: 500px; overflow: hidden; text-overflow: ellipsis; text-align: left;\">str</td><td style=\"white-space: nowrap; max-width: 500px; overflow: hidden; text-overflow: ellipsis; text-align: left;\">int32</td><td style=\"white-space: nowrap; max-width: 500px; overflow: hidden; text-overflow: ellipsis; text-align: left;\">str</td><td style=\"white-space: nowrap; max-width: 500px; overflow: hidden; text-overflow: ellipsis; text-align: left;\">str</td><td style=\"white-space: nowrap; max-width: 500px; overflow: hidden; text-overflow: ellipsis; text-align: left;\">str</td><td style=\"white-space: nowrap; max-width: 500px; overflow: hidden; text-overflow: ellipsis; text-align: left;\">str</td><td style=\"white-space: nowrap; max-width: 500px; overflow: hidden; text-overflow: ellipsis; text-align: left;\">str</td><td style=\"white-space: nowrap; max-width: 500px; overflow: hidden; text-overflow: ellipsis; text-align: left;\">str</td><td style=\"white-space: nowrap; max-width: 500px; overflow: hidden; text-overflow: ellipsis; text-align: left;\">int32</td><td style=\"white-space: nowrap; max-width: 500px; overflow: hidden; text-overflow: ellipsis; text-align: left;\">str</td><td style=\"white-space: nowrap; max-width: 500px; overflow: hidden; text-overflow: ellipsis; text-align: left;\">float64</td><td style=\"white-space: nowrap; max-width: 500px; overflow: hidden; text-overflow: ellipsis; text-align: left;\">int32</td><td style=\"white-space: nowrap; max-width: 500px; overflow: hidden; text-overflow: ellipsis; text-align: left;\">int32</td><td style=\"white-space: nowrap; max-width: 500px; overflow: hidden; text-overflow: ellipsis; text-align: left;\">str</td><td style=\"white-space: nowrap; max-width: 500px; overflow: hidden; text-overflow: ellipsis; text-align: left;\">str</td><td style=\"white-space: nowrap; max-width: 500px; overflow: hidden; text-overflow: ellipsis; text-align: left;\">float64</td><td style=\"white-space: nowrap; max-width: 500px; overflow: hidden; text-overflow: ellipsis; text-align: left;\">int32</td><td style=\"white-space: nowrap; max-width: 500px; overflow: hidden; text-overflow: ellipsis; text-align: left;\">str</td><td style=\"white-space: nowrap; max-width: 500px; overflow: hidden; text-overflow: ellipsis; text-align: left;\">str</td><td style=\"white-space: nowrap; max-width: 500px; overflow: hidden; text-overflow: ellipsis; text-align: left;\">str</td><td style=\"white-space: nowrap; max-width: 500px; overflow: hidden; text-overflow: ellipsis; text-align: left;\">int32</td><td style=\"white-space: nowrap; max-width: 500px; overflow: hidden; text-overflow: ellipsis; text-align: left;\">str</td><td style=\"white-space: nowrap; max-width: 500px; overflow: hidden; text-overflow: ellipsis; text-align: left;\">str</td><td style=\"white-space: nowrap; max-width: 500px; overflow: hidden; text-overflow: ellipsis; text-align: left;\">str</td><td style=\"white-space: nowrap; max-width: 500px; overflow: hidden; text-overflow: ellipsis; text-align: left;\">float64</td></tr>\n",
       "</thead><tbody><tr><td style=\"white-space: nowrap; max-width: 500px; overflow: hidden; text-overflow: ellipsis; \">chr1:930204</td><td style=\"white-space: nowrap; max-width: 500px; overflow: hidden; text-overflow: ellipsis; \">[&quot;G&quot;,&quot;A&quot;]</td><td style=\"white-space: nowrap; max-width: 500px; overflow: hidden; text-overflow: ellipsis; \">1</td><td style=\"white-space: nowrap; max-width: 500px; overflow: hidden; text-overflow: ellipsis; \">&quot;R/Q&quot;</td><td style=\"white-space: nowrap; max-width: 500px; overflow: hidden; text-overflow: ellipsis; \">&quot;P2&quot;</td><td style=\"white-space: nowrap; max-width: 500px; overflow: hidden; text-overflow: ellipsis; \">&quot;protein_coding&quot;</td><td style=\"white-space: nowrap; max-width: 500px; overflow: hidden; text-overflow: ellipsis; \">1</td><td style=\"white-space: nowrap; max-width: 500px; overflow: hidden; text-overflow: ellipsis; \">&quot;CCDS2.2&quot;</td><td style=\"white-space: nowrap; max-width: 500px; overflow: hidden; text-overflow: ellipsis; \">205</td><td style=\"white-space: nowrap; max-width: 500px; overflow: hidden; text-overflow: ellipsis; \">205</td><td style=\"white-space: nowrap; max-width: 500px; overflow: hidden; text-overflow: ellipsis; \">122</td><td style=\"white-space: nowrap; max-width: 500px; overflow: hidden; text-overflow: ellipsis; \">122</td><td style=\"white-space: nowrap; max-width: 500px; overflow: hidden; text-overflow: ellipsis; \">&quot;cGg/cAg&quot;</td><td style=\"white-space: nowrap; max-width: 500px; overflow: hidden; text-overflow: ellipsis; \">[&quot;missense_variant&quot;]</td><td style=\"white-space: nowrap; max-width: 500px; overflow: hidden; text-overflow: ellipsis; \">NA</td><td style=\"white-space: nowrap; max-width: 500px; overflow: hidden; text-overflow: ellipsis; \">[(&quot;hmmpanther&quot;,&quot;PTHR12247&quot;),(&quot;hmmpanther&quot;,&quot;PTHR12247&quot;)]</td><td style=\"white-space: nowrap; max-width: 500px; overflow: hidden; text-overflow: ellipsis; \">&quot;3/14&quot;</td><td style=\"white-space: nowrap; max-width: 500px; overflow: hidden; text-overflow: ellipsis; \">&quot;ENSG00000187634&quot;</td><td style=\"white-space: nowrap; max-width: 500px; overflow: hidden; text-overflow: ellipsis; \">NA</td><td style=\"white-space: nowrap; max-width: 500px; overflow: hidden; text-overflow: ellipsis; \">&quot;SAMD11&quot;</td><td style=\"white-space: nowrap; max-width: 500px; overflow: hidden; text-overflow: ellipsis; \">&quot;HGNC&quot;</td><td style=\"white-space: nowrap; max-width: 500px; overflow: hidden; text-overflow: ellipsis; \">&quot;HGNC:28706&quot;</td><td style=\"white-space: nowrap; max-width: 500px; overflow: hidden; text-overflow: ellipsis; \">&quot;ENST00000342066.7:c.122G&gt;A&quot;</td><td style=\"white-space: nowrap; max-width: 500px; overflow: hidden; text-overflow: ellipsis; \">&quot;ENSP00000342313.3:p.Arg41Gln&quot;</td><td style=\"white-space: nowrap; max-width: 500px; overflow: hidden; text-overflow: ellipsis; \">NA</td><td style=\"white-space: nowrap; max-width: 500px; overflow: hidden; text-overflow: ellipsis; \">&quot;MODERATE&quot;</td><td style=\"white-space: nowrap; max-width: 500px; overflow: hidden; text-overflow: ellipsis; \">NA</td><td style=\"white-space: nowrap; max-width: 500px; overflow: hidden; text-overflow: ellipsis; \">NA</td><td style=\"white-space: nowrap; max-width: 500px; overflow: hidden; text-overflow: ellipsis; \">NA</td><td style=\"white-space: nowrap; max-width: 500px; overflow: hidden; text-overflow: ellipsis; \">NA</td><td style=\"white-space: nowrap; max-width: 500px; overflow: hidden; text-overflow: ellipsis; \">NA</td><td style=\"white-space: nowrap; max-width: 500px; overflow: hidden; text-overflow: ellipsis; \">NA</td><td style=\"white-space: nowrap; max-width: 500px; overflow: hidden; text-overflow: ellipsis; \">&quot;possibly_damaging&quot;</td><td style=\"white-space: nowrap; max-width: 500px; overflow: hidden; text-overflow: ellipsis; \">8.86e-01</td><td style=\"white-space: nowrap; max-width: 500px; overflow: hidden; text-overflow: ellipsis; \">41</td><td style=\"white-space: nowrap; max-width: 500px; overflow: hidden; text-overflow: ellipsis; \">41</td><td style=\"white-space: nowrap; max-width: 500px; overflow: hidden; text-overflow: ellipsis; \">&quot;ENSP00000342313&quot;</td><td style=\"white-space: nowrap; max-width: 500px; overflow: hidden; text-overflow: ellipsis; \">&quot;deleterious&quot;</td><td style=\"white-space: nowrap; max-width: 500px; overflow: hidden; text-overflow: ellipsis; \">1.00e-02</td><td style=\"white-space: nowrap; max-width: 500px; overflow: hidden; text-overflow: ellipsis; \">1</td><td style=\"white-space: nowrap; max-width: 500px; overflow: hidden; text-overflow: ellipsis; \">NA</td><td style=\"white-space: nowrap; max-width: 500px; overflow: hidden; text-overflow: ellipsis; \">&quot;ENST00000342066&quot;</td><td style=\"white-space: nowrap; max-width: 500px; overflow: hidden; text-overflow: ellipsis; \">NA</td><td style=\"white-space: nowrap; max-width: 500px; overflow: hidden; text-overflow: ellipsis; \">5</td><td style=\"white-space: nowrap; max-width: 500px; overflow: hidden; text-overflow: ellipsis; \">NA</td><td style=\"white-space: nowrap; max-width: 500px; overflow: hidden; text-overflow: ellipsis; \">&quot;A&quot;</td><td style=\"white-space: nowrap; max-width: 500px; overflow: hidden; text-overflow: ellipsis; \">&quot;missense_variant&quot;</td><td style=\"white-space: nowrap; max-width: 500px; overflow: hidden; text-overflow: ellipsis; \">1.08e+01</td></tr>\n",
       "<tr><td style=\"white-space: nowrap; max-width: 500px; overflow: hidden; text-overflow: ellipsis; \">chr1:930245</td><td style=\"white-space: nowrap; max-width: 500px; overflow: hidden; text-overflow: ellipsis; \">[&quot;G&quot;,&quot;A&quot;]</td><td style=\"white-space: nowrap; max-width: 500px; overflow: hidden; text-overflow: ellipsis; \">1</td><td style=\"white-space: nowrap; max-width: 500px; overflow: hidden; text-overflow: ellipsis; \">&quot;D/N&quot;</td><td style=\"white-space: nowrap; max-width: 500px; overflow: hidden; text-overflow: ellipsis; \">&quot;P2&quot;</td><td style=\"white-space: nowrap; max-width: 500px; overflow: hidden; text-overflow: ellipsis; \">&quot;protein_coding&quot;</td><td style=\"white-space: nowrap; max-width: 500px; overflow: hidden; text-overflow: ellipsis; \">1</td><td style=\"white-space: nowrap; max-width: 500px; overflow: hidden; text-overflow: ellipsis; \">&quot;CCDS2.2&quot;</td><td style=\"white-space: nowrap; max-width: 500px; overflow: hidden; text-overflow: ellipsis; \">246</td><td style=\"white-space: nowrap; max-width: 500px; overflow: hidden; text-overflow: ellipsis; \">246</td><td style=\"white-space: nowrap; max-width: 500px; overflow: hidden; text-overflow: ellipsis; \">163</td><td style=\"white-space: nowrap; max-width: 500px; overflow: hidden; text-overflow: ellipsis; \">163</td><td style=\"white-space: nowrap; max-width: 500px; overflow: hidden; text-overflow: ellipsis; \">&quot;Gat/Aat&quot;</td><td style=\"white-space: nowrap; max-width: 500px; overflow: hidden; text-overflow: ellipsis; \">[&quot;missense_variant&quot;]</td><td style=\"white-space: nowrap; max-width: 500px; overflow: hidden; text-overflow: ellipsis; \">NA</td><td style=\"white-space: nowrap; max-width: 500px; overflow: hidden; text-overflow: ellipsis; \">[(&quot;hmmpanther&quot;,&quot;PTHR12247&quot;),(&quot;hmmpanther&quot;,&quot;PTHR12247&quot;),(&quot;hmmpanther&quot;,&quot;PTHR12247&quot;)]</td><td style=\"white-space: nowrap; max-width: 500px; overflow: hidden; text-overflow: ellipsis; \">&quot;3/14&quot;</td><td style=\"white-space: nowrap; max-width: 500px; overflow: hidden; text-overflow: ellipsis; \">&quot;ENSG00000187634&quot;</td><td style=\"white-space: nowrap; max-width: 500px; overflow: hidden; text-overflow: ellipsis; \">NA</td><td style=\"white-space: nowrap; max-width: 500px; overflow: hidden; text-overflow: ellipsis; \">&quot;SAMD11&quot;</td><td style=\"white-space: nowrap; max-width: 500px; overflow: hidden; text-overflow: ellipsis; \">&quot;HGNC&quot;</td><td style=\"white-space: nowrap; max-width: 500px; overflow: hidden; text-overflow: ellipsis; \">&quot;HGNC:28706&quot;</td><td style=\"white-space: nowrap; max-width: 500px; overflow: hidden; text-overflow: ellipsis; \">&quot;ENST00000342066.7:c.163G&gt;A&quot;</td><td style=\"white-space: nowrap; max-width: 500px; overflow: hidden; text-overflow: ellipsis; \">&quot;ENSP00000342313.3:p.Asp55Asn&quot;</td><td style=\"white-space: nowrap; max-width: 500px; overflow: hidden; text-overflow: ellipsis; \">NA</td><td style=\"white-space: nowrap; max-width: 500px; overflow: hidden; text-overflow: ellipsis; \">&quot;MODERATE&quot;</td><td style=\"white-space: nowrap; max-width: 500px; overflow: hidden; text-overflow: ellipsis; \">NA</td><td style=\"white-space: nowrap; max-width: 500px; overflow: hidden; text-overflow: ellipsis; \">NA</td><td style=\"white-space: nowrap; max-width: 500px; overflow: hidden; text-overflow: ellipsis; \">NA</td><td style=\"white-space: nowrap; max-width: 500px; overflow: hidden; text-overflow: ellipsis; \">NA</td><td style=\"white-space: nowrap; max-width: 500px; overflow: hidden; text-overflow: ellipsis; \">NA</td><td style=\"white-space: nowrap; max-width: 500px; overflow: hidden; text-overflow: ellipsis; \">NA</td><td style=\"white-space: nowrap; max-width: 500px; overflow: hidden; text-overflow: ellipsis; \">&quot;possibly_damaging&quot;</td><td style=\"white-space: nowrap; max-width: 500px; overflow: hidden; text-overflow: ellipsis; \">4.68e-01</td><td style=\"white-space: nowrap; max-width: 500px; overflow: hidden; text-overflow: ellipsis; \">55</td><td style=\"white-space: nowrap; max-width: 500px; overflow: hidden; text-overflow: ellipsis; \">55</td><td style=\"white-space: nowrap; max-width: 500px; overflow: hidden; text-overflow: ellipsis; \">&quot;ENSP00000342313&quot;</td><td style=\"white-space: nowrap; max-width: 500px; overflow: hidden; text-overflow: ellipsis; \">&quot;deleterious_low_confidence&quot;</td><td style=\"white-space: nowrap; max-width: 500px; overflow: hidden; text-overflow: ellipsis; \">0.00e+00</td><td style=\"white-space: nowrap; max-width: 500px; overflow: hidden; text-overflow: ellipsis; \">1</td><td style=\"white-space: nowrap; max-width: 500px; overflow: hidden; text-overflow: ellipsis; \">NA</td><td style=\"white-space: nowrap; max-width: 500px; overflow: hidden; text-overflow: ellipsis; \">&quot;ENST00000342066&quot;</td><td style=\"white-space: nowrap; max-width: 500px; overflow: hidden; text-overflow: ellipsis; \">NA</td><td style=\"white-space: nowrap; max-width: 500px; overflow: hidden; text-overflow: ellipsis; \">5</td><td style=\"white-space: nowrap; max-width: 500px; overflow: hidden; text-overflow: ellipsis; \">NA</td><td style=\"white-space: nowrap; max-width: 500px; overflow: hidden; text-overflow: ellipsis; \">&quot;A&quot;</td><td style=\"white-space: nowrap; max-width: 500px; overflow: hidden; text-overflow: ellipsis; \">&quot;missense_variant&quot;</td><td style=\"white-space: nowrap; max-width: 500px; overflow: hidden; text-overflow: ellipsis; \">1.08e+01</td></tr>\n",
       "<tr><td style=\"white-space: nowrap; max-width: 500px; overflow: hidden; text-overflow: ellipsis; \">chr1:930285</td><td style=\"white-space: nowrap; max-width: 500px; overflow: hidden; text-overflow: ellipsis; \">[&quot;G&quot;,&quot;A&quot;]</td><td style=\"white-space: nowrap; max-width: 500px; overflow: hidden; text-overflow: ellipsis; \">1</td><td style=\"white-space: nowrap; max-width: 500px; overflow: hidden; text-overflow: ellipsis; \">&quot;R/Q&quot;</td><td style=\"white-space: nowrap; max-width: 500px; overflow: hidden; text-overflow: ellipsis; \">&quot;P2&quot;</td><td style=\"white-space: nowrap; max-width: 500px; overflow: hidden; text-overflow: ellipsis; \">&quot;protein_coding&quot;</td><td style=\"white-space: nowrap; max-width: 500px; overflow: hidden; text-overflow: ellipsis; \">1</td><td style=\"white-space: nowrap; max-width: 500px; overflow: hidden; text-overflow: ellipsis; \">&quot;CCDS2.2&quot;</td><td style=\"white-space: nowrap; max-width: 500px; overflow: hidden; text-overflow: ellipsis; \">286</td><td style=\"white-space: nowrap; max-width: 500px; overflow: hidden; text-overflow: ellipsis; \">286</td><td style=\"white-space: nowrap; max-width: 500px; overflow: hidden; text-overflow: ellipsis; \">203</td><td style=\"white-space: nowrap; max-width: 500px; overflow: hidden; text-overflow: ellipsis; \">203</td><td style=\"white-space: nowrap; max-width: 500px; overflow: hidden; text-overflow: ellipsis; \">&quot;cGg/cAg&quot;</td><td style=\"white-space: nowrap; max-width: 500px; overflow: hidden; text-overflow: ellipsis; \">[&quot;missense_variant&quot;]</td><td style=\"white-space: nowrap; max-width: 500px; overflow: hidden; text-overflow: ellipsis; \">NA</td><td style=\"white-space: nowrap; max-width: 500px; overflow: hidden; text-overflow: ellipsis; \">[(&quot;hmmpanther&quot;,&quot;PTHR12247&quot;),(&quot;hmmpanther&quot;,&quot;PTHR12247&quot;)]</td><td style=\"white-space: nowrap; max-width: 500px; overflow: hidden; text-overflow: ellipsis; \">&quot;3/14&quot;</td><td style=\"white-space: nowrap; max-width: 500px; overflow: hidden; text-overflow: ellipsis; \">&quot;ENSG00000187634&quot;</td><td style=\"white-space: nowrap; max-width: 500px; overflow: hidden; text-overflow: ellipsis; \">NA</td><td style=\"white-space: nowrap; max-width: 500px; overflow: hidden; text-overflow: ellipsis; \">&quot;SAMD11&quot;</td><td style=\"white-space: nowrap; max-width: 500px; overflow: hidden; text-overflow: ellipsis; \">&quot;HGNC&quot;</td><td style=\"white-space: nowrap; max-width: 500px; overflow: hidden; text-overflow: ellipsis; \">&quot;HGNC:28706&quot;</td><td style=\"white-space: nowrap; max-width: 500px; overflow: hidden; text-overflow: ellipsis; \">&quot;ENST00000342066.7:c.203G&gt;A&quot;</td><td style=\"white-space: nowrap; max-width: 500px; overflow: hidden; text-overflow: ellipsis; \">&quot;ENSP00000342313.3:p.Arg68Gln&quot;</td><td style=\"white-space: nowrap; max-width: 500px; overflow: hidden; text-overflow: ellipsis; \">NA</td><td style=\"white-space: nowrap; max-width: 500px; overflow: hidden; text-overflow: ellipsis; \">&quot;MODERATE&quot;</td><td style=\"white-space: nowrap; max-width: 500px; overflow: hidden; text-overflow: ellipsis; \">NA</td><td style=\"white-space: nowrap; max-width: 500px; overflow: hidden; text-overflow: ellipsis; \">NA</td><td style=\"white-space: nowrap; max-width: 500px; overflow: hidden; text-overflow: ellipsis; \">NA</td><td style=\"white-space: nowrap; max-width: 500px; overflow: hidden; text-overflow: ellipsis; \">NA</td><td style=\"white-space: nowrap; max-width: 500px; overflow: hidden; text-overflow: ellipsis; \">NA</td><td style=\"white-space: nowrap; max-width: 500px; overflow: hidden; text-overflow: ellipsis; \">NA</td><td style=\"white-space: nowrap; max-width: 500px; overflow: hidden; text-overflow: ellipsis; \">&quot;benign&quot;</td><td style=\"white-space: nowrap; max-width: 500px; overflow: hidden; text-overflow: ellipsis; \">1.00e-03</td><td style=\"white-space: nowrap; max-width: 500px; overflow: hidden; text-overflow: ellipsis; \">68</td><td style=\"white-space: nowrap; max-width: 500px; overflow: hidden; text-overflow: ellipsis; \">68</td><td style=\"white-space: nowrap; max-width: 500px; overflow: hidden; text-overflow: ellipsis; \">&quot;ENSP00000342313&quot;</td><td style=\"white-space: nowrap; max-width: 500px; overflow: hidden; text-overflow: ellipsis; \">&quot;tolerated&quot;</td><td style=\"white-space: nowrap; max-width: 500px; overflow: hidden; text-overflow: ellipsis; \">3.40e-01</td><td style=\"white-space: nowrap; max-width: 500px; overflow: hidden; text-overflow: ellipsis; \">1</td><td style=\"white-space: nowrap; max-width: 500px; overflow: hidden; text-overflow: ellipsis; \">NA</td><td style=\"white-space: nowrap; max-width: 500px; overflow: hidden; text-overflow: ellipsis; \">&quot;ENST00000342066&quot;</td><td style=\"white-space: nowrap; max-width: 500px; overflow: hidden; text-overflow: ellipsis; \">NA</td><td style=\"white-space: nowrap; max-width: 500px; overflow: hidden; text-overflow: ellipsis; \">5</td><td style=\"white-space: nowrap; max-width: 500px; overflow: hidden; text-overflow: ellipsis; \">NA</td><td style=\"white-space: nowrap; max-width: 500px; overflow: hidden; text-overflow: ellipsis; \">&quot;A&quot;</td><td style=\"white-space: nowrap; max-width: 500px; overflow: hidden; text-overflow: ellipsis; \">&quot;missense_variant&quot;</td><td style=\"white-space: nowrap; max-width: 500px; overflow: hidden; text-overflow: ellipsis; \">1.09e+01</td></tr>\n",
       "<tr><td style=\"white-space: nowrap; max-width: 500px; overflow: hidden; text-overflow: ellipsis; \">chr1:930314</td><td style=\"white-space: nowrap; max-width: 500px; overflow: hidden; text-overflow: ellipsis; \">[&quot;C&quot;,&quot;T&quot;]</td><td style=\"white-space: nowrap; max-width: 500px; overflow: hidden; text-overflow: ellipsis; \">1</td><td style=\"white-space: nowrap; max-width: 500px; overflow: hidden; text-overflow: ellipsis; \">&quot;H/Y&quot;</td><td style=\"white-space: nowrap; max-width: 500px; overflow: hidden; text-overflow: ellipsis; \">&quot;P2&quot;</td><td style=\"white-space: nowrap; max-width: 500px; overflow: hidden; text-overflow: ellipsis; \">&quot;protein_coding&quot;</td><td style=\"white-space: nowrap; max-width: 500px; overflow: hidden; text-overflow: ellipsis; \">1</td><td style=\"white-space: nowrap; max-width: 500px; overflow: hidden; text-overflow: ellipsis; \">&quot;CCDS2.2&quot;</td><td style=\"white-space: nowrap; max-width: 500px; overflow: hidden; text-overflow: ellipsis; \">315</td><td style=\"white-space: nowrap; max-width: 500px; overflow: hidden; text-overflow: ellipsis; \">315</td><td style=\"white-space: nowrap; max-width: 500px; overflow: hidden; text-overflow: ellipsis; \">232</td><td style=\"white-space: nowrap; max-width: 500px; overflow: hidden; text-overflow: ellipsis; \">232</td><td style=\"white-space: nowrap; max-width: 500px; overflow: hidden; text-overflow: ellipsis; \">&quot;Cac/Tac&quot;</td><td style=\"white-space: nowrap; max-width: 500px; overflow: hidden; text-overflow: ellipsis; \">[&quot;missense_variant&quot;]</td><td style=\"white-space: nowrap; max-width: 500px; overflow: hidden; text-overflow: ellipsis; \">NA</td><td style=\"white-space: nowrap; max-width: 500px; overflow: hidden; text-overflow: ellipsis; \">[(&quot;hmmpanther&quot;,&quot;PTHR12247&quot;),(&quot;hmmpanther&quot;,&quot;PTHR12247&quot;)]</td><td style=\"white-space: nowrap; max-width: 500px; overflow: hidden; text-overflow: ellipsis; \">&quot;3/14&quot;</td><td style=\"white-space: nowrap; max-width: 500px; overflow: hidden; text-overflow: ellipsis; \">&quot;ENSG00000187634&quot;</td><td style=\"white-space: nowrap; max-width: 500px; overflow: hidden; text-overflow: ellipsis; \">NA</td><td style=\"white-space: nowrap; max-width: 500px; overflow: hidden; text-overflow: ellipsis; \">&quot;SAMD11&quot;</td><td style=\"white-space: nowrap; max-width: 500px; overflow: hidden; text-overflow: ellipsis; \">&quot;HGNC&quot;</td><td style=\"white-space: nowrap; max-width: 500px; overflow: hidden; text-overflow: ellipsis; \">&quot;HGNC:28706&quot;</td><td style=\"white-space: nowrap; max-width: 500px; overflow: hidden; text-overflow: ellipsis; \">&quot;ENST00000342066.7:c.232C&gt;T&quot;</td><td style=\"white-space: nowrap; max-width: 500px; overflow: hidden; text-overflow: ellipsis; \">&quot;ENSP00000342313.3:p.His78Tyr&quot;</td><td style=\"white-space: nowrap; max-width: 500px; overflow: hidden; text-overflow: ellipsis; \">NA</td><td style=\"white-space: nowrap; max-width: 500px; overflow: hidden; text-overflow: ellipsis; \">&quot;MODERATE&quot;</td><td style=\"white-space: nowrap; max-width: 500px; overflow: hidden; text-overflow: ellipsis; \">NA</td><td style=\"white-space: nowrap; max-width: 500px; overflow: hidden; text-overflow: ellipsis; \">NA</td><td style=\"white-space: nowrap; max-width: 500px; overflow: hidden; text-overflow: ellipsis; \">NA</td><td style=\"white-space: nowrap; max-width: 500px; overflow: hidden; text-overflow: ellipsis; \">NA</td><td style=\"white-space: nowrap; max-width: 500px; overflow: hidden; text-overflow: ellipsis; \">NA</td><td style=\"white-space: nowrap; max-width: 500px; overflow: hidden; text-overflow: ellipsis; \">NA</td><td style=\"white-space: nowrap; max-width: 500px; overflow: hidden; text-overflow: ellipsis; \">&quot;possibly_damaging&quot;</td><td style=\"white-space: nowrap; max-width: 500px; overflow: hidden; text-overflow: ellipsis; \">6.37e-01</td><td style=\"white-space: nowrap; max-width: 500px; overflow: hidden; text-overflow: ellipsis; \">78</td><td style=\"white-space: nowrap; max-width: 500px; overflow: hidden; text-overflow: ellipsis; \">78</td><td style=\"white-space: nowrap; max-width: 500px; overflow: hidden; text-overflow: ellipsis; \">&quot;ENSP00000342313&quot;</td><td style=\"white-space: nowrap; max-width: 500px; overflow: hidden; text-overflow: ellipsis; \">&quot;deleterious&quot;</td><td style=\"white-space: nowrap; max-width: 500px; overflow: hidden; text-overflow: ellipsis; \">4.00e-02</td><td style=\"white-space: nowrap; max-width: 500px; overflow: hidden; text-overflow: ellipsis; \">1</td><td style=\"white-space: nowrap; max-width: 500px; overflow: hidden; text-overflow: ellipsis; \">NA</td><td style=\"white-space: nowrap; max-width: 500px; overflow: hidden; text-overflow: ellipsis; \">&quot;ENST00000342066&quot;</td><td style=\"white-space: nowrap; max-width: 500px; overflow: hidden; text-overflow: ellipsis; \">NA</td><td style=\"white-space: nowrap; max-width: 500px; overflow: hidden; text-overflow: ellipsis; \">5</td><td style=\"white-space: nowrap; max-width: 500px; overflow: hidden; text-overflow: ellipsis; \">NA</td><td style=\"white-space: nowrap; max-width: 500px; overflow: hidden; text-overflow: ellipsis; \">&quot;T&quot;</td><td style=\"white-space: nowrap; max-width: 500px; overflow: hidden; text-overflow: ellipsis; \">&quot;missense_variant&quot;</td><td style=\"white-space: nowrap; max-width: 500px; overflow: hidden; text-overflow: ellipsis; \">1.08e+01</td></tr>\n",
       "<tr><td style=\"white-space: nowrap; max-width: 500px; overflow: hidden; text-overflow: ellipsis; \">chr1:930320</td><td style=\"white-space: nowrap; max-width: 500px; overflow: hidden; text-overflow: ellipsis; \">[&quot;C&quot;,&quot;T&quot;]</td><td style=\"white-space: nowrap; max-width: 500px; overflow: hidden; text-overflow: ellipsis; \">1</td><td style=\"white-space: nowrap; max-width: 500px; overflow: hidden; text-overflow: ellipsis; \">&quot;R/C&quot;</td><td style=\"white-space: nowrap; max-width: 500px; overflow: hidden; text-overflow: ellipsis; \">&quot;P2&quot;</td><td style=\"white-space: nowrap; max-width: 500px; overflow: hidden; text-overflow: ellipsis; \">&quot;protein_coding&quot;</td><td style=\"white-space: nowrap; max-width: 500px; overflow: hidden; text-overflow: ellipsis; \">1</td><td style=\"white-space: nowrap; max-width: 500px; overflow: hidden; text-overflow: ellipsis; \">&quot;CCDS2.2&quot;</td><td style=\"white-space: nowrap; max-width: 500px; overflow: hidden; text-overflow: ellipsis; \">321</td><td style=\"white-space: nowrap; max-width: 500px; overflow: hidden; text-overflow: ellipsis; \">321</td><td style=\"white-space: nowrap; max-width: 500px; overflow: hidden; text-overflow: ellipsis; \">238</td><td style=\"white-space: nowrap; max-width: 500px; overflow: hidden; text-overflow: ellipsis; \">238</td><td style=\"white-space: nowrap; max-width: 500px; overflow: hidden; text-overflow: ellipsis; \">&quot;Cgt/Tgt&quot;</td><td style=\"white-space: nowrap; max-width: 500px; overflow: hidden; text-overflow: ellipsis; \">[&quot;missense_variant&quot;]</td><td style=\"white-space: nowrap; max-width: 500px; overflow: hidden; text-overflow: ellipsis; \">NA</td><td style=\"white-space: nowrap; max-width: 500px; overflow: hidden; text-overflow: ellipsis; \">[(&quot;hmmpanther&quot;,&quot;PTHR12247&quot;),(&quot;hmmpanther&quot;,&quot;PTHR12247&quot;)]</td><td style=\"white-space: nowrap; max-width: 500px; overflow: hidden; text-overflow: ellipsis; \">&quot;3/14&quot;</td><td style=\"white-space: nowrap; max-width: 500px; overflow: hidden; text-overflow: ellipsis; \">&quot;ENSG00000187634&quot;</td><td style=\"white-space: nowrap; max-width: 500px; overflow: hidden; text-overflow: ellipsis; \">NA</td><td style=\"white-space: nowrap; max-width: 500px; overflow: hidden; text-overflow: ellipsis; \">&quot;SAMD11&quot;</td><td style=\"white-space: nowrap; max-width: 500px; overflow: hidden; text-overflow: ellipsis; \">&quot;HGNC&quot;</td><td style=\"white-space: nowrap; max-width: 500px; overflow: hidden; text-overflow: ellipsis; \">&quot;HGNC:28706&quot;</td><td style=\"white-space: nowrap; max-width: 500px; overflow: hidden; text-overflow: ellipsis; \">&quot;ENST00000342066.7:c.238C&gt;T&quot;</td><td style=\"white-space: nowrap; max-width: 500px; overflow: hidden; text-overflow: ellipsis; \">&quot;ENSP00000342313.3:p.Arg80Cys&quot;</td><td style=\"white-space: nowrap; max-width: 500px; overflow: hidden; text-overflow: ellipsis; \">NA</td><td style=\"white-space: nowrap; max-width: 500px; overflow: hidden; text-overflow: ellipsis; \">&quot;MODERATE&quot;</td><td style=\"white-space: nowrap; max-width: 500px; overflow: hidden; text-overflow: ellipsis; \">NA</td><td style=\"white-space: nowrap; max-width: 500px; overflow: hidden; text-overflow: ellipsis; \">NA</td><td style=\"white-space: nowrap; max-width: 500px; overflow: hidden; text-overflow: ellipsis; \">NA</td><td style=\"white-space: nowrap; max-width: 500px; overflow: hidden; text-overflow: ellipsis; \">NA</td><td style=\"white-space: nowrap; max-width: 500px; overflow: hidden; text-overflow: ellipsis; \">NA</td><td style=\"white-space: nowrap; max-width: 500px; overflow: hidden; text-overflow: ellipsis; \">NA</td><td style=\"white-space: nowrap; max-width: 500px; overflow: hidden; text-overflow: ellipsis; \">&quot;benign&quot;</td><td style=\"white-space: nowrap; max-width: 500px; overflow: hidden; text-overflow: ellipsis; \">3.32e-01</td><td style=\"white-space: nowrap; max-width: 500px; overflow: hidden; text-overflow: ellipsis; \">80</td><td style=\"white-space: nowrap; max-width: 500px; overflow: hidden; text-overflow: ellipsis; \">80</td><td style=\"white-space: nowrap; max-width: 500px; overflow: hidden; text-overflow: ellipsis; \">&quot;ENSP00000342313&quot;</td><td style=\"white-space: nowrap; max-width: 500px; overflow: hidden; text-overflow: ellipsis; \">&quot;deleterious&quot;</td><td style=\"white-space: nowrap; max-width: 500px; overflow: hidden; text-overflow: ellipsis; \">5.00e-02</td><td style=\"white-space: nowrap; max-width: 500px; overflow: hidden; text-overflow: ellipsis; \">1</td><td style=\"white-space: nowrap; max-width: 500px; overflow: hidden; text-overflow: ellipsis; \">NA</td><td style=\"white-space: nowrap; max-width: 500px; overflow: hidden; text-overflow: ellipsis; \">&quot;ENST00000342066&quot;</td><td style=\"white-space: nowrap; max-width: 500px; overflow: hidden; text-overflow: ellipsis; \">NA</td><td style=\"white-space: nowrap; max-width: 500px; overflow: hidden; text-overflow: ellipsis; \">5</td><td style=\"white-space: nowrap; max-width: 500px; overflow: hidden; text-overflow: ellipsis; \">NA</td><td style=\"white-space: nowrap; max-width: 500px; overflow: hidden; text-overflow: ellipsis; \">&quot;T&quot;</td><td style=\"white-space: nowrap; max-width: 500px; overflow: hidden; text-overflow: ellipsis; \">&quot;missense_variant&quot;</td><td style=\"white-space: nowrap; max-width: 500px; overflow: hidden; text-overflow: ellipsis; \">1.09e+01</td></tr>\n",
       "<tr><td style=\"white-space: nowrap; max-width: 500px; overflow: hidden; text-overflow: ellipsis; \">chr1:935835</td><td style=\"white-space: nowrap; max-width: 500px; overflow: hidden; text-overflow: ellipsis; \">[&quot;C&quot;,&quot;G&quot;]</td><td style=\"white-space: nowrap; max-width: 500px; overflow: hidden; text-overflow: ellipsis; \">1</td><td style=\"white-space: nowrap; max-width: 500px; overflow: hidden; text-overflow: ellipsis; \">&quot;P&quot;</td><td style=\"white-space: nowrap; max-width: 500px; overflow: hidden; text-overflow: ellipsis; \">&quot;P2&quot;</td><td style=\"white-space: nowrap; max-width: 500px; overflow: hidden; text-overflow: ellipsis; \">&quot;protein_coding&quot;</td><td style=\"white-space: nowrap; max-width: 500px; overflow: hidden; text-overflow: ellipsis; \">1</td><td style=\"white-space: nowrap; max-width: 500px; overflow: hidden; text-overflow: ellipsis; \">&quot;CCDS2.2&quot;</td><td style=\"white-space: nowrap; max-width: 500px; overflow: hidden; text-overflow: ellipsis; \">452</td><td style=\"white-space: nowrap; max-width: 500px; overflow: hidden; text-overflow: ellipsis; \">452</td><td style=\"white-space: nowrap; max-width: 500px; overflow: hidden; text-overflow: ellipsis; \">369</td><td style=\"white-space: nowrap; max-width: 500px; overflow: hidden; text-overflow: ellipsis; \">369</td><td style=\"white-space: nowrap; max-width: 500px; overflow: hidden; text-overflow: ellipsis; \">&quot;ccC/ccG&quot;</td><td style=\"white-space: nowrap; max-width: 500px; overflow: hidden; text-overflow: ellipsis; \">[&quot;synonymous_variant&quot;]</td><td style=\"white-space: nowrap; max-width: 500px; overflow: hidden; text-overflow: ellipsis; \">NA</td><td style=\"white-space: nowrap; max-width: 500px; overflow: hidden; text-overflow: ellipsis; \">[(&quot;hmmpanther&quot;,&quot;PTHR12247&quot;),(&quot;hmmpanther&quot;,&quot;PTHR12247&quot;)]</td><td style=\"white-space: nowrap; max-width: 500px; overflow: hidden; text-overflow: ellipsis; \">&quot;5/14&quot;</td><td style=\"white-space: nowrap; max-width: 500px; overflow: hidden; text-overflow: ellipsis; \">&quot;ENSG00000187634&quot;</td><td style=\"white-space: nowrap; max-width: 500px; overflow: hidden; text-overflow: ellipsis; \">NA</td><td style=\"white-space: nowrap; max-width: 500px; overflow: hidden; text-overflow: ellipsis; \">&quot;SAMD11&quot;</td><td style=\"white-space: nowrap; max-width: 500px; overflow: hidden; text-overflow: ellipsis; \">&quot;HGNC&quot;</td><td style=\"white-space: nowrap; max-width: 500px; overflow: hidden; text-overflow: ellipsis; \">&quot;HGNC:28706&quot;</td><td style=\"white-space: nowrap; max-width: 500px; overflow: hidden; text-overflow: ellipsis; \">&quot;ENST00000342066.7:c.369C&gt;G&quot;</td><td style=\"white-space: nowrap; max-width: 500px; overflow: hidden; text-overflow: ellipsis; \">&quot;ENSP00000342313.3:p.Pro123=&quot;</td><td style=\"white-space: nowrap; max-width: 500px; overflow: hidden; text-overflow: ellipsis; \">NA</td><td style=\"white-space: nowrap; max-width: 500px; overflow: hidden; text-overflow: ellipsis; \">&quot;LOW&quot;</td><td style=\"white-space: nowrap; max-width: 500px; overflow: hidden; text-overflow: ellipsis; \">NA</td><td style=\"white-space: nowrap; max-width: 500px; overflow: hidden; text-overflow: ellipsis; \">NA</td><td style=\"white-space: nowrap; max-width: 500px; overflow: hidden; text-overflow: ellipsis; \">NA</td><td style=\"white-space: nowrap; max-width: 500px; overflow: hidden; text-overflow: ellipsis; \">NA</td><td style=\"white-space: nowrap; max-width: 500px; overflow: hidden; text-overflow: ellipsis; \">NA</td><td style=\"white-space: nowrap; max-width: 500px; overflow: hidden; text-overflow: ellipsis; \">NA</td><td style=\"white-space: nowrap; max-width: 500px; overflow: hidden; text-overflow: ellipsis; \">NA</td><td style=\"white-space: nowrap; max-width: 500px; overflow: hidden; text-overflow: ellipsis; \">NA</td><td style=\"white-space: nowrap; max-width: 500px; overflow: hidden; text-overflow: ellipsis; \">123</td><td style=\"white-space: nowrap; max-width: 500px; overflow: hidden; text-overflow: ellipsis; \">123</td><td style=\"white-space: nowrap; max-width: 500px; overflow: hidden; text-overflow: ellipsis; \">&quot;ENSP00000342313&quot;</td><td style=\"white-space: nowrap; max-width: 500px; overflow: hidden; text-overflow: ellipsis; \">NA</td><td style=\"white-space: nowrap; max-width: 500px; overflow: hidden; text-overflow: ellipsis; \">NA</td><td style=\"white-space: nowrap; max-width: 500px; overflow: hidden; text-overflow: ellipsis; \">1</td><td style=\"white-space: nowrap; max-width: 500px; overflow: hidden; text-overflow: ellipsis; \">NA</td><td style=\"white-space: nowrap; max-width: 500px; overflow: hidden; text-overflow: ellipsis; \">&quot;ENST00000342066&quot;</td><td style=\"white-space: nowrap; max-width: 500px; overflow: hidden; text-overflow: ellipsis; \">NA</td><td style=\"white-space: nowrap; max-width: 500px; overflow: hidden; text-overflow: ellipsis; \">5</td><td style=\"white-space: nowrap; max-width: 500px; overflow: hidden; text-overflow: ellipsis; \">NA</td><td style=\"white-space: nowrap; max-width: 500px; overflow: hidden; text-overflow: ellipsis; \">&quot;G&quot;</td><td style=\"white-space: nowrap; max-width: 500px; overflow: hidden; text-overflow: ellipsis; \">&quot;synonymous_variant&quot;</td><td style=\"white-space: nowrap; max-width: 500px; overflow: hidden; text-overflow: ellipsis; \">2.00e+01</td></tr>\n",
       "<tr><td style=\"white-space: nowrap; max-width: 500px; overflow: hidden; text-overflow: ellipsis; \">chr1:935836</td><td style=\"white-space: nowrap; max-width: 500px; overflow: hidden; text-overflow: ellipsis; \">[&quot;G&quot;,&quot;A&quot;]</td><td style=\"white-space: nowrap; max-width: 500px; overflow: hidden; text-overflow: ellipsis; \">1</td><td style=\"white-space: nowrap; max-width: 500px; overflow: hidden; text-overflow: ellipsis; \">&quot;E/K&quot;</td><td style=\"white-space: nowrap; max-width: 500px; overflow: hidden; text-overflow: ellipsis; \">&quot;P2&quot;</td><td style=\"white-space: nowrap; max-width: 500px; overflow: hidden; text-overflow: ellipsis; \">&quot;protein_coding&quot;</td><td style=\"white-space: nowrap; max-width: 500px; overflow: hidden; text-overflow: ellipsis; \">1</td><td style=\"white-space: nowrap; max-width: 500px; overflow: hidden; text-overflow: ellipsis; \">&quot;CCDS2.2&quot;</td><td style=\"white-space: nowrap; max-width: 500px; overflow: hidden; text-overflow: ellipsis; \">453</td><td style=\"white-space: nowrap; max-width: 500px; overflow: hidden; text-overflow: ellipsis; \">453</td><td style=\"white-space: nowrap; max-width: 500px; overflow: hidden; text-overflow: ellipsis; \">370</td><td style=\"white-space: nowrap; max-width: 500px; overflow: hidden; text-overflow: ellipsis; \">370</td><td style=\"white-space: nowrap; max-width: 500px; overflow: hidden; text-overflow: ellipsis; \">&quot;Gag/Aag&quot;</td><td style=\"white-space: nowrap; max-width: 500px; overflow: hidden; text-overflow: ellipsis; \">[&quot;missense_variant&quot;]</td><td style=\"white-space: nowrap; max-width: 500px; overflow: hidden; text-overflow: ellipsis; \">NA</td><td style=\"white-space: nowrap; max-width: 500px; overflow: hidden; text-overflow: ellipsis; \">[(&quot;hmmpanther&quot;,&quot;PTHR12247&quot;),(&quot;hmmpanther&quot;,&quot;PTHR12247&quot;)]</td><td style=\"white-space: nowrap; max-width: 500px; overflow: hidden; text-overflow: ellipsis; \">&quot;5/14&quot;</td><td style=\"white-space: nowrap; max-width: 500px; overflow: hidden; text-overflow: ellipsis; \">&quot;ENSG00000187634&quot;</td><td style=\"white-space: nowrap; max-width: 500px; overflow: hidden; text-overflow: ellipsis; \">NA</td><td style=\"white-space: nowrap; max-width: 500px; overflow: hidden; text-overflow: ellipsis; \">&quot;SAMD11&quot;</td><td style=\"white-space: nowrap; max-width: 500px; overflow: hidden; text-overflow: ellipsis; \">&quot;HGNC&quot;</td><td style=\"white-space: nowrap; max-width: 500px; overflow: hidden; text-overflow: ellipsis; \">&quot;HGNC:28706&quot;</td><td style=\"white-space: nowrap; max-width: 500px; overflow: hidden; text-overflow: ellipsis; \">&quot;ENST00000342066.7:c.370G&gt;A&quot;</td><td style=\"white-space: nowrap; max-width: 500px; overflow: hidden; text-overflow: ellipsis; \">&quot;ENSP00000342313.3:p.Glu124Lys&quot;</td><td style=\"white-space: nowrap; max-width: 500px; overflow: hidden; text-overflow: ellipsis; \">NA</td><td style=\"white-space: nowrap; max-width: 500px; overflow: hidden; text-overflow: ellipsis; \">&quot;MODERATE&quot;</td><td style=\"white-space: nowrap; max-width: 500px; overflow: hidden; text-overflow: ellipsis; \">NA</td><td style=\"white-space: nowrap; max-width: 500px; overflow: hidden; text-overflow: ellipsis; \">NA</td><td style=\"white-space: nowrap; max-width: 500px; overflow: hidden; text-overflow: ellipsis; \">NA</td><td style=\"white-space: nowrap; max-width: 500px; overflow: hidden; text-overflow: ellipsis; \">NA</td><td style=\"white-space: nowrap; max-width: 500px; overflow: hidden; text-overflow: ellipsis; \">NA</td><td style=\"white-space: nowrap; max-width: 500px; overflow: hidden; text-overflow: ellipsis; \">NA</td><td style=\"white-space: nowrap; max-width: 500px; overflow: hidden; text-overflow: ellipsis; \">&quot;benign&quot;</td><td style=\"white-space: nowrap; max-width: 500px; overflow: hidden; text-overflow: ellipsis; \">2.00e-02</td><td style=\"white-space: nowrap; max-width: 500px; overflow: hidden; text-overflow: ellipsis; \">124</td><td style=\"white-space: nowrap; max-width: 500px; overflow: hidden; text-overflow: ellipsis; \">124</td><td style=\"white-space: nowrap; max-width: 500px; overflow: hidden; text-overflow: ellipsis; \">&quot;ENSP00000342313&quot;</td><td style=\"white-space: nowrap; max-width: 500px; overflow: hidden; text-overflow: ellipsis; \">&quot;deleterious&quot;</td><td style=\"white-space: nowrap; max-width: 500px; overflow: hidden; text-overflow: ellipsis; \">0.00e+00</td><td style=\"white-space: nowrap; max-width: 500px; overflow: hidden; text-overflow: ellipsis; \">1</td><td style=\"white-space: nowrap; max-width: 500px; overflow: hidden; text-overflow: ellipsis; \">NA</td><td style=\"white-space: nowrap; max-width: 500px; overflow: hidden; text-overflow: ellipsis; \">&quot;ENST00000342066&quot;</td><td style=\"white-space: nowrap; max-width: 500px; overflow: hidden; text-overflow: ellipsis; \">NA</td><td style=\"white-space: nowrap; max-width: 500px; overflow: hidden; text-overflow: ellipsis; \">5</td><td style=\"white-space: nowrap; max-width: 500px; overflow: hidden; text-overflow: ellipsis; \">NA</td><td style=\"white-space: nowrap; max-width: 500px; overflow: hidden; text-overflow: ellipsis; \">&quot;A&quot;</td><td style=\"white-space: nowrap; max-width: 500px; overflow: hidden; text-overflow: ellipsis; \">&quot;missense_variant&quot;</td><td style=\"white-space: nowrap; max-width: 500px; overflow: hidden; text-overflow: ellipsis; \">1.09e+01</td></tr>\n",
       "<tr><td style=\"white-space: nowrap; max-width: 500px; overflow: hidden; text-overflow: ellipsis; \">chr1:939121</td><td style=\"white-space: nowrap; max-width: 500px; overflow: hidden; text-overflow: ellipsis; \">[&quot;C&quot;,&quot;T&quot;]</td><td style=\"white-space: nowrap; max-width: 500px; overflow: hidden; text-overflow: ellipsis; \">1</td><td style=\"white-space: nowrap; max-width: 500px; overflow: hidden; text-overflow: ellipsis; \">&quot;S/L&quot;</td><td style=\"white-space: nowrap; max-width: 500px; overflow: hidden; text-overflow: ellipsis; \">&quot;P2&quot;</td><td style=\"white-space: nowrap; max-width: 500px; overflow: hidden; text-overflow: ellipsis; \">&quot;protein_coding&quot;</td><td style=\"white-space: nowrap; max-width: 500px; overflow: hidden; text-overflow: ellipsis; \">1</td><td style=\"white-space: nowrap; max-width: 500px; overflow: hidden; text-overflow: ellipsis; \">&quot;CCDS2.2&quot;</td><td style=\"white-space: nowrap; max-width: 500px; overflow: hidden; text-overflow: ellipsis; \">595</td><td style=\"white-space: nowrap; max-width: 500px; overflow: hidden; text-overflow: ellipsis; \">595</td><td style=\"white-space: nowrap; max-width: 500px; overflow: hidden; text-overflow: ellipsis; \">512</td><td style=\"white-space: nowrap; max-width: 500px; overflow: hidden; text-overflow: ellipsis; \">512</td><td style=\"white-space: nowrap; max-width: 500px; overflow: hidden; text-overflow: ellipsis; \">&quot;tCg/tTg&quot;</td><td style=\"white-space: nowrap; max-width: 500px; overflow: hidden; text-overflow: ellipsis; \">[&quot;missense_variant&quot;]</td><td style=\"white-space: nowrap; max-width: 500px; overflow: hidden; text-overflow: ellipsis; \">NA</td><td style=\"white-space: nowrap; max-width: 500px; overflow: hidden; text-overflow: ellipsis; \">[(&quot;hmmpanther&quot;,&quot;PTHR12247&quot;),(&quot;hmmpanther&quot;,&quot;PTHR12247&quot;)]</td><td style=\"white-space: nowrap; max-width: 500px; overflow: hidden; text-overflow: ellipsis; \">&quot;6/14&quot;</td><td style=\"white-space: nowrap; max-width: 500px; overflow: hidden; text-overflow: ellipsis; \">&quot;ENSG00000187634&quot;</td><td style=\"white-space: nowrap; max-width: 500px; overflow: hidden; text-overflow: ellipsis; \">NA</td><td style=\"white-space: nowrap; max-width: 500px; overflow: hidden; text-overflow: ellipsis; \">&quot;SAMD11&quot;</td><td style=\"white-space: nowrap; max-width: 500px; overflow: hidden; text-overflow: ellipsis; \">&quot;HGNC&quot;</td><td style=\"white-space: nowrap; max-width: 500px; overflow: hidden; text-overflow: ellipsis; \">&quot;HGNC:28706&quot;</td><td style=\"white-space: nowrap; max-width: 500px; overflow: hidden; text-overflow: ellipsis; \">&quot;ENST00000342066.7:c.512C&gt;T&quot;</td><td style=\"white-space: nowrap; max-width: 500px; overflow: hidden; text-overflow: ellipsis; \">&quot;ENSP00000342313.3:p.Ser171Leu&quot;</td><td style=\"white-space: nowrap; max-width: 500px; overflow: hidden; text-overflow: ellipsis; \">NA</td><td style=\"white-space: nowrap; max-width: 500px; overflow: hidden; text-overflow: ellipsis; \">&quot;MODERATE&quot;</td><td style=\"white-space: nowrap; max-width: 500px; overflow: hidden; text-overflow: ellipsis; \">NA</td><td style=\"white-space: nowrap; max-width: 500px; overflow: hidden; text-overflow: ellipsis; \">NA</td><td style=\"white-space: nowrap; max-width: 500px; overflow: hidden; text-overflow: ellipsis; \">NA</td><td style=\"white-space: nowrap; max-width: 500px; overflow: hidden; text-overflow: ellipsis; \">NA</td><td style=\"white-space: nowrap; max-width: 500px; overflow: hidden; text-overflow: ellipsis; \">NA</td><td style=\"white-space: nowrap; max-width: 500px; overflow: hidden; text-overflow: ellipsis; \">NA</td><td style=\"white-space: nowrap; max-width: 500px; overflow: hidden; text-overflow: ellipsis; \">&quot;benign&quot;</td><td style=\"white-space: nowrap; max-width: 500px; overflow: hidden; text-overflow: ellipsis; \">1.64e-01</td><td style=\"white-space: nowrap; max-width: 500px; overflow: hidden; text-overflow: ellipsis; \">171</td><td style=\"white-space: nowrap; max-width: 500px; overflow: hidden; text-overflow: ellipsis; \">171</td><td style=\"white-space: nowrap; max-width: 500px; overflow: hidden; text-overflow: ellipsis; \">&quot;ENSP00000342313&quot;</td><td style=\"white-space: nowrap; max-width: 500px; overflow: hidden; text-overflow: ellipsis; \">&quot;deleterious&quot;</td><td style=\"white-space: nowrap; max-width: 500px; overflow: hidden; text-overflow: ellipsis; \">0.00e+00</td><td style=\"white-space: nowrap; max-width: 500px; overflow: hidden; text-overflow: ellipsis; \">1</td><td style=\"white-space: nowrap; max-width: 500px; overflow: hidden; text-overflow: ellipsis; \">NA</td><td style=\"white-space: nowrap; max-width: 500px; overflow: hidden; text-overflow: ellipsis; \">&quot;ENST00000342066&quot;</td><td style=\"white-space: nowrap; max-width: 500px; overflow: hidden; text-overflow: ellipsis; \">NA</td><td style=\"white-space: nowrap; max-width: 500px; overflow: hidden; text-overflow: ellipsis; \">5</td><td style=\"white-space: nowrap; max-width: 500px; overflow: hidden; text-overflow: ellipsis; \">NA</td><td style=\"white-space: nowrap; max-width: 500px; overflow: hidden; text-overflow: ellipsis; \">&quot;T&quot;</td><td style=\"white-space: nowrap; max-width: 500px; overflow: hidden; text-overflow: ellipsis; \">&quot;missense_variant&quot;</td><td style=\"white-space: nowrap; max-width: 500px; overflow: hidden; text-overflow: ellipsis; \">1.09e+01</td></tr>\n",
       "<tr><td style=\"white-space: nowrap; max-width: 500px; overflow: hidden; text-overflow: ellipsis; \">chr1:939285</td><td style=\"white-space: nowrap; max-width: 500px; overflow: hidden; text-overflow: ellipsis; \">[&quot;G&quot;,&quot;A&quot;]</td><td style=\"white-space: nowrap; max-width: 500px; overflow: hidden; text-overflow: ellipsis; \">1</td><td style=\"white-space: nowrap; max-width: 500px; overflow: hidden; text-overflow: ellipsis; \">&quot;L&quot;</td><td style=\"white-space: nowrap; max-width: 500px; overflow: hidden; text-overflow: ellipsis; \">&quot;P2&quot;</td><td style=\"white-space: nowrap; max-width: 500px; overflow: hidden; text-overflow: ellipsis; \">&quot;protein_coding&quot;</td><td style=\"white-space: nowrap; max-width: 500px; overflow: hidden; text-overflow: ellipsis; \">1</td><td style=\"white-space: nowrap; max-width: 500px; overflow: hidden; text-overflow: ellipsis; \">&quot;CCDS2.2&quot;</td><td style=\"white-space: nowrap; max-width: 500px; overflow: hidden; text-overflow: ellipsis; \">614</td><td style=\"white-space: nowrap; max-width: 500px; overflow: hidden; text-overflow: ellipsis; \">614</td><td style=\"white-space: nowrap; max-width: 500px; overflow: hidden; text-overflow: ellipsis; \">531</td><td style=\"white-space: nowrap; max-width: 500px; overflow: hidden; text-overflow: ellipsis; \">531</td><td style=\"white-space: nowrap; max-width: 500px; overflow: hidden; text-overflow: ellipsis; \">&quot;ctG/ctA&quot;</td><td style=\"white-space: nowrap; max-width: 500px; overflow: hidden; text-overflow: ellipsis; \">[&quot;synonymous_variant&quot;]</td><td style=\"white-space: nowrap; max-width: 500px; overflow: hidden; text-overflow: ellipsis; \">NA</td><td style=\"white-space: nowrap; max-width: 500px; overflow: hidden; text-overflow: ellipsis; \">[(&quot;hmmpanther&quot;,&quot;PTHR12247&quot;),(&quot;hmmpanther&quot;,&quot;PTHR12247&quot;)]</td><td style=\"white-space: nowrap; max-width: 500px; overflow: hidden; text-overflow: ellipsis; \">&quot;7/14&quot;</td><td style=\"white-space: nowrap; max-width: 500px; overflow: hidden; text-overflow: ellipsis; \">&quot;ENSG00000187634&quot;</td><td style=\"white-space: nowrap; max-width: 500px; overflow: hidden; text-overflow: ellipsis; \">NA</td><td style=\"white-space: nowrap; max-width: 500px; overflow: hidden; text-overflow: ellipsis; \">&quot;SAMD11&quot;</td><td style=\"white-space: nowrap; max-width: 500px; overflow: hidden; text-overflow: ellipsis; \">&quot;HGNC&quot;</td><td style=\"white-space: nowrap; max-width: 500px; overflow: hidden; text-overflow: ellipsis; \">&quot;HGNC:28706&quot;</td><td style=\"white-space: nowrap; max-width: 500px; overflow: hidden; text-overflow: ellipsis; \">&quot;ENST00000342066.7:c.531G&gt;A&quot;</td><td style=\"white-space: nowrap; max-width: 500px; overflow: hidden; text-overflow: ellipsis; \">&quot;ENSP00000342313.3:p.Leu177=&quot;</td><td style=\"white-space: nowrap; max-width: 500px; overflow: hidden; text-overflow: ellipsis; \">NA</td><td style=\"white-space: nowrap; max-width: 500px; overflow: hidden; text-overflow: ellipsis; \">&quot;LOW&quot;</td><td style=\"white-space: nowrap; max-width: 500px; overflow: hidden; text-overflow: ellipsis; \">NA</td><td style=\"white-space: nowrap; max-width: 500px; overflow: hidden; text-overflow: ellipsis; \">NA</td><td style=\"white-space: nowrap; max-width: 500px; overflow: hidden; text-overflow: ellipsis; \">NA</td><td style=\"white-space: nowrap; max-width: 500px; overflow: hidden; text-overflow: ellipsis; \">NA</td><td style=\"white-space: nowrap; max-width: 500px; overflow: hidden; text-overflow: ellipsis; \">NA</td><td style=\"white-space: nowrap; max-width: 500px; overflow: hidden; text-overflow: ellipsis; \">NA</td><td style=\"white-space: nowrap; max-width: 500px; overflow: hidden; text-overflow: ellipsis; \">NA</td><td style=\"white-space: nowrap; max-width: 500px; overflow: hidden; text-overflow: ellipsis; \">NA</td><td style=\"white-space: nowrap; max-width: 500px; overflow: hidden; text-overflow: ellipsis; \">177</td><td style=\"white-space: nowrap; max-width: 500px; overflow: hidden; text-overflow: ellipsis; \">177</td><td style=\"white-space: nowrap; max-width: 500px; overflow: hidden; text-overflow: ellipsis; \">&quot;ENSP00000342313&quot;</td><td style=\"white-space: nowrap; max-width: 500px; overflow: hidden; text-overflow: ellipsis; \">NA</td><td style=\"white-space: nowrap; max-width: 500px; overflow: hidden; text-overflow: ellipsis; \">NA</td><td style=\"white-space: nowrap; max-width: 500px; overflow: hidden; text-overflow: ellipsis; \">1</td><td style=\"white-space: nowrap; max-width: 500px; overflow: hidden; text-overflow: ellipsis; \">NA</td><td style=\"white-space: nowrap; max-width: 500px; overflow: hidden; text-overflow: ellipsis; \">&quot;ENST00000342066&quot;</td><td style=\"white-space: nowrap; max-width: 500px; overflow: hidden; text-overflow: ellipsis; \">NA</td><td style=\"white-space: nowrap; max-width: 500px; overflow: hidden; text-overflow: ellipsis; \">5</td><td style=\"white-space: nowrap; max-width: 500px; overflow: hidden; text-overflow: ellipsis; \">NA</td><td style=\"white-space: nowrap; max-width: 500px; overflow: hidden; text-overflow: ellipsis; \">&quot;A&quot;</td><td style=\"white-space: nowrap; max-width: 500px; overflow: hidden; text-overflow: ellipsis; \">&quot;synonymous_variant&quot;</td><td style=\"white-space: nowrap; max-width: 500px; overflow: hidden; text-overflow: ellipsis; \">2.00e+01</td></tr>\n",
       "<tr><td style=\"white-space: nowrap; max-width: 500px; overflow: hidden; text-overflow: ellipsis; \">chr1:939285</td><td style=\"white-space: nowrap; max-width: 500px; overflow: hidden; text-overflow: ellipsis; \">[&quot;G&quot;,&quot;A&quot;]</td><td style=\"white-space: nowrap; max-width: 500px; overflow: hidden; text-overflow: ellipsis; \">1</td><td style=\"white-space: nowrap; max-width: 500px; overflow: hidden; text-overflow: ellipsis; \">NA</td><td style=\"white-space: nowrap; max-width: 500px; overflow: hidden; text-overflow: ellipsis; \">&quot;P1&quot;</td><td style=\"white-space: nowrap; max-width: 500px; overflow: hidden; text-overflow: ellipsis; \">&quot;protein_coding&quot;</td><td style=\"white-space: nowrap; max-width: 500px; overflow: hidden; text-overflow: ellipsis; \">1</td><td style=\"white-space: nowrap; max-width: 500px; overflow: hidden; text-overflow: ellipsis; \">&quot;CCDS3.1&quot;</td><td style=\"white-space: nowrap; max-width: 500px; overflow: hidden; text-overflow: ellipsis; \">NA</td><td style=\"white-space: nowrap; max-width: 500px; overflow: hidden; text-overflow: ellipsis; \">NA</td><td style=\"white-space: nowrap; max-width: 500px; overflow: hidden; text-overflow: ellipsis; \">NA</td><td style=\"white-space: nowrap; max-width: 500px; overflow: hidden; text-overflow: ellipsis; \">NA</td><td style=\"white-space: nowrap; max-width: 500px; overflow: hidden; text-overflow: ellipsis; \">NA</td><td style=\"white-space: nowrap; max-width: 500px; overflow: hidden; text-overflow: ellipsis; \">[&quot;downstream_gene_variant&quot;]</td><td style=\"white-space: nowrap; max-width: 500px; overflow: hidden; text-overflow: ellipsis; \">4919</td><td style=\"white-space: nowrap; max-width: 500px; overflow: hidden; text-overflow: ellipsis; \">NA</td><td style=\"white-space: nowrap; max-width: 500px; overflow: hidden; text-overflow: ellipsis; \">NA</td><td style=\"white-space: nowrap; max-width: 500px; overflow: hidden; text-overflow: ellipsis; \">&quot;ENSG00000188976&quot;</td><td style=\"white-space: nowrap; max-width: 500px; overflow: hidden; text-overflow: ellipsis; \">NA</td><td style=\"white-space: nowrap; max-width: 500px; overflow: hidden; text-overflow: ellipsis; \">&quot;NOC2L&quot;</td><td style=\"white-space: nowrap; max-width: 500px; overflow: hidden; text-overflow: ellipsis; \">&quot;HGNC&quot;</td><td style=\"white-space: nowrap; max-width: 500px; overflow: hidden; text-overflow: ellipsis; \">&quot;HGNC:24517&quot;</td><td style=\"white-space: nowrap; max-width: 500px; overflow: hidden; text-overflow: ellipsis; \">NA</td><td style=\"white-space: nowrap; max-width: 500px; overflow: hidden; text-overflow: ellipsis; \">NA</td><td style=\"white-space: nowrap; max-width: 500px; overflow: hidden; text-overflow: ellipsis; \">NA</td><td style=\"white-space: nowrap; max-width: 500px; overflow: hidden; text-overflow: ellipsis; \">&quot;MODIFIER&quot;</td><td style=\"white-space: nowrap; max-width: 500px; overflow: hidden; text-overflow: ellipsis; \">NA</td><td style=\"white-space: nowrap; max-width: 500px; overflow: hidden; text-overflow: ellipsis; \">NA</td><td style=\"white-space: nowrap; max-width: 500px; overflow: hidden; text-overflow: ellipsis; \">NA</td><td style=\"white-space: nowrap; max-width: 500px; overflow: hidden; text-overflow: ellipsis; \">NA</td><td style=\"white-space: nowrap; max-width: 500px; overflow: hidden; text-overflow: ellipsis; \">NA</td><td style=\"white-space: nowrap; max-width: 500px; overflow: hidden; text-overflow: ellipsis; \">NA</td><td style=\"white-space: nowrap; max-width: 500px; overflow: hidden; text-overflow: ellipsis; \">NA</td><td style=\"white-space: nowrap; max-width: 500px; overflow: hidden; text-overflow: ellipsis; \">NA</td><td style=\"white-space: nowrap; max-width: 500px; overflow: hidden; text-overflow: ellipsis; \">NA</td><td style=\"white-space: nowrap; max-width: 500px; overflow: hidden; text-overflow: ellipsis; \">NA</td><td style=\"white-space: nowrap; max-width: 500px; overflow: hidden; text-overflow: ellipsis; \">&quot;ENSP00000317992&quot;</td><td style=\"white-space: nowrap; max-width: 500px; overflow: hidden; text-overflow: ellipsis; \">NA</td><td style=\"white-space: nowrap; max-width: 500px; overflow: hidden; text-overflow: ellipsis; \">NA</td><td style=\"white-space: nowrap; max-width: 500px; overflow: hidden; text-overflow: ellipsis; \">-1</td><td style=\"white-space: nowrap; max-width: 500px; overflow: hidden; text-overflow: ellipsis; \">NA</td><td style=\"white-space: nowrap; max-width: 500px; overflow: hidden; text-overflow: ellipsis; \">&quot;ENST00000327044&quot;</td><td style=\"white-space: nowrap; max-width: 500px; overflow: hidden; text-overflow: ellipsis; \">NA</td><td style=\"white-space: nowrap; max-width: 500px; overflow: hidden; text-overflow: ellipsis; \">1</td><td style=\"white-space: nowrap; max-width: 500px; overflow: hidden; text-overflow: ellipsis; \">NA</td><td style=\"white-space: nowrap; max-width: 500px; overflow: hidden; text-overflow: ellipsis; \">&quot;A&quot;</td><td style=\"white-space: nowrap; max-width: 500px; overflow: hidden; text-overflow: ellipsis; \">&quot;downstream_gene_variant&quot;</td><td style=\"white-space: nowrap; max-width: 500px; overflow: hidden; text-overflow: ellipsis; \">3.30e+01</td></tr>\n",
       "</tbody></table><p style=\"background: #fdd; padding: 0.4em;\">showing top 10 rows</p>\n"
      ],
      "text/plain": [
       "+---------------+------------+-------------------+--------------------+\n",
       "| locus         | alleles    | <expr>.allele_num | <expr>.amino_acids |\n",
       "+---------------+------------+-------------------+--------------------+\n",
       "| locus<GRCh38> | array<str> |             int32 | str                |\n",
       "+---------------+------------+-------------------+--------------------+\n",
       "| chr1:930204   | [\"G\",\"A\"]  |                 1 | \"R/Q\"              |\n",
       "| chr1:930245   | [\"G\",\"A\"]  |                 1 | \"D/N\"              |\n",
       "| chr1:930285   | [\"G\",\"A\"]  |                 1 | \"R/Q\"              |\n",
       "| chr1:930314   | [\"C\",\"T\"]  |                 1 | \"H/Y\"              |\n",
       "| chr1:930320   | [\"C\",\"T\"]  |                 1 | \"R/C\"              |\n",
       "| chr1:935835   | [\"C\",\"G\"]  |                 1 | \"P\"                |\n",
       "| chr1:935836   | [\"G\",\"A\"]  |                 1 | \"E/K\"              |\n",
       "| chr1:939121   | [\"C\",\"T\"]  |                 1 | \"S/L\"              |\n",
       "| chr1:939285   | [\"G\",\"A\"]  |                 1 | \"L\"                |\n",
       "| chr1:939285   | [\"G\",\"A\"]  |                 1 | NA                 |\n",
       "+---------------+------------+-------------------+--------------------+\n",
       "\n",
       "+---------------+------------------+------------------+-------------+\n",
       "| <expr>.appris | <expr>.biotype   | <expr>.canonical | <expr>.ccds |\n",
       "+---------------+------------------+------------------+-------------+\n",
       "| str           | str              |            int32 | str         |\n",
       "+---------------+------------------+------------------+-------------+\n",
       "| \"P2\"          | \"protein_coding\" |                1 | \"CCDS2.2\"   |\n",
       "| \"P2\"          | \"protein_coding\" |                1 | \"CCDS2.2\"   |\n",
       "| \"P2\"          | \"protein_coding\" |                1 | \"CCDS2.2\"   |\n",
       "| \"P2\"          | \"protein_coding\" |                1 | \"CCDS2.2\"   |\n",
       "| \"P2\"          | \"protein_coding\" |                1 | \"CCDS2.2\"   |\n",
       "| \"P2\"          | \"protein_coding\" |                1 | \"CCDS2.2\"   |\n",
       "| \"P2\"          | \"protein_coding\" |                1 | \"CCDS2.2\"   |\n",
       "| \"P2\"          | \"protein_coding\" |                1 | \"CCDS2.2\"   |\n",
       "| \"P2\"          | \"protein_coding\" |                1 | \"CCDS2.2\"   |\n",
       "| \"P1\"          | \"protein_coding\" |                1 | \"CCDS3.1\"   |\n",
       "+---------------+------------------+------------------+-------------+\n",
       "\n",
       "+-------------------+-----------------+----------------+------------------+\n",
       "| <expr>.cdna_start | <expr>.cdna_end | <expr>.cds_end | <expr>.cds_start |\n",
       "+-------------------+-----------------+----------------+------------------+\n",
       "|             int32 |           int32 |          int32 |            int32 |\n",
       "+-------------------+-----------------+----------------+------------------+\n",
       "|               205 |             205 |            122 |              122 |\n",
       "|               246 |             246 |            163 |              163 |\n",
       "|               286 |             286 |            203 |              203 |\n",
       "|               315 |             315 |            232 |              232 |\n",
       "|               321 |             321 |            238 |              238 |\n",
       "|               452 |             452 |            369 |              369 |\n",
       "|               453 |             453 |            370 |              370 |\n",
       "|               595 |             595 |            512 |              512 |\n",
       "|               614 |             614 |            531 |              531 |\n",
       "|                NA |              NA |             NA |               NA |\n",
       "+-------------------+-----------------+----------------+------------------+\n",
       "\n",
       "+---------------+-----------------------------+-----------------+\n",
       "| <expr>.codons | <expr>.consequence_terms    | <expr>.distance |\n",
       "+---------------+-----------------------------+-----------------+\n",
       "| str           | array<str>                  |           int32 |\n",
       "+---------------+-----------------------------+-----------------+\n",
       "| \"cGg/cAg\"     | [\"missense_variant\"]        |              NA |\n",
       "| \"Gat/Aat\"     | [\"missense_variant\"]        |              NA |\n",
       "| \"cGg/cAg\"     | [\"missense_variant\"]        |              NA |\n",
       "| \"Cac/Tac\"     | [\"missense_variant\"]        |              NA |\n",
       "| \"Cgt/Tgt\"     | [\"missense_variant\"]        |              NA |\n",
       "| \"ccC/ccG\"     | [\"synonymous_variant\"]      |              NA |\n",
       "| \"Gag/Aag\"     | [\"missense_variant\"]        |              NA |\n",
       "| \"tCg/tTg\"     | [\"missense_variant\"]        |              NA |\n",
       "| \"ctG/ctA\"     | [\"synonymous_variant\"]      |              NA |\n",
       "| NA            | [\"downstream_gene_variant\"] |            4919 |\n",
       "+---------------+-----------------------------+-----------------+\n",
       "\n",
       "+------------------------------------------------------------------------------+\n",
       "| <expr>.domains                                                               |\n",
       "+------------------------------------------------------------------------------+\n",
       "| array<struct{db: str, name: str}>                                            |\n",
       "+------------------------------------------------------------------------------+\n",
       "| [(\"hmmpanther\",\"PTHR12247\"),(\"hmmpanther\",\"PTHR12247\")]                      |\n",
       "| [(\"hmmpanther\",\"PTHR12247\"),(\"hmmpanther\",\"PTHR12247\"),(\"hmmpanther\",\"PTH... |\n",
       "| [(\"hmmpanther\",\"PTHR12247\"),(\"hmmpanther\",\"PTHR12247\")]                      |\n",
       "| [(\"hmmpanther\",\"PTHR12247\"),(\"hmmpanther\",\"PTHR12247\")]                      |\n",
       "| [(\"hmmpanther\",\"PTHR12247\"),(\"hmmpanther\",\"PTHR12247\")]                      |\n",
       "| [(\"hmmpanther\",\"PTHR12247\"),(\"hmmpanther\",\"PTHR12247\")]                      |\n",
       "| [(\"hmmpanther\",\"PTHR12247\"),(\"hmmpanther\",\"PTHR12247\")]                      |\n",
       "| [(\"hmmpanther\",\"PTHR12247\"),(\"hmmpanther\",\"PTHR12247\")]                      |\n",
       "| [(\"hmmpanther\",\"PTHR12247\"),(\"hmmpanther\",\"PTHR12247\")]                      |\n",
       "| NA                                                                           |\n",
       "+------------------------------------------------------------------------------+\n",
       "\n",
       "+-------------+-------------------+-------------------+--------------------+\n",
       "| <expr>.exon | <expr>.gene_id    | <expr>.gene_pheno | <expr>.gene_symbol |\n",
       "+-------------+-------------------+-------------------+--------------------+\n",
       "| str         | str               |             int32 | str                |\n",
       "+-------------+-------------------+-------------------+--------------------+\n",
       "| \"3/14\"      | \"ENSG00000187634\" |                NA | \"SAMD11\"           |\n",
       "| \"3/14\"      | \"ENSG00000187634\" |                NA | \"SAMD11\"           |\n",
       "| \"3/14\"      | \"ENSG00000187634\" |                NA | \"SAMD11\"           |\n",
       "| \"3/14\"      | \"ENSG00000187634\" |                NA | \"SAMD11\"           |\n",
       "| \"3/14\"      | \"ENSG00000187634\" |                NA | \"SAMD11\"           |\n",
       "| \"5/14\"      | \"ENSG00000187634\" |                NA | \"SAMD11\"           |\n",
       "| \"5/14\"      | \"ENSG00000187634\" |                NA | \"SAMD11\"           |\n",
       "| \"6/14\"      | \"ENSG00000187634\" |                NA | \"SAMD11\"           |\n",
       "| \"7/14\"      | \"ENSG00000187634\" |                NA | \"SAMD11\"           |\n",
       "| NA          | \"ENSG00000188976\" |                NA | \"NOC2L\"            |\n",
       "+-------------+-------------------+-------------------+--------------------+\n",
       "\n",
       "+---------------------------+----------------+------------------------------+\n",
       "| <expr>.gene_symbol_source | <expr>.hgnc_id | <expr>.hgvsc                 |\n",
       "+---------------------------+----------------+------------------------------+\n",
       "| str                       | str            | str                          |\n",
       "+---------------------------+----------------+------------------------------+\n",
       "| \"HGNC\"                    | \"HGNC:28706\"   | \"ENST00000342066.7:c.122G>A\" |\n",
       "| \"HGNC\"                    | \"HGNC:28706\"   | \"ENST00000342066.7:c.163G>A\" |\n",
       "| \"HGNC\"                    | \"HGNC:28706\"   | \"ENST00000342066.7:c.203G>A\" |\n",
       "| \"HGNC\"                    | \"HGNC:28706\"   | \"ENST00000342066.7:c.232C>T\" |\n",
       "| \"HGNC\"                    | \"HGNC:28706\"   | \"ENST00000342066.7:c.238C>T\" |\n",
       "| \"HGNC\"                    | \"HGNC:28706\"   | \"ENST00000342066.7:c.369C>G\" |\n",
       "| \"HGNC\"                    | \"HGNC:28706\"   | \"ENST00000342066.7:c.370G>A\" |\n",
       "| \"HGNC\"                    | \"HGNC:28706\"   | \"ENST00000342066.7:c.512C>T\" |\n",
       "| \"HGNC\"                    | \"HGNC:28706\"   | \"ENST00000342066.7:c.531G>A\" |\n",
       "| \"HGNC\"                    | \"HGNC:24517\"   | NA                           |\n",
       "+---------------------------+----------------+------------------------------+\n",
       "\n",
       "+---------------------------------+--------------------+---------------+\n",
       "| <expr>.hgvsp                    | <expr>.hgvs_offset | <expr>.impact |\n",
       "+---------------------------------+--------------------+---------------+\n",
       "| str                             |              int32 | str           |\n",
       "+---------------------------------+--------------------+---------------+\n",
       "| \"ENSP00000342313.3:p.Arg41Gln\"  |                 NA | \"MODERATE\"    |\n",
       "| \"ENSP00000342313.3:p.Asp55Asn\"  |                 NA | \"MODERATE\"    |\n",
       "| \"ENSP00000342313.3:p.Arg68Gln\"  |                 NA | \"MODERATE\"    |\n",
       "| \"ENSP00000342313.3:p.His78Tyr\"  |                 NA | \"MODERATE\"    |\n",
       "| \"ENSP00000342313.3:p.Arg80Cys\"  |                 NA | \"MODERATE\"    |\n",
       "| \"ENSP00000342313.3:p.Pro123=\"   |                 NA | \"LOW\"         |\n",
       "| \"ENSP00000342313.3:p.Glu124Lys\" |                 NA | \"MODERATE\"    |\n",
       "| \"ENSP00000342313.3:p.Ser171Leu\" |                 NA | \"MODERATE\"    |\n",
       "| \"ENSP00000342313.3:p.Leu177=\"   |                 NA | \"LOW\"         |\n",
       "| NA                              |                 NA | \"MODIFIER\"    |\n",
       "+---------------------------------+--------------------+---------------+\n",
       "\n",
       "+---------------+------------+------------------+-------------------+\n",
       "| <expr>.intron | <expr>.lof | <expr>.lof_flags | <expr>.lof_filter |\n",
       "+---------------+------------+------------------+-------------------+\n",
       "| str           | str        | str              | str               |\n",
       "+---------------+------------+------------------+-------------------+\n",
       "| NA            | NA         | NA               | NA                |\n",
       "| NA            | NA         | NA               | NA                |\n",
       "| NA            | NA         | NA               | NA                |\n",
       "| NA            | NA         | NA               | NA                |\n",
       "| NA            | NA         | NA               | NA                |\n",
       "| NA            | NA         | NA               | NA                |\n",
       "| NA            | NA         | NA               | NA                |\n",
       "| NA            | NA         | NA               | NA                |\n",
       "| NA            | NA         | NA               | NA                |\n",
       "| NA            | NA         | NA               | NA                |\n",
       "+---------------+------------+------------------+-------------------+\n",
       "\n",
       "+-----------------+------------------+----------------------------+\n",
       "| <expr>.lof_info | <expr>.minimised | <expr>.polyphen_prediction |\n",
       "+-----------------+------------------+----------------------------+\n",
       "| str             |            int32 | str                        |\n",
       "+-----------------+------------------+----------------------------+\n",
       "| NA              |               NA | \"possibly_damaging\"        |\n",
       "| NA              |               NA | \"possibly_damaging\"        |\n",
       "| NA              |               NA | \"benign\"                   |\n",
       "| NA              |               NA | \"possibly_damaging\"        |\n",
       "| NA              |               NA | \"benign\"                   |\n",
       "| NA              |               NA | NA                         |\n",
       "| NA              |               NA | \"benign\"                   |\n",
       "| NA              |               NA | \"benign\"                   |\n",
       "| NA              |               NA | NA                         |\n",
       "| NA              |               NA | NA                         |\n",
       "+-----------------+------------------+----------------------------+\n",
       "\n",
       "+-----------------------+--------------------+----------------------+\n",
       "| <expr>.polyphen_score | <expr>.protein_end | <expr>.protein_start |\n",
       "+-----------------------+--------------------+----------------------+\n",
       "|               float64 |              int32 |                int32 |\n",
       "+-----------------------+--------------------+----------------------+\n",
       "|              8.86e-01 |                 41 |                   41 |\n",
       "|              4.68e-01 |                 55 |                   55 |\n",
       "|              1.00e-03 |                 68 |                   68 |\n",
       "|              6.37e-01 |                 78 |                   78 |\n",
       "|              3.32e-01 |                 80 |                   80 |\n",
       "|                    NA |                123 |                  123 |\n",
       "|              2.00e-02 |                124 |                  124 |\n",
       "|              1.64e-01 |                171 |                  171 |\n",
       "|                    NA |                177 |                  177 |\n",
       "|                    NA |                 NA |                   NA |\n",
       "+-----------------------+--------------------+----------------------+\n",
       "\n",
       "+-------------------+------------------------------+-------------------+\n",
       "| <expr>.protein_id | <expr>.sift_prediction       | <expr>.sift_score |\n",
       "+-------------------+------------------------------+-------------------+\n",
       "| str               | str                          |           float64 |\n",
       "+-------------------+------------------------------+-------------------+\n",
       "| \"ENSP00000342313\" | \"deleterious\"                |          1.00e-02 |\n",
       "| \"ENSP00000342313\" | \"deleterious_low_confidence\" |          0.00e+00 |\n",
       "| \"ENSP00000342313\" | \"tolerated\"                  |          3.40e-01 |\n",
       "| \"ENSP00000342313\" | \"deleterious\"                |          4.00e-02 |\n",
       "| \"ENSP00000342313\" | \"deleterious\"                |          5.00e-02 |\n",
       "| \"ENSP00000342313\" | NA                           |                NA |\n",
       "| \"ENSP00000342313\" | \"deleterious\"                |          0.00e+00 |\n",
       "| \"ENSP00000342313\" | \"deleterious\"                |          0.00e+00 |\n",
       "| \"ENSP00000342313\" | NA                           |                NA |\n",
       "| \"ENSP00000317992\" | NA                           |                NA |\n",
       "+-------------------+------------------------------+-------------------+\n",
       "\n",
       "+---------------+------------------+----------------------+---------------+\n",
       "| <expr>.strand | <expr>.swissprot | <expr>.transcript_id | <expr>.trembl |\n",
       "+---------------+------------------+----------------------+---------------+\n",
       "|         int32 | str              | str                  | str           |\n",
       "+---------------+------------------+----------------------+---------------+\n",
       "|             1 | NA               | \"ENST00000342066\"    | NA            |\n",
       "|             1 | NA               | \"ENST00000342066\"    | NA            |\n",
       "|             1 | NA               | \"ENST00000342066\"    | NA            |\n",
       "|             1 | NA               | \"ENST00000342066\"    | NA            |\n",
       "|             1 | NA               | \"ENST00000342066\"    | NA            |\n",
       "|             1 | NA               | \"ENST00000342066\"    | NA            |\n",
       "|             1 | NA               | \"ENST00000342066\"    | NA            |\n",
       "|             1 | NA               | \"ENST00000342066\"    | NA            |\n",
       "|             1 | NA               | \"ENST00000342066\"    | NA            |\n",
       "|            -1 | NA               | \"ENST00000327044\"    | NA            |\n",
       "+---------------+------------------+----------------------+---------------+\n",
       "\n",
       "+------------+----------------+-----------------------+\n",
       "| <expr>.tsl | <expr>.uniparc | <expr>.variant_allele |\n",
       "+------------+----------------+-----------------------+\n",
       "|      int32 | str            | str                   |\n",
       "+------------+----------------+-----------------------+\n",
       "|          5 | NA             | \"A\"                   |\n",
       "|          5 | NA             | \"A\"                   |\n",
       "|          5 | NA             | \"A\"                   |\n",
       "|          5 | NA             | \"T\"                   |\n",
       "|          5 | NA             | \"T\"                   |\n",
       "|          5 | NA             | \"G\"                   |\n",
       "|          5 | NA             | \"A\"                   |\n",
       "|          5 | NA             | \"T\"                   |\n",
       "|          5 | NA             | \"A\"                   |\n",
       "|          1 | NA             | \"A\"                   |\n",
       "+------------+----------------+-----------------------+\n",
       "\n",
       "+--------------------------------+------------------+\n",
       "| <expr>.most_severe_consequence | <expr>.csq_score |\n",
       "+--------------------------------+------------------+\n",
       "| str                            |          float64 |\n",
       "+--------------------------------+------------------+\n",
       "| \"missense_variant\"             |         1.08e+01 |\n",
       "| \"missense_variant\"             |         1.08e+01 |\n",
       "| \"missense_variant\"             |         1.09e+01 |\n",
       "| \"missense_variant\"             |         1.08e+01 |\n",
       "| \"missense_variant\"             |         1.09e+01 |\n",
       "| \"synonymous_variant\"           |         2.00e+01 |\n",
       "| \"missense_variant\"             |         1.09e+01 |\n",
       "| \"missense_variant\"             |         1.09e+01 |\n",
       "| \"synonymous_variant\"           |         2.00e+01 |\n",
       "| \"downstream_gene_variant\"      |         3.30e+01 |\n",
       "+--------------------------------+------------------+\n",
       "showing top 10 rows"
      ]
     },
     "metadata": {},
     "output_type": "display_data"
    }
   ],
   "source": [
    "mt.vep.worst_csq_by_gene_canonical.show()"
   ]
  },
  {
   "cell_type": "code",
   "execution_count": 13,
   "id": "43e378ba",
   "metadata": {},
   "outputs": [],
   "source": [
    "def add_vep_annotations(mt):\n",
    "\n",
    "    def prioritized(field, mt):\n",
    "        vep = mt.vep.worst_csq_by_gene_canonical\n",
    "        return hl.if_else(\n",
    "            (vep.canonical == 1) & (vep.biotype == \"protein_coding\") & hl.is_defined(vep.amino_acids),\n",
    "            getattr(vep, field),\n",
    "            hl.if_else(\n",
    "                (vep.canonical == 1) & (vep.biotype == \"protein_coding\"),\n",
    "                getattr(vep, field),\n",
    "                hl.if_else(\n",
    "                    (vep.canonical == 1),\n",
    "                    getattr(vep, field),\n",
    "                    getattr(vep, field)\n",
    "                )\n",
    "            )\n",
    "        )\n",
    "\n",
    "    mt = mt.annotate_rows(\n",
    "        gene = prioritized(\"gene_symbol\", mt),\n",
    "        gene_id = prioritized(\"gene_id\", mt),\n",
    "        transcript_id = prioritized(\"transcript_id\", mt),\n",
    "        hgnc_id = prioritized(\"hgnc_id\", mt),\n",
    "        hgvsc = prioritized(\"hgvsc\", mt),\n",
    "        hgvsp = prioritized(\"hgvsp\", mt),\n",
    "        consequence = prioritized(\"consequence_terms\", mt),\n",
    "        lof = prioritized(\"lof\", mt),\n",
    "        lof_flags = prioritized(\"lof_flags\", mt),\n",
    "        polyphen = prioritized(\"polyphen_prediction\", mt),\n",
    "        sift = prioritized(\"sift_prediction\", mt)\n",
    "    )\n",
    "\n",
    "    mt = mt.annotate_rows(\n",
    "        isPTV = mt.consequence.contains('frameshift_variant') |\n",
    "                mt.consequence.contains('stop_gained') |\n",
    "                mt.consequence.contains('splice_donor_variant') |\n",
    "                mt.consequence.contains('splice_acceptor_variant') |\n",
    "                mt.consequence.contains('transcript_ablation'),\n",
    "        isMIS = mt.consequence.contains('missense_variant'),\n",
    "        isSYN = mt.consequence.contains('synonymous_variant') |\n",
    "                mt.consequence.contains('stop_retained_variant'),\n",
    "        isSRG = mt.consequence.contains('splice_region_variant'),\n",
    "        isSSL = mt.consequence.contains('start_lost') |\n",
    "                mt.consequence.contains('stop_lost'),\n",
    "        isINF = mt.consequence.contains('inframe_insertion') |\n",
    "                mt.consequence.contains('inframe_deletion')\n",
    "    )\n",
    "\n",
    "    mt = mt.annotate_rows(\n",
    "        SII = hl.literal([\n",
    "            'frameshift_variant', 'stop_gained', 'splice_donor_variant',\n",
    "            'splice_acceptor_variant', 'transcript_ablation', 'missense_variant',\n",
    "            'synonymous_variant', 'stop_retained_variant', 'splice_region_variant',\n",
    "            'start_lost', 'stop_lost', 'inframe_insertion', 'inframe_deletion']\n",
    "        ).contains(mt.vep.worst_csq_by_gene_canonical.most_severe_consequence)\n",
    "    )\n",
    "\n",
    "    mt = mt.annotate_rows(\n",
    "        isSNP = hl.is_snp(mt.alleles[0], mt.alleles[1]),\n",
    "        isIndel = hl.is_indel(mt.alleles[0], mt.alleles[1])\n",
    "    )\n",
    "\n",
    "    return mt"
   ]
  },
  {
   "cell_type": "code",
   "execution_count": 14,
   "id": "dbf00fe8",
   "metadata": {},
   "outputs": [],
   "source": [
    "# Add VEP annotations\n",
    "mt = add_vep_annotations(mt)"
   ]
  },
  {
   "cell_type": "code",
   "execution_count": 15,
   "id": "a896eded",
   "metadata": {},
   "outputs": [
    {
     "name": "stderr",
     "output_type": "stream",
     "text": [
      "[Stage 3:===(24 + 4) / 24][Stage 4:===(24 + 4) / 24][Stage 7:===(24 + 1) / 24]\r"
     ]
    },
    {
     "data": {
      "text/plain": [
       "(183100, 70)"
      ]
     },
     "execution_count": 15,
     "metadata": {},
     "output_type": "execute_result"
    }
   ],
   "source": [
    "mt.count()"
   ]
  },
  {
   "cell_type": "code",
   "execution_count": 16,
   "id": "67884a5e",
   "metadata": {},
   "outputs": [],
   "source": [
    "mpc = hl.read_table(\"gs://pbn_pilot/proj-PBN/misc/mpc.LiftOverhg38.ht\") # MPC scores\n",
    "mt = mt.annotate_rows(mpc = mpc[mt.row_key]) \n",
    "mt = mt.annotate_rows(MPCscore = mt.mpc.MPC)\n",
    "mt = mt.drop('mpc')"
   ]
  },
  {
   "cell_type": "code",
   "execution_count": 17,
   "id": "a234ccfc",
   "metadata": {},
   "outputs": [],
   "source": [
    "mt = hl.variant_qc(mt)"
   ]
  },
  {
   "cell_type": "code",
   "execution_count": 18,
   "id": "c21e4484",
   "metadata": {},
   "outputs": [],
   "source": [
    "mt = mt.annotate_rows(\n",
    "    mpc3 = mt.MPCscore > 3,\n",
    "    mpc2_to_3 = (mt.MPCscore >= 2) & (mt.MPCscore <= 3),\n",
    "    mpc_less_2 = mt.MPCscore < 2,\n",
    "    mpc2 = mt.MPCscore >= 2,\n",
    "       \n",
    "    isSingleton = mt.variant_qc.n_non_ref == 1,\n",
    "    AC5 = mt.variant_qc.AC[1] < 6,\n",
    "    AC10 = mt.variant_qc.AC[1] < 11\n",
    ")"
   ]
  },
  {
   "cell_type": "code",
   "execution_count": 19,
   "id": "246427e4",
   "metadata": {},
   "outputs": [
    {
     "data": {
      "text/plain": [
       "(144695, 70)"
      ]
     },
     "execution_count": 19,
     "metadata": {},
     "output_type": "execute_result"
    }
   ],
   "source": [
    "# Filter based on annotations, keeping coding variants and variants in evaluation regions\n",
    "mt = mt.filter_rows(mt.isPTV | mt.isMIS | mt.isSYN | mt.isSRG | mt.isSSL | mt.isINF | \n",
    "                    mt.SII, keep = True) \n",
    "mt.count() # (4539601, 44906)"
   ]
  },
  {
   "cell_type": "code",
   "execution_count": 20,
   "id": "1da79329",
   "metadata": {},
   "outputs": [],
   "source": [
    "# Need minimal representation of alleles\n",
    "mt = mt.annotate_rows(min_rep = hl.min_rep(mt.locus, mt.alleles))\n",
    "mt = mt.key_rows_by('min_rep')\n",
    "mt = mt.drop('locus', 'alleles')\n",
    "\n",
    "mt = mt.annotate_rows(locus = mt.min_rep.locus,\n",
    "                      alleles = mt.min_rep.alleles)\n",
    "mt = mt.key_rows_by('locus', 'alleles')\n",
    "mt = mt.drop('min_rep')"
   ]
  },
  {
   "cell_type": "code",
   "execution_count": 21,
   "id": "e780b146",
   "metadata": {},
   "outputs": [
    {
     "name": "stderr",
     "output_type": "stream",
     "text": [
      "2025-07-16 17:29:44.460 Hail: INFO: Coerced sorted dataset 7:===(24 + 1) / 24]\n"
     ]
    },
    {
     "ename": "FatalError",
     "evalue": "HailException: RelationalSetup.writeMetadata: file already exists: gs://pbn_pilot/proj-PBN/04_rare_SNPs/00_raw_data/05_vep_explode_coding_annot.mt\n\nJava stack trace:\nis.hail.utils.HailException: RelationalSetup.writeMetadata: file already exists: gs://pbn_pilot/proj-PBN/04_rare_SNPs/00_raw_data/05_vep_explode_coding_annot.mt\n\tat __C21034Compile.__m21038begin_group_0(Emit.scala)\n\tat __C21034Compile.__m21036split_Block(Emit.scala)\n\tat __C21034Compile.apply(Emit.scala)\n\tat is.hail.expr.ir.CompileAndEvaluate$.$anonfun$_apply$3(CompileAndEvaluate.scala:64)\n\tat scala.runtime.java8.JFunction0$mcV$sp.apply(JFunction0$mcV$sp.java:23)\n\tat is.hail.utils.ExecutionTimer.time(ExecutionTimer.scala:98)\n\tat is.hail.backend.ExecuteContext.time(ExecuteContext.scala:187)\n\tat is.hail.expr.ir.CompileAndEvaluate$.$anonfun$_apply$2(CompileAndEvaluate.scala:64)\n\tat is.hail.expr.ir.CompileAndEvaluate$.$anonfun$_apply$2$adapted(CompileAndEvaluate.scala:62)\n\tat is.hail.backend.ExecuteContext.$anonfun$scopedExecution$2(ExecuteContext.scala:166)\n\tat is.hail.utils.ExecutionTimer.time(ExecutionTimer.scala:98)\n\tat is.hail.backend.ExecuteContext.time(ExecuteContext.scala:187)\n\tat is.hail.backend.ExecuteContext.$anonfun$scopedExecution$1(ExecuteContext.scala:165)\n\tat is.hail.utils.package$.using(package.scala:665)\n\tat is.hail.backend.ExecuteContext.scopedExecution(ExecuteContext.scala:164)\n\tat is.hail.expr.ir.CompileAndEvaluate$.$anonfun$_apply$1(CompileAndEvaluate.scala:62)\n\tat is.hail.utils.ExecutionTimer.time(ExecutionTimer.scala:98)\n\tat is.hail.backend.ExecuteContext.time(ExecuteContext.scala:187)\n\tat is.hail.expr.ir.CompileAndEvaluate$._apply(CompileAndEvaluate.scala:47)\n\tat is.hail.expr.ir.CompileAndEvaluate$.evalToIR(CompileAndEvaluate.scala:30)\n\tat is.hail.expr.ir.LowerOrInterpretNonCompilable$.evaluate$1(LowerOrInterpretNonCompilable.scala:31)\n\tat is.hail.expr.ir.LowerOrInterpretNonCompilable$.rewrite$1(LowerOrInterpretNonCompilable.scala:60)\n\tat is.hail.expr.ir.LowerOrInterpretNonCompilable$.apply(LowerOrInterpretNonCompilable.scala:65)\n\tat is.hail.expr.ir.lowering.LowerOrInterpretNonCompilablePass$.transform(LoweringPass.scala:86)\n\tat is.hail.expr.ir.lowering.LoweringPass.$anonfun$apply$3(LoweringPass.scala:37)\n\tat is.hail.utils.ExecutionTimer.time(ExecutionTimer.scala:98)\n\tat is.hail.expr.ir.lowering.LoweringPass.$anonfun$apply$1(LoweringPass.scala:37)\n\tat is.hail.utils.ExecutionTimer.time(ExecutionTimer.scala:98)\n\tat is.hail.expr.ir.lowering.LoweringPass.apply(LoweringPass.scala:35)\n\tat is.hail.expr.ir.lowering.LoweringPass.apply$(LoweringPass.scala:34)\n\tat is.hail.expr.ir.lowering.LowerOrInterpretNonCompilablePass$.apply(LoweringPass.scala:81)\n\tat is.hail.expr.ir.lowering.LoweringPipeline.$anonfun$apply$2(LoweringPipeline.scala:22)\n\tat is.hail.expr.ir.lowering.LoweringPipeline.$anonfun$apply$2$adapted(LoweringPipeline.scala:20)\n\tat scala.collection.mutable.ResizableArray.foreach(ResizableArray.scala:62)\n\tat scala.collection.mutable.ResizableArray.foreach$(ResizableArray.scala:55)\n\tat scala.collection.mutable.ArrayBuffer.foreach(ArrayBuffer.scala:49)\n\tat is.hail.expr.ir.lowering.LoweringPipeline.$anonfun$apply$1(LoweringPipeline.scala:20)\n\tat is.hail.utils.ExecutionTimer.time(ExecutionTimer.scala:98)\n\tat is.hail.backend.ExecuteContext.time(ExecuteContext.scala:187)\n\tat is.hail.expr.ir.lowering.LoweringPipeline.apply(LoweringPipeline.scala:11)\n\tat is.hail.expr.ir.CompileAndEvaluate$.$anonfun$_apply$1(CompileAndEvaluate.scala:48)\n\tat is.hail.utils.ExecutionTimer.time(ExecutionTimer.scala:98)\n\tat is.hail.backend.ExecuteContext.time(ExecuteContext.scala:187)\n\tat is.hail.expr.ir.CompileAndEvaluate$._apply(CompileAndEvaluate.scala:47)\n\tat is.hail.backend.spark.SparkBackend.$anonfun$execute$1(SparkBackend.scala:554)\n\tat is.hail.utils.ExecutionTimer.time(ExecutionTimer.scala:98)\n\tat is.hail.backend.ExecuteContext.time(ExecuteContext.scala:187)\n\tat is.hail.backend.spark.SparkBackend.execute(SparkBackend.scala:543)\n\tat is.hail.backend.BackendHttpHandler.$anonfun$handle$4(BackendServer.scala:93)\n\tat is.hail.utils.package$.using(package.scala:665)\n\tat is.hail.backend.ExecuteContext.local(ExecuteContext.scala:226)\n\tat is.hail.backend.BackendHttpHandler.$anonfun$handle$3(BackendServer.scala:91)\n\tat is.hail.utils.ExecutionTimer$.time(ExecutionTimer.scala:15)\n\tat is.hail.backend.BackendHttpHandler.$anonfun$handle$2(BackendServer.scala:90)\n\tat is.hail.backend.BackendHttpHandler.$anonfun$handle$2$adapted(BackendServer.scala:89)\n\tat is.hail.backend.ExecuteContext$.$anonfun$scoped$3(ExecuteContext.scala:103)\n\tat is.hail.utils.package$.using(package.scala:665)\n\tat is.hail.backend.ExecuteContext$.$anonfun$scoped$2(ExecuteContext.scala:103)\n\tat is.hail.utils.package$.using(package.scala:665)\n\tat is.hail.annotations.RegionPool.scopedRegion(RegionPool.scala:166)\n\tat is.hail.backend.ExecuteContext$.$anonfun$scoped$1(ExecuteContext.scala:85)\n\tat is.hail.utils.package$.using(package.scala:665)\n\tat is.hail.annotations.RegionPool$.scoped(RegionPool.scala:13)\n\tat is.hail.backend.ExecuteContext$.scoped(ExecuteContext.scala:84)\n\tat is.hail.backend.spark.SparkBackend.$anonfun$withExecuteContext$1(SparkBackend.scala:410)\n\tat is.hail.utils.ExecutionTimer$.time(ExecutionTimer.scala:15)\n\tat is.hail.utils.ExecutionTimer$.logTime(ExecutionTimer.scala:22)\n\tat is.hail.backend.spark.SparkBackend.withExecuteContext(SparkBackend.scala:390)\n\tat is.hail.backend.BackendHttpHandler.handle(BackendServer.scala:89)\n\tat jdk.httpserver/com.sun.net.httpserver.Filter$Chain.doFilter(Filter.java:77)\n\tat jdk.httpserver/sun.net.httpserver.AuthFilter.doFilter(AuthFilter.java:82)\n\tat jdk.httpserver/com.sun.net.httpserver.Filter$Chain.doFilter(Filter.java:80)\n\tat jdk.httpserver/sun.net.httpserver.ServerImpl$Exchange$LinkHandler.handle(ServerImpl.java:848)\n\tat jdk.httpserver/com.sun.net.httpserver.Filter$Chain.doFilter(Filter.java:77)\n\tat jdk.httpserver/sun.net.httpserver.ServerImpl$Exchange.run(ServerImpl.java:817)\n\tat jdk.httpserver/sun.net.httpserver.ServerImpl$DefaultExecutor.execute(ServerImpl.java:201)\n\tat jdk.httpserver/sun.net.httpserver.ServerImpl$Dispatcher.handle(ServerImpl.java:560)\n\tat jdk.httpserver/sun.net.httpserver.ServerImpl$Dispatcher.run(ServerImpl.java:526)\n\tat java.base/java.lang.Thread.run(Thread.java:829)\n\n\n\nHail version: 0.2.135-034ef3e08116\nError summary: HailException: RelationalSetup.writeMetadata: file already exists: gs://pbn_pilot/proj-PBN/04_rare_SNPs/00_raw_data/05_vep_explode_coding_annot.mt",
     "output_type": "error",
     "traceback": [
      "\u001b[0;31m---------------------------------------------------------------------------\u001b[0m",
      "\u001b[0;31mFatalError\u001b[0m                                Traceback (most recent call last)",
      "Cell \u001b[0;32mIn[21], line 2\u001b[0m\n\u001b[1;32m      1\u001b[0m \u001b[38;5;66;03m# Write temp file\u001b[39;00m\n\u001b[0;32m----> 2\u001b[0m \u001b[43mmt\u001b[49m\u001b[38;5;241;43m.\u001b[39;49m\u001b[43mcheckpoint\u001b[49m\u001b[43m(\u001b[49m\u001b[38;5;124;43m'\u001b[39;49m\u001b[38;5;124;43mgs://pbn_pilot/proj-PBN/04_rare_SNPs/00_raw_data/05_vep_explode_coding_annot.mt\u001b[39;49m\u001b[38;5;124;43m'\u001b[39;49m\u001b[43m)\u001b[49m\n",
      "File \u001b[0;32m<decorator-gen-1486>:2\u001b[0m, in \u001b[0;36mcheckpoint\u001b[0;34m(self, output, overwrite, stage_locally, _codec_spec, _read_if_exists, _intervals, _filter_intervals, _drop_cols, _drop_rows)\u001b[0m\n",
      "File \u001b[0;32m/opt/conda/miniconda3/lib/python3.11/site-packages/hail/typecheck/check.py:584\u001b[0m, in \u001b[0;36m_make_dec.<locals>.wrapper\u001b[0;34m(__original_func, *args, **kwargs)\u001b[0m\n\u001b[1;32m    581\u001b[0m \u001b[38;5;129m@decorator\u001b[39m\n\u001b[1;32m    582\u001b[0m \u001b[38;5;28;01mdef\u001b[39;00m\u001b[38;5;250m \u001b[39m\u001b[38;5;21mwrapper\u001b[39m(__original_func: Callable[\u001b[38;5;241m.\u001b[39m\u001b[38;5;241m.\u001b[39m\u001b[38;5;241m.\u001b[39m, T], \u001b[38;5;241m*\u001b[39margs, \u001b[38;5;241m*\u001b[39m\u001b[38;5;241m*\u001b[39mkwargs) \u001b[38;5;241m-\u001b[39m\u001b[38;5;241m>\u001b[39m T:\n\u001b[1;32m    583\u001b[0m     args_, kwargs_ \u001b[38;5;241m=\u001b[39m check_all(__original_func, args, kwargs, checkers, is_method\u001b[38;5;241m=\u001b[39mis_method)\n\u001b[0;32m--> 584\u001b[0m     \u001b[38;5;28;01mreturn\u001b[39;00m \u001b[43m__original_func\u001b[49m\u001b[43m(\u001b[49m\u001b[38;5;241;43m*\u001b[39;49m\u001b[43margs_\u001b[49m\u001b[43m,\u001b[49m\u001b[43m \u001b[49m\u001b[38;5;241;43m*\u001b[39;49m\u001b[38;5;241;43m*\u001b[39;49m\u001b[43mkwargs_\u001b[49m\u001b[43m)\u001b[49m\n",
      "File \u001b[0;32m/opt/conda/miniconda3/lib/python3.11/site-packages/hail/matrixtable.py:2749\u001b[0m, in \u001b[0;36mMatrixTable.checkpoint\u001b[0;34m(self, output, overwrite, stage_locally, _codec_spec, _read_if_exists, _intervals, _filter_intervals, _drop_cols, _drop_rows)\u001b[0m\n\u001b[1;32m   2746\u001b[0m hl\u001b[38;5;241m.\u001b[39mcurrent_backend()\u001b[38;5;241m.\u001b[39mvalidate_file(output)\n\u001b[1;32m   2748\u001b[0m \u001b[38;5;28;01mif\u001b[39;00m \u001b[38;5;129;01mnot\u001b[39;00m _read_if_exists \u001b[38;5;129;01mor\u001b[39;00m \u001b[38;5;129;01mnot\u001b[39;00m hl\u001b[38;5;241m.\u001b[39mhadoop_exists(\u001b[38;5;124mf\u001b[39m\u001b[38;5;124m'\u001b[39m\u001b[38;5;132;01m{\u001b[39;00moutput\u001b[38;5;132;01m}\u001b[39;00m\u001b[38;5;124m/_SUCCESS\u001b[39m\u001b[38;5;124m'\u001b[39m):\n\u001b[0;32m-> 2749\u001b[0m     \u001b[38;5;28;43mself\u001b[39;49m\u001b[38;5;241;43m.\u001b[39;49m\u001b[43mwrite\u001b[49m\u001b[43m(\u001b[49m\u001b[43moutput\u001b[49m\u001b[38;5;241;43m=\u001b[39;49m\u001b[43moutput\u001b[49m\u001b[43m,\u001b[49m\u001b[43m \u001b[49m\u001b[43moverwrite\u001b[49m\u001b[38;5;241;43m=\u001b[39;49m\u001b[43moverwrite\u001b[49m\u001b[43m,\u001b[49m\u001b[43m \u001b[49m\u001b[43mstage_locally\u001b[49m\u001b[38;5;241;43m=\u001b[39;49m\u001b[43mstage_locally\u001b[49m\u001b[43m,\u001b[49m\u001b[43m \u001b[49m\u001b[43m_codec_spec\u001b[49m\u001b[38;5;241;43m=\u001b[39;49m\u001b[43m_codec_spec\u001b[49m\u001b[43m)\u001b[49m\n\u001b[1;32m   2750\u001b[0m     _assert_type \u001b[38;5;241m=\u001b[39m \u001b[38;5;28mself\u001b[39m\u001b[38;5;241m.\u001b[39m_type\n\u001b[1;32m   2751\u001b[0m     _load_refs \u001b[38;5;241m=\u001b[39m \u001b[38;5;28;01mFalse\u001b[39;00m\n",
      "File \u001b[0;32m<decorator-gen-1488>:2\u001b[0m, in \u001b[0;36mwrite\u001b[0;34m(self, output, overwrite, stage_locally, _codec_spec, _partitions)\u001b[0m\n",
      "File \u001b[0;32m/opt/conda/miniconda3/lib/python3.11/site-packages/hail/typecheck/check.py:584\u001b[0m, in \u001b[0;36m_make_dec.<locals>.wrapper\u001b[0;34m(__original_func, *args, **kwargs)\u001b[0m\n\u001b[1;32m    581\u001b[0m \u001b[38;5;129m@decorator\u001b[39m\n\u001b[1;32m    582\u001b[0m \u001b[38;5;28;01mdef\u001b[39;00m\u001b[38;5;250m \u001b[39m\u001b[38;5;21mwrapper\u001b[39m(__original_func: Callable[\u001b[38;5;241m.\u001b[39m\u001b[38;5;241m.\u001b[39m\u001b[38;5;241m.\u001b[39m, T], \u001b[38;5;241m*\u001b[39margs, \u001b[38;5;241m*\u001b[39m\u001b[38;5;241m*\u001b[39mkwargs) \u001b[38;5;241m-\u001b[39m\u001b[38;5;241m>\u001b[39m T:\n\u001b[1;32m    583\u001b[0m     args_, kwargs_ \u001b[38;5;241m=\u001b[39m check_all(__original_func, args, kwargs, checkers, is_method\u001b[38;5;241m=\u001b[39mis_method)\n\u001b[0;32m--> 584\u001b[0m     \u001b[38;5;28;01mreturn\u001b[39;00m \u001b[43m__original_func\u001b[49m\u001b[43m(\u001b[49m\u001b[38;5;241;43m*\u001b[39;49m\u001b[43margs_\u001b[49m\u001b[43m,\u001b[49m\u001b[43m \u001b[49m\u001b[38;5;241;43m*\u001b[39;49m\u001b[38;5;241;43m*\u001b[39;49m\u001b[43mkwargs_\u001b[49m\u001b[43m)\u001b[49m\n",
      "File \u001b[0;32m/opt/conda/miniconda3/lib/python3.11/site-packages/hail/matrixtable.py:2808\u001b[0m, in \u001b[0;36mMatrixTable.write\u001b[0;34m(self, output, overwrite, stage_locally, _codec_spec, _partitions)\u001b[0m\n\u001b[1;32m   2805\u001b[0m     _partitions_type \u001b[38;5;241m=\u001b[39m \u001b[38;5;28;01mNone\u001b[39;00m\n\u001b[1;32m   2807\u001b[0m writer \u001b[38;5;241m=\u001b[39m ir\u001b[38;5;241m.\u001b[39mMatrixNativeWriter(output, overwrite, stage_locally, _codec_spec, _partitions, _partitions_type)\n\u001b[0;32m-> 2808\u001b[0m \u001b[43mEnv\u001b[49m\u001b[38;5;241;43m.\u001b[39;49m\u001b[43mbackend\u001b[49m\u001b[43m(\u001b[49m\u001b[43m)\u001b[49m\u001b[38;5;241;43m.\u001b[39;49m\u001b[43mexecute\u001b[49m\u001b[43m(\u001b[49m\u001b[43mir\u001b[49m\u001b[38;5;241;43m.\u001b[39;49m\u001b[43mMatrixWrite\u001b[49m\u001b[43m(\u001b[49m\u001b[38;5;28;43mself\u001b[39;49m\u001b[38;5;241;43m.\u001b[39;49m\u001b[43m_mir\u001b[49m\u001b[43m,\u001b[49m\u001b[43m \u001b[49m\u001b[43mwriter\u001b[49m\u001b[43m)\u001b[49m\u001b[43m)\u001b[49m\n",
      "File \u001b[0;32m/opt/conda/miniconda3/lib/python3.11/site-packages/hail/backend/spark_backend.py:217\u001b[0m, in \u001b[0;36mSparkBackend.execute\u001b[0;34m(self, ir, timed)\u001b[0m\n\u001b[1;32m    214\u001b[0m     \u001b[38;5;28;01mexcept\u001b[39;00m \u001b[38;5;167;01mException\u001b[39;00m \u001b[38;5;28;01mas\u001b[39;00m fatal:\n\u001b[1;32m    215\u001b[0m         \u001b[38;5;28;01mraise\u001b[39;00m err \u001b[38;5;28;01mfrom\u001b[39;00m\u001b[38;5;250m \u001b[39m\u001b[38;5;21;01mfatal\u001b[39;00m\n\u001b[0;32m--> 217\u001b[0m \u001b[38;5;28;01mraise\u001b[39;00m err\n",
      "File \u001b[0;32m/opt/conda/miniconda3/lib/python3.11/site-packages/hail/backend/spark_backend.py:209\u001b[0m, in \u001b[0;36mSparkBackend.execute\u001b[0;34m(self, ir, timed)\u001b[0m\n\u001b[1;32m    207\u001b[0m \u001b[38;5;28;01mdef\u001b[39;00m\u001b[38;5;250m \u001b[39m\u001b[38;5;21mexecute\u001b[39m(\u001b[38;5;28mself\u001b[39m, ir: BaseIR, timed: \u001b[38;5;28mbool\u001b[39m \u001b[38;5;241m=\u001b[39m \u001b[38;5;28;01mFalse\u001b[39;00m) \u001b[38;5;241m-\u001b[39m\u001b[38;5;241m>\u001b[39m Any:\n\u001b[1;32m    208\u001b[0m     \u001b[38;5;28;01mtry\u001b[39;00m:\n\u001b[0;32m--> 209\u001b[0m         \u001b[38;5;28;01mreturn\u001b[39;00m \u001b[38;5;28;43msuper\u001b[39;49m\u001b[43m(\u001b[49m\u001b[43m)\u001b[49m\u001b[38;5;241;43m.\u001b[39;49m\u001b[43mexecute\u001b[49m\u001b[43m(\u001b[49m\u001b[43mir\u001b[49m\u001b[43m,\u001b[49m\u001b[43m \u001b[49m\u001b[43mtimed\u001b[49m\u001b[43m)\u001b[49m\n\u001b[1;32m    210\u001b[0m     \u001b[38;5;28;01mexcept\u001b[39;00m \u001b[38;5;167;01mException\u001b[39;00m \u001b[38;5;28;01mas\u001b[39;00m err:\n\u001b[1;32m    211\u001b[0m         \u001b[38;5;28;01mif\u001b[39;00m \u001b[38;5;28mself\u001b[39m\u001b[38;5;241m.\u001b[39m_copy_log_on_error:\n",
      "File \u001b[0;32m/opt/conda/miniconda3/lib/python3.11/site-packages/hail/backend/backend.py:181\u001b[0m, in \u001b[0;36mBackend.execute\u001b[0;34m(self, ir, timed)\u001b[0m\n\u001b[1;32m    179\u001b[0m     result, timings \u001b[38;5;241m=\u001b[39m \u001b[38;5;28mself\u001b[39m\u001b[38;5;241m.\u001b[39m_rpc(ActionTag\u001b[38;5;241m.\u001b[39mEXECUTE, payload)\n\u001b[1;32m    180\u001b[0m \u001b[38;5;28;01mexcept\u001b[39;00m FatalError \u001b[38;5;28;01mas\u001b[39;00m e:\n\u001b[0;32m--> 181\u001b[0m     \u001b[38;5;28;01mraise\u001b[39;00m e\u001b[38;5;241m.\u001b[39mmaybe_user_error(ir) \u001b[38;5;28;01mfrom\u001b[39;00m\u001b[38;5;250m \u001b[39m\u001b[38;5;28;01mNone\u001b[39;00m\n\u001b[1;32m    182\u001b[0m \u001b[38;5;28;01mif\u001b[39;00m ir\u001b[38;5;241m.\u001b[39mtyp \u001b[38;5;241m==\u001b[39m tvoid:\n\u001b[1;32m    183\u001b[0m     value \u001b[38;5;241m=\u001b[39m \u001b[38;5;28;01mNone\u001b[39;00m\n",
      "File \u001b[0;32m/opt/conda/miniconda3/lib/python3.11/site-packages/hail/backend/backend.py:179\u001b[0m, in \u001b[0;36mBackend.execute\u001b[0;34m(self, ir, timed)\u001b[0m\n\u001b[1;32m    177\u001b[0m payload \u001b[38;5;241m=\u001b[39m ExecutePayload(\u001b[38;5;28mself\u001b[39m\u001b[38;5;241m.\u001b[39m_render_ir(ir), \u001b[38;5;124m'\u001b[39m\u001b[38;5;124m{\u001b[39m\u001b[38;5;124m\"\u001b[39m\u001b[38;5;124mname\u001b[39m\u001b[38;5;124m\"\u001b[39m\u001b[38;5;124m:\u001b[39m\u001b[38;5;124m\"\u001b[39m\u001b[38;5;124mStreamBufferSpec\u001b[39m\u001b[38;5;124m\"\u001b[39m\u001b[38;5;124m}\u001b[39m\u001b[38;5;124m'\u001b[39m, timed)\n\u001b[1;32m    178\u001b[0m \u001b[38;5;28;01mtry\u001b[39;00m:\n\u001b[0;32m--> 179\u001b[0m     result, timings \u001b[38;5;241m=\u001b[39m \u001b[38;5;28;43mself\u001b[39;49m\u001b[38;5;241;43m.\u001b[39;49m\u001b[43m_rpc\u001b[49m\u001b[43m(\u001b[49m\u001b[43mActionTag\u001b[49m\u001b[38;5;241;43m.\u001b[39;49m\u001b[43mEXECUTE\u001b[49m\u001b[43m,\u001b[49m\u001b[43m \u001b[49m\u001b[43mpayload\u001b[49m\u001b[43m)\u001b[49m\n\u001b[1;32m    180\u001b[0m \u001b[38;5;28;01mexcept\u001b[39;00m FatalError \u001b[38;5;28;01mas\u001b[39;00m e:\n\u001b[1;32m    181\u001b[0m     \u001b[38;5;28;01mraise\u001b[39;00m e\u001b[38;5;241m.\u001b[39mmaybe_user_error(ir) \u001b[38;5;28;01mfrom\u001b[39;00m\u001b[38;5;250m \u001b[39m\u001b[38;5;28;01mNone\u001b[39;00m\n",
      "File \u001b[0;32m/opt/conda/miniconda3/lib/python3.11/site-packages/hail/backend/py4j_backend.py:232\u001b[0m, in \u001b[0;36mPy4JBackend._rpc\u001b[0;34m(self, action, payload)\u001b[0m\n\u001b[1;32m    230\u001b[0m \u001b[38;5;28;01mif\u001b[39;00m resp\u001b[38;5;241m.\u001b[39mstatus_code \u001b[38;5;241m>\u001b[39m\u001b[38;5;241m=\u001b[39m \u001b[38;5;241m400\u001b[39m:\n\u001b[1;32m    231\u001b[0m     error_json \u001b[38;5;241m=\u001b[39m orjson\u001b[38;5;241m.\u001b[39mloads(resp\u001b[38;5;241m.\u001b[39mcontent)\n\u001b[0;32m--> 232\u001b[0m     \u001b[38;5;28;01mraise\u001b[39;00m fatal_error_from_java_error_triplet(\n\u001b[1;32m    233\u001b[0m         error_json[\u001b[38;5;124m'\u001b[39m\u001b[38;5;124mshort\u001b[39m\u001b[38;5;124m'\u001b[39m], error_json[\u001b[38;5;124m'\u001b[39m\u001b[38;5;124mexpanded\u001b[39m\u001b[38;5;124m'\u001b[39m], error_json[\u001b[38;5;124m'\u001b[39m\u001b[38;5;124merror_id\u001b[39m\u001b[38;5;124m'\u001b[39m]\n\u001b[1;32m    234\u001b[0m     )\n\u001b[1;32m    235\u001b[0m \u001b[38;5;28;01mreturn\u001b[39;00m resp\u001b[38;5;241m.\u001b[39mcontent, parse_timings(resp\u001b[38;5;241m.\u001b[39mheaders\u001b[38;5;241m.\u001b[39mget(\u001b[38;5;124m'\u001b[39m\u001b[38;5;124mX-Hail-Timings\u001b[39m\u001b[38;5;124m'\u001b[39m, \u001b[38;5;28;01mNone\u001b[39;00m))\n",
      "\u001b[0;31mFatalError\u001b[0m: HailException: RelationalSetup.writeMetadata: file already exists: gs://pbn_pilot/proj-PBN/04_rare_SNPs/00_raw_data/05_vep_explode_coding_annot.mt\n\nJava stack trace:\nis.hail.utils.HailException: RelationalSetup.writeMetadata: file already exists: gs://pbn_pilot/proj-PBN/04_rare_SNPs/00_raw_data/05_vep_explode_coding_annot.mt\n\tat __C21034Compile.__m21038begin_group_0(Emit.scala)\n\tat __C21034Compile.__m21036split_Block(Emit.scala)\n\tat __C21034Compile.apply(Emit.scala)\n\tat is.hail.expr.ir.CompileAndEvaluate$.$anonfun$_apply$3(CompileAndEvaluate.scala:64)\n\tat scala.runtime.java8.JFunction0$mcV$sp.apply(JFunction0$mcV$sp.java:23)\n\tat is.hail.utils.ExecutionTimer.time(ExecutionTimer.scala:98)\n\tat is.hail.backend.ExecuteContext.time(ExecuteContext.scala:187)\n\tat is.hail.expr.ir.CompileAndEvaluate$.$anonfun$_apply$2(CompileAndEvaluate.scala:64)\n\tat is.hail.expr.ir.CompileAndEvaluate$.$anonfun$_apply$2$adapted(CompileAndEvaluate.scala:62)\n\tat is.hail.backend.ExecuteContext.$anonfun$scopedExecution$2(ExecuteContext.scala:166)\n\tat is.hail.utils.ExecutionTimer.time(ExecutionTimer.scala:98)\n\tat is.hail.backend.ExecuteContext.time(ExecuteContext.scala:187)\n\tat is.hail.backend.ExecuteContext.$anonfun$scopedExecution$1(ExecuteContext.scala:165)\n\tat is.hail.utils.package$.using(package.scala:665)\n\tat is.hail.backend.ExecuteContext.scopedExecution(ExecuteContext.scala:164)\n\tat is.hail.expr.ir.CompileAndEvaluate$.$anonfun$_apply$1(CompileAndEvaluate.scala:62)\n\tat is.hail.utils.ExecutionTimer.time(ExecutionTimer.scala:98)\n\tat is.hail.backend.ExecuteContext.time(ExecuteContext.scala:187)\n\tat is.hail.expr.ir.CompileAndEvaluate$._apply(CompileAndEvaluate.scala:47)\n\tat is.hail.expr.ir.CompileAndEvaluate$.evalToIR(CompileAndEvaluate.scala:30)\n\tat is.hail.expr.ir.LowerOrInterpretNonCompilable$.evaluate$1(LowerOrInterpretNonCompilable.scala:31)\n\tat is.hail.expr.ir.LowerOrInterpretNonCompilable$.rewrite$1(LowerOrInterpretNonCompilable.scala:60)\n\tat is.hail.expr.ir.LowerOrInterpretNonCompilable$.apply(LowerOrInterpretNonCompilable.scala:65)\n\tat is.hail.expr.ir.lowering.LowerOrInterpretNonCompilablePass$.transform(LoweringPass.scala:86)\n\tat is.hail.expr.ir.lowering.LoweringPass.$anonfun$apply$3(LoweringPass.scala:37)\n\tat is.hail.utils.ExecutionTimer.time(ExecutionTimer.scala:98)\n\tat is.hail.expr.ir.lowering.LoweringPass.$anonfun$apply$1(LoweringPass.scala:37)\n\tat is.hail.utils.ExecutionTimer.time(ExecutionTimer.scala:98)\n\tat is.hail.expr.ir.lowering.LoweringPass.apply(LoweringPass.scala:35)\n\tat is.hail.expr.ir.lowering.LoweringPass.apply$(LoweringPass.scala:34)\n\tat is.hail.expr.ir.lowering.LowerOrInterpretNonCompilablePass$.apply(LoweringPass.scala:81)\n\tat is.hail.expr.ir.lowering.LoweringPipeline.$anonfun$apply$2(LoweringPipeline.scala:22)\n\tat is.hail.expr.ir.lowering.LoweringPipeline.$anonfun$apply$2$adapted(LoweringPipeline.scala:20)\n\tat scala.collection.mutable.ResizableArray.foreach(ResizableArray.scala:62)\n\tat scala.collection.mutable.ResizableArray.foreach$(ResizableArray.scala:55)\n\tat scala.collection.mutable.ArrayBuffer.foreach(ArrayBuffer.scala:49)\n\tat is.hail.expr.ir.lowering.LoweringPipeline.$anonfun$apply$1(LoweringPipeline.scala:20)\n\tat is.hail.utils.ExecutionTimer.time(ExecutionTimer.scala:98)\n\tat is.hail.backend.ExecuteContext.time(ExecuteContext.scala:187)\n\tat is.hail.expr.ir.lowering.LoweringPipeline.apply(LoweringPipeline.scala:11)\n\tat is.hail.expr.ir.CompileAndEvaluate$.$anonfun$_apply$1(CompileAndEvaluate.scala:48)\n\tat is.hail.utils.ExecutionTimer.time(ExecutionTimer.scala:98)\n\tat is.hail.backend.ExecuteContext.time(ExecuteContext.scala:187)\n\tat is.hail.expr.ir.CompileAndEvaluate$._apply(CompileAndEvaluate.scala:47)\n\tat is.hail.backend.spark.SparkBackend.$anonfun$execute$1(SparkBackend.scala:554)\n\tat is.hail.utils.ExecutionTimer.time(ExecutionTimer.scala:98)\n\tat is.hail.backend.ExecuteContext.time(ExecuteContext.scala:187)\n\tat is.hail.backend.spark.SparkBackend.execute(SparkBackend.scala:543)\n\tat is.hail.backend.BackendHttpHandler.$anonfun$handle$4(BackendServer.scala:93)\n\tat is.hail.utils.package$.using(package.scala:665)\n\tat is.hail.backend.ExecuteContext.local(ExecuteContext.scala:226)\n\tat is.hail.backend.BackendHttpHandler.$anonfun$handle$3(BackendServer.scala:91)\n\tat is.hail.utils.ExecutionTimer$.time(ExecutionTimer.scala:15)\n\tat is.hail.backend.BackendHttpHandler.$anonfun$handle$2(BackendServer.scala:90)\n\tat is.hail.backend.BackendHttpHandler.$anonfun$handle$2$adapted(BackendServer.scala:89)\n\tat is.hail.backend.ExecuteContext$.$anonfun$scoped$3(ExecuteContext.scala:103)\n\tat is.hail.utils.package$.using(package.scala:665)\n\tat is.hail.backend.ExecuteContext$.$anonfun$scoped$2(ExecuteContext.scala:103)\n\tat is.hail.utils.package$.using(package.scala:665)\n\tat is.hail.annotations.RegionPool.scopedRegion(RegionPool.scala:166)\n\tat is.hail.backend.ExecuteContext$.$anonfun$scoped$1(ExecuteContext.scala:85)\n\tat is.hail.utils.package$.using(package.scala:665)\n\tat is.hail.annotations.RegionPool$.scoped(RegionPool.scala:13)\n\tat is.hail.backend.ExecuteContext$.scoped(ExecuteContext.scala:84)\n\tat is.hail.backend.spark.SparkBackend.$anonfun$withExecuteContext$1(SparkBackend.scala:410)\n\tat is.hail.utils.ExecutionTimer$.time(ExecutionTimer.scala:15)\n\tat is.hail.utils.ExecutionTimer$.logTime(ExecutionTimer.scala:22)\n\tat is.hail.backend.spark.SparkBackend.withExecuteContext(SparkBackend.scala:390)\n\tat is.hail.backend.BackendHttpHandler.handle(BackendServer.scala:89)\n\tat jdk.httpserver/com.sun.net.httpserver.Filter$Chain.doFilter(Filter.java:77)\n\tat jdk.httpserver/sun.net.httpserver.AuthFilter.doFilter(AuthFilter.java:82)\n\tat jdk.httpserver/com.sun.net.httpserver.Filter$Chain.doFilter(Filter.java:80)\n\tat jdk.httpserver/sun.net.httpserver.ServerImpl$Exchange$LinkHandler.handle(ServerImpl.java:848)\n\tat jdk.httpserver/com.sun.net.httpserver.Filter$Chain.doFilter(Filter.java:77)\n\tat jdk.httpserver/sun.net.httpserver.ServerImpl$Exchange.run(ServerImpl.java:817)\n\tat jdk.httpserver/sun.net.httpserver.ServerImpl$DefaultExecutor.execute(ServerImpl.java:201)\n\tat jdk.httpserver/sun.net.httpserver.ServerImpl$Dispatcher.handle(ServerImpl.java:560)\n\tat jdk.httpserver/sun.net.httpserver.ServerImpl$Dispatcher.run(ServerImpl.java:526)\n\tat java.base/java.lang.Thread.run(Thread.java:829)\n\n\n\nHail version: 0.2.135-034ef3e08116\nError summary: HailException: RelationalSetup.writeMetadata: file already exists: gs://pbn_pilot/proj-PBN/04_rare_SNPs/00_raw_data/05_vep_explode_coding_annot.mt"
     ]
    }
   ],
   "source": [
    "# Write temp file\n",
    "mt.checkpoint('gs://pbn_pilot/proj-PBN/04_rare_SNPs/00_raw_data/05_vep_explode_coding_annot.mt')"
   ]
  },
  {
   "cell_type": "code",
   "execution_count": 22,
   "id": "d4b13fb2",
   "metadata": {},
   "outputs": [
    {
     "data": {
      "text/html": [
       "<p><b>Variant summary:</b></p><ul><li><p>Total variants: 144695</p></li><li><p>Alleles per variant:</p><table><thead style=\"font-weight: bold;\"><tr><th>Number of alleles</th><th>Count</th></tr></thead><tbody><tr><td>2</td><td>144695</td></tr></tbody></table></li><li><p>Counts by allele type:</p><table><thead style=\"font-weight: bold;\"><tr><th>Allele type</th><th>Count</th></tr></thead><tbody><tr><td>SNP</td><td>142129</td></tr><tr><td>Deletion</td><td>1625</td></tr><tr><td>Insertion</td><td>941</td></tr></tbody></table></li><li><p>Transitions/Transversions:</p><table><thead style=\"font-weight: bold;\"><tr><th>Metric</th><th>Value</th></tr></thead><tbody><tr><td>Transitions</td><td>108336</td></tr><tr><td>Transversions</td><td>33793</td></tr><tr><td>Ratio</td><td>3.21</td></tr></tbody></table></li><li><p>Variants per contig:</p><table><thead style=\"font-weight: bold;\"><tr><th>Contig</th><th>Count</th></tr></thead><tbody><tr><td>chr1</td><td>14114</td></tr><tr><td>chr2</td><td>9796</td></tr><tr><td>chr3</td><td>7761</td></tr><tr><td>chr4</td><td>5716</td></tr><tr><td>chr5</td><td>6435</td></tr><tr><td>chr6</td><td>8110</td></tr><tr><td>chr7</td><td>6575</td></tr><tr><td>chr8</td><td>5316</td></tr><tr><td>chr9</td><td>6054</td></tr><tr><td>chr10</td><td>5630</td></tr><tr><td>chr11</td><td>9477</td></tr><tr><td>chr12</td><td>7199</td></tr><tr><td>chr13</td><td>2374</td></tr><tr><td>chr14</td><td>4558</td></tr><tr><td>chr15</td><td>4585</td></tr><tr><td>chr16</td><td>6764</td></tr><tr><td>chr17</td><td>8814</td></tr><tr><td>chr18</td><td>2237</td></tr><tr><td>chr19</td><td>11689</td></tr><tr><td>chr20</td><td>3861</td></tr><tr><td>chr21</td><td>1649</td></tr><tr><td>chr22</td><td>3376</td></tr><tr><td>chrX</td><td>2605</td></tr></tbody></table></li></ul>"
      ],
      "text/plain": [
       "==============================\n",
       "Number of variants: 144695\n",
       "==============================\n",
       "Alleles per variant\n",
       "-------------------\n",
       "  2 alleles: 144695 variants\n",
       "==============================\n",
       "Variants per contig\n",
       "-------------------\n",
       "   chr1: 14114 variants\n",
       "   chr2: 9796 variants\n",
       "   chr3: 7761 variants\n",
       "   chr4: 5716 variants\n",
       "   chr5: 6435 variants\n",
       "   chr6: 8110 variants\n",
       "   chr7: 6575 variants\n",
       "   chr8: 5316 variants\n",
       "   chr9: 6054 variants\n",
       "  chr10: 5630 variants\n",
       "  chr11: 9477 variants\n",
       "  chr12: 7199 variants\n",
       "  chr13: 2374 variants\n",
       "  chr14: 4558 variants\n",
       "  chr15: 4585 variants\n",
       "  chr16: 6764 variants\n",
       "  chr17: 8814 variants\n",
       "  chr18: 2237 variants\n",
       "  chr19: 11689 variants\n",
       "  chr20: 3861 variants\n",
       "  chr21: 1649 variants\n",
       "  chr22: 3376 variants\n",
       "   chrX: 2605 variants\n",
       "==============================\n",
       "Allele type distribution\n",
       "------------------------\n",
       "        SNP: 142129 alternate alleles (Ti: 108336, Tv: 33793, ratio: 3.21)\n",
       "   Deletion: 1625 alternate alleles\n",
       "  Insertion: 941 alternate alleles\n",
       "=============================="
      ]
     },
     "metadata": {},
     "output_type": "display_data"
    }
   ],
   "source": [
    "# gene burden format or fisher test\n",
    "mt.count()\n",
    "hl.summarize_variants(mt)"
   ]
  },
  {
   "cell_type": "code",
   "execution_count": 23,
   "id": "638cec22",
   "metadata": {},
   "outputs": [
    {
     "name": "stdout",
     "output_type": "stream",
     "text": [
      "the next part is to group variants by gene which falls\n"
     ]
    },
    {
     "name": "stderr",
     "output_type": "stream",
     "text": [
      "2025-07-16 17:30:17.063 Hail: INFO: Ordering unsorted dataset with network shuffle\n",
      "WARNING: An illegal reflective access operation has occurred\n",
      "WARNING: Illegal reflective access by org.apache.spark.util.SizeEstimator$ (file:/usr/lib/spark/jars/spark-core_2.12-3.5.0.jar) to field java.lang.ref.Reference.referent\n",
      "WARNING: Please consider reporting this to the maintainers of org.apache.spark.util.SizeEstimator$\n",
      "WARNING: Use --illegal-access=warn to enable warnings of further illegal reflective access operations\n",
      "WARNING: All illegal access operations will be denied in a future release\n"
     ]
    },
    {
     "data": {
      "text/plain": [
       "(17318, 70)"
      ]
     },
     "execution_count": 23,
     "metadata": {},
     "output_type": "execute_result"
    }
   ],
   "source": [
    "print(\"the next part is to group variants by gene which falls\")  # gene_symbol대신 gene_id\n",
    "# reference only가 아닌 경우!\n",
    "mt2 = mt.group_rows_by(mt.vep.worst_csq_by_gene_canonical.gene_id, mt.vep.worst_csq_by_gene_canonical.gene_symbol).aggregate(\n",
    "#mt2 = mt.group_rows_by(mt.gene_symbol, mt.interval_from_genecode).aggregate(\n",
    "    ptv = hl.agg.count_where(mt.AC5 & mt.isPTV & mt.GT.is_non_ref()),\n",
    "    \n",
    "    ptv_plus_mpc3 = hl.agg.count_where(mt.AC5 & (mt.isPTV | mt.mpc3) & mt.GT.is_non_ref()),\n",
    "    ptv_plus_mpc2 = hl.agg.count_where(mt.AC5 & (mt.isPTV | mt.mpc2) & mt.GT.is_non_ref()),\n",
    "    mpc2 = hl.agg.count_where(mt.AC5 & mt.mpc2 & mt.GT.is_non_ref()),\n",
    "        \n",
    "    syn = hl.agg.count_where(mt.AC5 & mt.isSYN & mt.GT.is_non_ref())\n",
    ")\n",
    "mt2.count() # (18371, 44906)"
   ]
  },
  {
   "cell_type": "code",
   "execution_count": 24,
   "id": "132ddf31",
   "metadata": {},
   "outputs": [],
   "source": [
    "mt2 = mt2.key_rows_by(gene_symbol=mt2.gene_symbol)"
   ]
  },
  {
   "cell_type": "code",
   "execution_count": 25,
   "id": "a37b8a47",
   "metadata": {},
   "outputs": [
    {
     "name": "stderr",
     "output_type": "stream",
     "text": [
      "2025-07-16 17:30:24.580 Hail: INFO: Reading table without type imputation\n",
      "  Loading field 'f0' as type str (not specified)\n",
      "  Loading field 'f1' as type str (not specified)\n",
      "  Loading field 'f2' as type str (not specified)\n",
      "  Loading field 'f3' as type int32 (user-supplied)\n",
      "  Loading field 'f4' as type int32 (user-supplied)\n",
      "  Loading field 'f5' as type float64 (user-supplied)\n",
      "  Loading field 'f6' as type str (not specified)\n",
      "  Loading field 'f7' as type int32 (user-supplied)\n",
      "  Loading field 'f8' as type str (not specified)\n",
      "2025-07-16 17:32:57.148 Hail: INFO: wrote table with 2742017 rows in 1 partition to /tmp/9cCYDAkWPJC1MDJW6vbSY7\n"
     ]
    }
   ],
   "source": [
    "# 1. GENCODE GTF \n",
    "gencode_ht = hl.experimental.import_gtf(\n",
    "    \"gs://hail-common/references/gencode/gencode.v29.annotation.gtf.bgz\",\n",
    "    reference_genome=\"GRCh38\",\n",
    "    skip_invalid_contigs=True)"
   ]
  },
  {
   "cell_type": "code",
   "execution_count": 26,
   "id": "17515925",
   "metadata": {},
   "outputs": [
    {
     "name": "stdout",
     "output_type": "stream",
     "text": [
      "annotate...\n"
     ]
    },
    {
     "name": "stderr",
     "output_type": "stream",
     "text": [
      "2025-07-16 17:33:18.035 Hail: INFO: Ordering unsorted dataset with network shuffle\n"
     ]
    },
    {
     "data": {
      "text/plain": [
       "(17318, 70)"
      ]
     },
     "execution_count": 26,
     "metadata": {},
     "output_type": "execute_result"
    }
   ],
   "source": [
    "print(\"annotate...\")\n",
    "gencode_ht = gencode_ht.key_by(\"gene_name\")\n",
    "mt2 = mt2.annotate_rows(gene_type_from_genecode=gencode_ht[mt2.row_key.gene_symbol].gene_type)\n",
    "mt2 = mt2.annotate_rows(gene_id_from_genecode=gencode_ht[mt2.row_key.gene_symbol].gene_id)\n",
    "mt2.count() # (18371, 44906)"
   ]
  },
  {
   "cell_type": "code",
   "execution_count": 27,
   "id": "11d8257d",
   "metadata": {},
   "outputs": [
    {
     "name": "stdout",
     "output_type": "stream",
     "text": [
      "filter to protein coding...\n"
     ]
    },
    {
     "name": "stderr",
     "output_type": "stream",
     "text": [
      "2025-07-16 17:33:32.324 Hail: INFO: Ordering unsorted dataset with network shuffle\n",
      "2025-07-16 17:33:37.923 Hail: INFO: Ordering unsorted dataset with network shuffle\n",
      "2025-07-16 17:33:52.357 Hail: INFO: Ordering unsorted dataset with network shuffle\n",
      "[Stage 3:===(24 + 4) / 24][Stage 4:===(24 + 4) / 24][Stage 7:===(24 + 1) / 24]\r"
     ]
    },
    {
     "data": {
      "text/plain": [
       "(17283, 70)"
      ]
     },
     "execution_count": 27,
     "metadata": {},
     "output_type": "execute_result"
    }
   ],
   "source": [
    "print(\"filter to protein coding...\")\n",
    "mt2 = mt2.filter_rows(mt2.gene_type_from_genecode == \"protein_coding\") \n",
    "mt2.count() # (18334, 44906)"
   ]
  },
  {
   "cell_type": "code",
   "execution_count": 28,
   "id": "e2c34630",
   "metadata": {},
   "outputs": [
    {
     "name": "stdout",
     "output_type": "stream",
     "text": [
      "annotate gene's interval info...\n",
      "----------------------------------------\n",
      "Global fields:\n",
      "    None\n",
      "----------------------------------------\n",
      "Column fields:\n",
      "    's': str\n",
      "----------------------------------------\n",
      "Row fields:\n",
      "    'gene_id': str\n",
      "    'gene_symbol': str\n",
      "    'gene_type_from_genecode': str\n",
      "    'gene_id_from_genecode': str\n",
      "    'interval_from_genecode': interval<locus<GRCh38>>\n",
      "----------------------------------------\n",
      "Entry fields:\n",
      "    'ptv': int64\n",
      "    'ptv_plus_mpc3': int64\n",
      "    'ptv_plus_mpc2': int64\n",
      "    'mpc2': int64\n",
      "    'syn': int64\n",
      "----------------------------------------\n",
      "Column key: ['s']\n",
      "Row key: ['gene_symbol']\n",
      "----------------------------------------\n"
     ]
    }
   ],
   "source": [
    "print(\"annotate gene's interval info...\")\n",
    "mt2 = mt2.annotate_rows(interval_from_genecode=gencode_ht[mt2.row_key.gene_symbol].interval)\n",
    "mt2.describe()"
   ]
  },
  {
   "cell_type": "code",
   "execution_count": 29,
   "id": "ccd4f0cc",
   "metadata": {},
   "outputs": [
    {
     "name": "stdout",
     "output_type": "stream",
     "text": [
      "write final mt2...\n"
     ]
    },
    {
     "name": "stderr",
     "output_type": "stream",
     "text": [
      "2025-07-16 17:36:10.071 Hail: INFO: Ordering unsorted dataset with network shuffle\n",
      "2025-07-16 17:37:15.230 Hail: INFO: Ordering unsorted dataset with network shuffle\n",
      "2025-07-16 17:37:30.258 Hail: INFO: Ordering unsorted dataset with network shuffle\n",
      "2025-07-16 17:37:42.143 Hail: INFO: Ordering unsorted dataset with network shuffle\n",
      "2025-07-16 17:37:56.676 Hail: INFO: Ordering unsorted dataset with network shuffle\n"
     ]
    },
    {
     "ename": "FatalError",
     "evalue": "HailException: RelationalSetup.writeMetadata: file already exists: gs://pbn_pilot/proj-PBN/04_rare_SNPs/00_raw_data/06_ac_ptv_mpc_syn.gene_group.bge_all.mt\n\nJava stack trace:\nis.hail.utils.HailException: RelationalSetup.writeMetadata: file already exists: gs://pbn_pilot/proj-PBN/04_rare_SNPs/00_raw_data/06_ac_ptv_mpc_syn.gene_group.bge_all.mt\n\tat __C39069Compile.__m39073begin_group_0(Emit.scala)\n\tat __C39069Compile.__m39071split_Block(Emit.scala)\n\tat __C39069Compile.apply(Emit.scala)\n\tat is.hail.expr.ir.CompileAndEvaluate$.$anonfun$_apply$3(CompileAndEvaluate.scala:64)\n\tat scala.runtime.java8.JFunction0$mcV$sp.apply(JFunction0$mcV$sp.java:23)\n\tat is.hail.utils.ExecutionTimer.time(ExecutionTimer.scala:98)\n\tat is.hail.backend.ExecuteContext.time(ExecuteContext.scala:187)\n\tat is.hail.expr.ir.CompileAndEvaluate$.$anonfun$_apply$2(CompileAndEvaluate.scala:64)\n\tat is.hail.expr.ir.CompileAndEvaluate$.$anonfun$_apply$2$adapted(CompileAndEvaluate.scala:62)\n\tat is.hail.backend.ExecuteContext.$anonfun$scopedExecution$2(ExecuteContext.scala:166)\n\tat is.hail.utils.ExecutionTimer.time(ExecutionTimer.scala:98)\n\tat is.hail.backend.ExecuteContext.time(ExecuteContext.scala:187)\n\tat is.hail.backend.ExecuteContext.$anonfun$scopedExecution$1(ExecuteContext.scala:165)\n\tat is.hail.utils.package$.using(package.scala:665)\n\tat is.hail.backend.ExecuteContext.scopedExecution(ExecuteContext.scala:164)\n\tat is.hail.expr.ir.CompileAndEvaluate$.$anonfun$_apply$1(CompileAndEvaluate.scala:62)\n\tat is.hail.utils.ExecutionTimer.time(ExecutionTimer.scala:98)\n\tat is.hail.backend.ExecuteContext.time(ExecuteContext.scala:187)\n\tat is.hail.expr.ir.CompileAndEvaluate$._apply(CompileAndEvaluate.scala:47)\n\tat is.hail.expr.ir.CompileAndEvaluate$.evalToIR(CompileAndEvaluate.scala:30)\n\tat is.hail.expr.ir.LowerOrInterpretNonCompilable$.evaluate$1(LowerOrInterpretNonCompilable.scala:31)\n\tat is.hail.expr.ir.LowerOrInterpretNonCompilable$.rewrite$1(LowerOrInterpretNonCompilable.scala:60)\n\tat is.hail.expr.ir.LowerOrInterpretNonCompilable$.apply(LowerOrInterpretNonCompilable.scala:65)\n\tat is.hail.expr.ir.lowering.LowerOrInterpretNonCompilablePass$.transform(LoweringPass.scala:86)\n\tat is.hail.expr.ir.lowering.LoweringPass.$anonfun$apply$3(LoweringPass.scala:37)\n\tat is.hail.utils.ExecutionTimer.time(ExecutionTimer.scala:98)\n\tat is.hail.expr.ir.lowering.LoweringPass.$anonfun$apply$1(LoweringPass.scala:37)\n\tat is.hail.utils.ExecutionTimer.time(ExecutionTimer.scala:98)\n\tat is.hail.expr.ir.lowering.LoweringPass.apply(LoweringPass.scala:35)\n\tat is.hail.expr.ir.lowering.LoweringPass.apply$(LoweringPass.scala:34)\n\tat is.hail.expr.ir.lowering.LowerOrInterpretNonCompilablePass$.apply(LoweringPass.scala:81)\n\tat is.hail.expr.ir.lowering.LoweringPipeline.$anonfun$apply$2(LoweringPipeline.scala:22)\n\tat is.hail.expr.ir.lowering.LoweringPipeline.$anonfun$apply$2$adapted(LoweringPipeline.scala:20)\n\tat scala.collection.mutable.ResizableArray.foreach(ResizableArray.scala:62)\n\tat scala.collection.mutable.ResizableArray.foreach$(ResizableArray.scala:55)\n\tat scala.collection.mutable.ArrayBuffer.foreach(ArrayBuffer.scala:49)\n\tat is.hail.expr.ir.lowering.LoweringPipeline.$anonfun$apply$1(LoweringPipeline.scala:20)\n\tat is.hail.utils.ExecutionTimer.time(ExecutionTimer.scala:98)\n\tat is.hail.backend.ExecuteContext.time(ExecuteContext.scala:187)\n\tat is.hail.expr.ir.lowering.LoweringPipeline.apply(LoweringPipeline.scala:11)\n\tat is.hail.expr.ir.CompileAndEvaluate$.$anonfun$_apply$1(CompileAndEvaluate.scala:48)\n\tat is.hail.utils.ExecutionTimer.time(ExecutionTimer.scala:98)\n\tat is.hail.backend.ExecuteContext.time(ExecuteContext.scala:187)\n\tat is.hail.expr.ir.CompileAndEvaluate$._apply(CompileAndEvaluate.scala:47)\n\tat is.hail.backend.spark.SparkBackend.$anonfun$execute$1(SparkBackend.scala:554)\n\tat is.hail.utils.ExecutionTimer.time(ExecutionTimer.scala:98)\n\tat is.hail.backend.ExecuteContext.time(ExecuteContext.scala:187)\n\tat is.hail.backend.spark.SparkBackend.execute(SparkBackend.scala:543)\n\tat is.hail.backend.BackendHttpHandler.$anonfun$handle$4(BackendServer.scala:93)\n\tat is.hail.utils.package$.using(package.scala:665)\n\tat is.hail.backend.ExecuteContext.local(ExecuteContext.scala:226)\n\tat is.hail.backend.BackendHttpHandler.$anonfun$handle$3(BackendServer.scala:91)\n\tat is.hail.utils.ExecutionTimer$.time(ExecutionTimer.scala:15)\n\tat is.hail.backend.BackendHttpHandler.$anonfun$handle$2(BackendServer.scala:90)\n\tat is.hail.backend.BackendHttpHandler.$anonfun$handle$2$adapted(BackendServer.scala:89)\n\tat is.hail.backend.ExecuteContext$.$anonfun$scoped$3(ExecuteContext.scala:103)\n\tat is.hail.utils.package$.using(package.scala:665)\n\tat is.hail.backend.ExecuteContext$.$anonfun$scoped$2(ExecuteContext.scala:103)\n\tat is.hail.utils.package$.using(package.scala:665)\n\tat is.hail.annotations.RegionPool.scopedRegion(RegionPool.scala:166)\n\tat is.hail.backend.ExecuteContext$.$anonfun$scoped$1(ExecuteContext.scala:85)\n\tat is.hail.utils.package$.using(package.scala:665)\n\tat is.hail.annotations.RegionPool$.scoped(RegionPool.scala:13)\n\tat is.hail.backend.ExecuteContext$.scoped(ExecuteContext.scala:84)\n\tat is.hail.backend.spark.SparkBackend.$anonfun$withExecuteContext$1(SparkBackend.scala:410)\n\tat is.hail.utils.ExecutionTimer$.time(ExecutionTimer.scala:15)\n\tat is.hail.utils.ExecutionTimer$.logTime(ExecutionTimer.scala:22)\n\tat is.hail.backend.spark.SparkBackend.withExecuteContext(SparkBackend.scala:390)\n\tat is.hail.backend.BackendHttpHandler.handle(BackendServer.scala:89)\n\tat jdk.httpserver/com.sun.net.httpserver.Filter$Chain.doFilter(Filter.java:77)\n\tat jdk.httpserver/sun.net.httpserver.AuthFilter.doFilter(AuthFilter.java:82)\n\tat jdk.httpserver/com.sun.net.httpserver.Filter$Chain.doFilter(Filter.java:80)\n\tat jdk.httpserver/sun.net.httpserver.ServerImpl$Exchange$LinkHandler.handle(ServerImpl.java:848)\n\tat jdk.httpserver/com.sun.net.httpserver.Filter$Chain.doFilter(Filter.java:77)\n\tat jdk.httpserver/sun.net.httpserver.ServerImpl$Exchange.run(ServerImpl.java:817)\n\tat jdk.httpserver/sun.net.httpserver.ServerImpl$DefaultExecutor.execute(ServerImpl.java:201)\n\tat jdk.httpserver/sun.net.httpserver.ServerImpl$Dispatcher.handle(ServerImpl.java:560)\n\tat jdk.httpserver/sun.net.httpserver.ServerImpl$Dispatcher.run(ServerImpl.java:526)\n\tat java.base/java.lang.Thread.run(Thread.java:829)\n\n\n\nHail version: 0.2.135-034ef3e08116\nError summary: HailException: RelationalSetup.writeMetadata: file already exists: gs://pbn_pilot/proj-PBN/04_rare_SNPs/00_raw_data/06_ac_ptv_mpc_syn.gene_group.bge_all.mt",
     "output_type": "error",
     "traceback": [
      "\u001b[0;31m---------------------------------------------------------------------------\u001b[0m",
      "\u001b[0;31mFatalError\u001b[0m                                Traceback (most recent call last)",
      "Cell \u001b[0;32mIn[29], line 2\u001b[0m\n\u001b[1;32m      1\u001b[0m \u001b[38;5;28mprint\u001b[39m(\u001b[38;5;124m\"\u001b[39m\u001b[38;5;124mwrite final mt2...\u001b[39m\u001b[38;5;124m\"\u001b[39m)\n\u001b[0;32m----> 2\u001b[0m \u001b[43mmt2\u001b[49m\u001b[38;5;241;43m.\u001b[39;49m\u001b[43mwrite\u001b[49m\u001b[43m(\u001b[49m\u001b[38;5;124;43m\"\u001b[39;49m\u001b[38;5;124;43mgs://pbn_pilot/proj-PBN/04_rare_SNPs/00_raw_data/06_ac_ptv_mpc_syn.gene_group.bge_all.mt\u001b[39;49m\u001b[38;5;124;43m\"\u001b[39;49m\u001b[43m)\u001b[49m\n",
      "File \u001b[0;32m<decorator-gen-1488>:2\u001b[0m, in \u001b[0;36mwrite\u001b[0;34m(self, output, overwrite, stage_locally, _codec_spec, _partitions)\u001b[0m\n",
      "File \u001b[0;32m/opt/conda/miniconda3/lib/python3.11/site-packages/hail/typecheck/check.py:584\u001b[0m, in \u001b[0;36m_make_dec.<locals>.wrapper\u001b[0;34m(__original_func, *args, **kwargs)\u001b[0m\n\u001b[1;32m    581\u001b[0m \u001b[38;5;129m@decorator\u001b[39m\n\u001b[1;32m    582\u001b[0m \u001b[38;5;28;01mdef\u001b[39;00m\u001b[38;5;250m \u001b[39m\u001b[38;5;21mwrapper\u001b[39m(__original_func: Callable[\u001b[38;5;241m.\u001b[39m\u001b[38;5;241m.\u001b[39m\u001b[38;5;241m.\u001b[39m, T], \u001b[38;5;241m*\u001b[39margs, \u001b[38;5;241m*\u001b[39m\u001b[38;5;241m*\u001b[39mkwargs) \u001b[38;5;241m-\u001b[39m\u001b[38;5;241m>\u001b[39m T:\n\u001b[1;32m    583\u001b[0m     args_, kwargs_ \u001b[38;5;241m=\u001b[39m check_all(__original_func, args, kwargs, checkers, is_method\u001b[38;5;241m=\u001b[39mis_method)\n\u001b[0;32m--> 584\u001b[0m     \u001b[38;5;28;01mreturn\u001b[39;00m \u001b[43m__original_func\u001b[49m\u001b[43m(\u001b[49m\u001b[38;5;241;43m*\u001b[39;49m\u001b[43margs_\u001b[49m\u001b[43m,\u001b[49m\u001b[43m \u001b[49m\u001b[38;5;241;43m*\u001b[39;49m\u001b[38;5;241;43m*\u001b[39;49m\u001b[43mkwargs_\u001b[49m\u001b[43m)\u001b[49m\n",
      "File \u001b[0;32m/opt/conda/miniconda3/lib/python3.11/site-packages/hail/matrixtable.py:2808\u001b[0m, in \u001b[0;36mMatrixTable.write\u001b[0;34m(self, output, overwrite, stage_locally, _codec_spec, _partitions)\u001b[0m\n\u001b[1;32m   2805\u001b[0m     _partitions_type \u001b[38;5;241m=\u001b[39m \u001b[38;5;28;01mNone\u001b[39;00m\n\u001b[1;32m   2807\u001b[0m writer \u001b[38;5;241m=\u001b[39m ir\u001b[38;5;241m.\u001b[39mMatrixNativeWriter(output, overwrite, stage_locally, _codec_spec, _partitions, _partitions_type)\n\u001b[0;32m-> 2808\u001b[0m \u001b[43mEnv\u001b[49m\u001b[38;5;241;43m.\u001b[39;49m\u001b[43mbackend\u001b[49m\u001b[43m(\u001b[49m\u001b[43m)\u001b[49m\u001b[38;5;241;43m.\u001b[39;49m\u001b[43mexecute\u001b[49m\u001b[43m(\u001b[49m\u001b[43mir\u001b[49m\u001b[38;5;241;43m.\u001b[39;49m\u001b[43mMatrixWrite\u001b[49m\u001b[43m(\u001b[49m\u001b[38;5;28;43mself\u001b[39;49m\u001b[38;5;241;43m.\u001b[39;49m\u001b[43m_mir\u001b[49m\u001b[43m,\u001b[49m\u001b[43m \u001b[49m\u001b[43mwriter\u001b[49m\u001b[43m)\u001b[49m\u001b[43m)\u001b[49m\n",
      "File \u001b[0;32m/opt/conda/miniconda3/lib/python3.11/site-packages/hail/backend/spark_backend.py:217\u001b[0m, in \u001b[0;36mSparkBackend.execute\u001b[0;34m(self, ir, timed)\u001b[0m\n\u001b[1;32m    214\u001b[0m     \u001b[38;5;28;01mexcept\u001b[39;00m \u001b[38;5;167;01mException\u001b[39;00m \u001b[38;5;28;01mas\u001b[39;00m fatal:\n\u001b[1;32m    215\u001b[0m         \u001b[38;5;28;01mraise\u001b[39;00m err \u001b[38;5;28;01mfrom\u001b[39;00m\u001b[38;5;250m \u001b[39m\u001b[38;5;21;01mfatal\u001b[39;00m\n\u001b[0;32m--> 217\u001b[0m \u001b[38;5;28;01mraise\u001b[39;00m err\n",
      "File \u001b[0;32m/opt/conda/miniconda3/lib/python3.11/site-packages/hail/backend/spark_backend.py:209\u001b[0m, in \u001b[0;36mSparkBackend.execute\u001b[0;34m(self, ir, timed)\u001b[0m\n\u001b[1;32m    207\u001b[0m \u001b[38;5;28;01mdef\u001b[39;00m\u001b[38;5;250m \u001b[39m\u001b[38;5;21mexecute\u001b[39m(\u001b[38;5;28mself\u001b[39m, ir: BaseIR, timed: \u001b[38;5;28mbool\u001b[39m \u001b[38;5;241m=\u001b[39m \u001b[38;5;28;01mFalse\u001b[39;00m) \u001b[38;5;241m-\u001b[39m\u001b[38;5;241m>\u001b[39m Any:\n\u001b[1;32m    208\u001b[0m     \u001b[38;5;28;01mtry\u001b[39;00m:\n\u001b[0;32m--> 209\u001b[0m         \u001b[38;5;28;01mreturn\u001b[39;00m \u001b[38;5;28;43msuper\u001b[39;49m\u001b[43m(\u001b[49m\u001b[43m)\u001b[49m\u001b[38;5;241;43m.\u001b[39;49m\u001b[43mexecute\u001b[49m\u001b[43m(\u001b[49m\u001b[43mir\u001b[49m\u001b[43m,\u001b[49m\u001b[43m \u001b[49m\u001b[43mtimed\u001b[49m\u001b[43m)\u001b[49m\n\u001b[1;32m    210\u001b[0m     \u001b[38;5;28;01mexcept\u001b[39;00m \u001b[38;5;167;01mException\u001b[39;00m \u001b[38;5;28;01mas\u001b[39;00m err:\n\u001b[1;32m    211\u001b[0m         \u001b[38;5;28;01mif\u001b[39;00m \u001b[38;5;28mself\u001b[39m\u001b[38;5;241m.\u001b[39m_copy_log_on_error:\n",
      "File \u001b[0;32m/opt/conda/miniconda3/lib/python3.11/site-packages/hail/backend/backend.py:181\u001b[0m, in \u001b[0;36mBackend.execute\u001b[0;34m(self, ir, timed)\u001b[0m\n\u001b[1;32m    179\u001b[0m     result, timings \u001b[38;5;241m=\u001b[39m \u001b[38;5;28mself\u001b[39m\u001b[38;5;241m.\u001b[39m_rpc(ActionTag\u001b[38;5;241m.\u001b[39mEXECUTE, payload)\n\u001b[1;32m    180\u001b[0m \u001b[38;5;28;01mexcept\u001b[39;00m FatalError \u001b[38;5;28;01mas\u001b[39;00m e:\n\u001b[0;32m--> 181\u001b[0m     \u001b[38;5;28;01mraise\u001b[39;00m e\u001b[38;5;241m.\u001b[39mmaybe_user_error(ir) \u001b[38;5;28;01mfrom\u001b[39;00m\u001b[38;5;250m \u001b[39m\u001b[38;5;28;01mNone\u001b[39;00m\n\u001b[1;32m    182\u001b[0m \u001b[38;5;28;01mif\u001b[39;00m ir\u001b[38;5;241m.\u001b[39mtyp \u001b[38;5;241m==\u001b[39m tvoid:\n\u001b[1;32m    183\u001b[0m     value \u001b[38;5;241m=\u001b[39m \u001b[38;5;28;01mNone\u001b[39;00m\n",
      "File \u001b[0;32m/opt/conda/miniconda3/lib/python3.11/site-packages/hail/backend/backend.py:179\u001b[0m, in \u001b[0;36mBackend.execute\u001b[0;34m(self, ir, timed)\u001b[0m\n\u001b[1;32m    177\u001b[0m payload \u001b[38;5;241m=\u001b[39m ExecutePayload(\u001b[38;5;28mself\u001b[39m\u001b[38;5;241m.\u001b[39m_render_ir(ir), \u001b[38;5;124m'\u001b[39m\u001b[38;5;124m{\u001b[39m\u001b[38;5;124m\"\u001b[39m\u001b[38;5;124mname\u001b[39m\u001b[38;5;124m\"\u001b[39m\u001b[38;5;124m:\u001b[39m\u001b[38;5;124m\"\u001b[39m\u001b[38;5;124mStreamBufferSpec\u001b[39m\u001b[38;5;124m\"\u001b[39m\u001b[38;5;124m}\u001b[39m\u001b[38;5;124m'\u001b[39m, timed)\n\u001b[1;32m    178\u001b[0m \u001b[38;5;28;01mtry\u001b[39;00m:\n\u001b[0;32m--> 179\u001b[0m     result, timings \u001b[38;5;241m=\u001b[39m \u001b[38;5;28;43mself\u001b[39;49m\u001b[38;5;241;43m.\u001b[39;49m\u001b[43m_rpc\u001b[49m\u001b[43m(\u001b[49m\u001b[43mActionTag\u001b[49m\u001b[38;5;241;43m.\u001b[39;49m\u001b[43mEXECUTE\u001b[49m\u001b[43m,\u001b[49m\u001b[43m \u001b[49m\u001b[43mpayload\u001b[49m\u001b[43m)\u001b[49m\n\u001b[1;32m    180\u001b[0m \u001b[38;5;28;01mexcept\u001b[39;00m FatalError \u001b[38;5;28;01mas\u001b[39;00m e:\n\u001b[1;32m    181\u001b[0m     \u001b[38;5;28;01mraise\u001b[39;00m e\u001b[38;5;241m.\u001b[39mmaybe_user_error(ir) \u001b[38;5;28;01mfrom\u001b[39;00m\u001b[38;5;250m \u001b[39m\u001b[38;5;28;01mNone\u001b[39;00m\n",
      "File \u001b[0;32m/opt/conda/miniconda3/lib/python3.11/site-packages/hail/backend/py4j_backend.py:232\u001b[0m, in \u001b[0;36mPy4JBackend._rpc\u001b[0;34m(self, action, payload)\u001b[0m\n\u001b[1;32m    230\u001b[0m \u001b[38;5;28;01mif\u001b[39;00m resp\u001b[38;5;241m.\u001b[39mstatus_code \u001b[38;5;241m>\u001b[39m\u001b[38;5;241m=\u001b[39m \u001b[38;5;241m400\u001b[39m:\n\u001b[1;32m    231\u001b[0m     error_json \u001b[38;5;241m=\u001b[39m orjson\u001b[38;5;241m.\u001b[39mloads(resp\u001b[38;5;241m.\u001b[39mcontent)\n\u001b[0;32m--> 232\u001b[0m     \u001b[38;5;28;01mraise\u001b[39;00m fatal_error_from_java_error_triplet(\n\u001b[1;32m    233\u001b[0m         error_json[\u001b[38;5;124m'\u001b[39m\u001b[38;5;124mshort\u001b[39m\u001b[38;5;124m'\u001b[39m], error_json[\u001b[38;5;124m'\u001b[39m\u001b[38;5;124mexpanded\u001b[39m\u001b[38;5;124m'\u001b[39m], error_json[\u001b[38;5;124m'\u001b[39m\u001b[38;5;124merror_id\u001b[39m\u001b[38;5;124m'\u001b[39m]\n\u001b[1;32m    234\u001b[0m     )\n\u001b[1;32m    235\u001b[0m \u001b[38;5;28;01mreturn\u001b[39;00m resp\u001b[38;5;241m.\u001b[39mcontent, parse_timings(resp\u001b[38;5;241m.\u001b[39mheaders\u001b[38;5;241m.\u001b[39mget(\u001b[38;5;124m'\u001b[39m\u001b[38;5;124mX-Hail-Timings\u001b[39m\u001b[38;5;124m'\u001b[39m, \u001b[38;5;28;01mNone\u001b[39;00m))\n",
      "\u001b[0;31mFatalError\u001b[0m: HailException: RelationalSetup.writeMetadata: file already exists: gs://pbn_pilot/proj-PBN/04_rare_SNPs/00_raw_data/06_ac_ptv_mpc_syn.gene_group.bge_all.mt\n\nJava stack trace:\nis.hail.utils.HailException: RelationalSetup.writeMetadata: file already exists: gs://pbn_pilot/proj-PBN/04_rare_SNPs/00_raw_data/06_ac_ptv_mpc_syn.gene_group.bge_all.mt\n\tat __C39069Compile.__m39073begin_group_0(Emit.scala)\n\tat __C39069Compile.__m39071split_Block(Emit.scala)\n\tat __C39069Compile.apply(Emit.scala)\n\tat is.hail.expr.ir.CompileAndEvaluate$.$anonfun$_apply$3(CompileAndEvaluate.scala:64)\n\tat scala.runtime.java8.JFunction0$mcV$sp.apply(JFunction0$mcV$sp.java:23)\n\tat is.hail.utils.ExecutionTimer.time(ExecutionTimer.scala:98)\n\tat is.hail.backend.ExecuteContext.time(ExecuteContext.scala:187)\n\tat is.hail.expr.ir.CompileAndEvaluate$.$anonfun$_apply$2(CompileAndEvaluate.scala:64)\n\tat is.hail.expr.ir.CompileAndEvaluate$.$anonfun$_apply$2$adapted(CompileAndEvaluate.scala:62)\n\tat is.hail.backend.ExecuteContext.$anonfun$scopedExecution$2(ExecuteContext.scala:166)\n\tat is.hail.utils.ExecutionTimer.time(ExecutionTimer.scala:98)\n\tat is.hail.backend.ExecuteContext.time(ExecuteContext.scala:187)\n\tat is.hail.backend.ExecuteContext.$anonfun$scopedExecution$1(ExecuteContext.scala:165)\n\tat is.hail.utils.package$.using(package.scala:665)\n\tat is.hail.backend.ExecuteContext.scopedExecution(ExecuteContext.scala:164)\n\tat is.hail.expr.ir.CompileAndEvaluate$.$anonfun$_apply$1(CompileAndEvaluate.scala:62)\n\tat is.hail.utils.ExecutionTimer.time(ExecutionTimer.scala:98)\n\tat is.hail.backend.ExecuteContext.time(ExecuteContext.scala:187)\n\tat is.hail.expr.ir.CompileAndEvaluate$._apply(CompileAndEvaluate.scala:47)\n\tat is.hail.expr.ir.CompileAndEvaluate$.evalToIR(CompileAndEvaluate.scala:30)\n\tat is.hail.expr.ir.LowerOrInterpretNonCompilable$.evaluate$1(LowerOrInterpretNonCompilable.scala:31)\n\tat is.hail.expr.ir.LowerOrInterpretNonCompilable$.rewrite$1(LowerOrInterpretNonCompilable.scala:60)\n\tat is.hail.expr.ir.LowerOrInterpretNonCompilable$.apply(LowerOrInterpretNonCompilable.scala:65)\n\tat is.hail.expr.ir.lowering.LowerOrInterpretNonCompilablePass$.transform(LoweringPass.scala:86)\n\tat is.hail.expr.ir.lowering.LoweringPass.$anonfun$apply$3(LoweringPass.scala:37)\n\tat is.hail.utils.ExecutionTimer.time(ExecutionTimer.scala:98)\n\tat is.hail.expr.ir.lowering.LoweringPass.$anonfun$apply$1(LoweringPass.scala:37)\n\tat is.hail.utils.ExecutionTimer.time(ExecutionTimer.scala:98)\n\tat is.hail.expr.ir.lowering.LoweringPass.apply(LoweringPass.scala:35)\n\tat is.hail.expr.ir.lowering.LoweringPass.apply$(LoweringPass.scala:34)\n\tat is.hail.expr.ir.lowering.LowerOrInterpretNonCompilablePass$.apply(LoweringPass.scala:81)\n\tat is.hail.expr.ir.lowering.LoweringPipeline.$anonfun$apply$2(LoweringPipeline.scala:22)\n\tat is.hail.expr.ir.lowering.LoweringPipeline.$anonfun$apply$2$adapted(LoweringPipeline.scala:20)\n\tat scala.collection.mutable.ResizableArray.foreach(ResizableArray.scala:62)\n\tat scala.collection.mutable.ResizableArray.foreach$(ResizableArray.scala:55)\n\tat scala.collection.mutable.ArrayBuffer.foreach(ArrayBuffer.scala:49)\n\tat is.hail.expr.ir.lowering.LoweringPipeline.$anonfun$apply$1(LoweringPipeline.scala:20)\n\tat is.hail.utils.ExecutionTimer.time(ExecutionTimer.scala:98)\n\tat is.hail.backend.ExecuteContext.time(ExecuteContext.scala:187)\n\tat is.hail.expr.ir.lowering.LoweringPipeline.apply(LoweringPipeline.scala:11)\n\tat is.hail.expr.ir.CompileAndEvaluate$.$anonfun$_apply$1(CompileAndEvaluate.scala:48)\n\tat is.hail.utils.ExecutionTimer.time(ExecutionTimer.scala:98)\n\tat is.hail.backend.ExecuteContext.time(ExecuteContext.scala:187)\n\tat is.hail.expr.ir.CompileAndEvaluate$._apply(CompileAndEvaluate.scala:47)\n\tat is.hail.backend.spark.SparkBackend.$anonfun$execute$1(SparkBackend.scala:554)\n\tat is.hail.utils.ExecutionTimer.time(ExecutionTimer.scala:98)\n\tat is.hail.backend.ExecuteContext.time(ExecuteContext.scala:187)\n\tat is.hail.backend.spark.SparkBackend.execute(SparkBackend.scala:543)\n\tat is.hail.backend.BackendHttpHandler.$anonfun$handle$4(BackendServer.scala:93)\n\tat is.hail.utils.package$.using(package.scala:665)\n\tat is.hail.backend.ExecuteContext.local(ExecuteContext.scala:226)\n\tat is.hail.backend.BackendHttpHandler.$anonfun$handle$3(BackendServer.scala:91)\n\tat is.hail.utils.ExecutionTimer$.time(ExecutionTimer.scala:15)\n\tat is.hail.backend.BackendHttpHandler.$anonfun$handle$2(BackendServer.scala:90)\n\tat is.hail.backend.BackendHttpHandler.$anonfun$handle$2$adapted(BackendServer.scala:89)\n\tat is.hail.backend.ExecuteContext$.$anonfun$scoped$3(ExecuteContext.scala:103)\n\tat is.hail.utils.package$.using(package.scala:665)\n\tat is.hail.backend.ExecuteContext$.$anonfun$scoped$2(ExecuteContext.scala:103)\n\tat is.hail.utils.package$.using(package.scala:665)\n\tat is.hail.annotations.RegionPool.scopedRegion(RegionPool.scala:166)\n\tat is.hail.backend.ExecuteContext$.$anonfun$scoped$1(ExecuteContext.scala:85)\n\tat is.hail.utils.package$.using(package.scala:665)\n\tat is.hail.annotations.RegionPool$.scoped(RegionPool.scala:13)\n\tat is.hail.backend.ExecuteContext$.scoped(ExecuteContext.scala:84)\n\tat is.hail.backend.spark.SparkBackend.$anonfun$withExecuteContext$1(SparkBackend.scala:410)\n\tat is.hail.utils.ExecutionTimer$.time(ExecutionTimer.scala:15)\n\tat is.hail.utils.ExecutionTimer$.logTime(ExecutionTimer.scala:22)\n\tat is.hail.backend.spark.SparkBackend.withExecuteContext(SparkBackend.scala:390)\n\tat is.hail.backend.BackendHttpHandler.handle(BackendServer.scala:89)\n\tat jdk.httpserver/com.sun.net.httpserver.Filter$Chain.doFilter(Filter.java:77)\n\tat jdk.httpserver/sun.net.httpserver.AuthFilter.doFilter(AuthFilter.java:82)\n\tat jdk.httpserver/com.sun.net.httpserver.Filter$Chain.doFilter(Filter.java:80)\n\tat jdk.httpserver/sun.net.httpserver.ServerImpl$Exchange$LinkHandler.handle(ServerImpl.java:848)\n\tat jdk.httpserver/com.sun.net.httpserver.Filter$Chain.doFilter(Filter.java:77)\n\tat jdk.httpserver/sun.net.httpserver.ServerImpl$Exchange.run(ServerImpl.java:817)\n\tat jdk.httpserver/sun.net.httpserver.ServerImpl$DefaultExecutor.execute(ServerImpl.java:201)\n\tat jdk.httpserver/sun.net.httpserver.ServerImpl$Dispatcher.handle(ServerImpl.java:560)\n\tat jdk.httpserver/sun.net.httpserver.ServerImpl$Dispatcher.run(ServerImpl.java:526)\n\tat java.base/java.lang.Thread.run(Thread.java:829)\n\n\n\nHail version: 0.2.135-034ef3e08116\nError summary: HailException: RelationalSetup.writeMetadata: file already exists: gs://pbn_pilot/proj-PBN/04_rare_SNPs/00_raw_data/06_ac_ptv_mpc_syn.gene_group.bge_all.mt"
     ]
    }
   ],
   "source": [
    "print(\"write final mt2...\")\n",
    "mt2.write(\"gs://pbn_pilot/proj-PBN/04_rare_SNPs/00_raw_data/06_ac_ptv_mpc_syn.gene_group.bge_all.mt\")"
   ]
  },
  {
   "cell_type": "code",
   "execution_count": 31,
   "id": "cea94cb5",
   "metadata": {},
   "outputs": [
    {
     "name": "stderr",
     "output_type": "stream",
     "text": [
      "2025-07-16 17:39:53.711 Hail: INFO: Ordering unsorted dataset with network shuffle\n",
      "2025-07-16 17:41:00.780 Hail: INFO: Ordering unsorted dataset with network shuffle\n",
      "2025-07-16 17:41:15.183 Hail: INFO: Ordering unsorted dataset with network shuffle\n",
      "[Stage 3:===(24 + 4) / 24][Stage 4:===(24 + 4) / 24][Stage 7:===(24 + 1) / 24]\r"
     ]
    },
    {
     "data": {
      "text/html": [
       "<table><thead><tr><td style=\"white-space: nowrap; max-width: 500px; overflow: hidden; text-overflow: ellipsis; \" colspan=\"1\"><div style=\"text-align: left;\"></div></td><td style=\"white-space: nowrap; max-width: 500px; overflow: hidden; text-overflow: ellipsis; \" colspan=\"5\"><div style=\"text-align: left;\"></div></td></tr><tr><td style=\"white-space: nowrap; max-width: 500px; overflow: hidden; text-overflow: ellipsis; \" colspan=\"1\"><div style=\"text-align: left;\"></div></td><td style=\"white-space: nowrap; max-width: 500px; overflow: hidden; text-overflow: ellipsis; \" colspan=\"5\"><div style=\"text-align: left;border-bottom: solid 2px #000; padding-bottom: 5px\">&#x27;PE421119&#x27;</div></td></tr><tr><td style=\"white-space: nowrap; max-width: 500px; overflow: hidden; text-overflow: ellipsis; \" colspan=\"1\"><div style=\"text-align: left;border-bottom: solid 2px #000; padding-bottom: 5px\">gene_symbol</div></td><td style=\"white-space: nowrap; max-width: 500px; overflow: hidden; text-overflow: ellipsis; \" colspan=\"1\"><div style=\"text-align: left;border-bottom: solid 2px #000; padding-bottom: 5px\">ptv</div></td><td style=\"white-space: nowrap; max-width: 500px; overflow: hidden; text-overflow: ellipsis; \" colspan=\"1\"><div style=\"text-align: left;border-bottom: solid 2px #000; padding-bottom: 5px\">ptv_plus_mpc3</div></td><td style=\"white-space: nowrap; max-width: 500px; overflow: hidden; text-overflow: ellipsis; \" colspan=\"1\"><div style=\"text-align: left;border-bottom: solid 2px #000; padding-bottom: 5px\">ptv_plus_mpc2</div></td><td style=\"white-space: nowrap; max-width: 500px; overflow: hidden; text-overflow: ellipsis; \" colspan=\"1\"><div style=\"text-align: left;border-bottom: solid 2px #000; padding-bottom: 5px\">mpc2</div></td><td style=\"white-space: nowrap; max-width: 500px; overflow: hidden; text-overflow: ellipsis; \" colspan=\"1\"><div style=\"text-align: left;border-bottom: solid 2px #000; padding-bottom: 5px\">syn</div></td></tr><tr><td style=\"white-space: nowrap; max-width: 500px; overflow: hidden; text-overflow: ellipsis; text-align: left;\">str</td><td style=\"white-space: nowrap; max-width: 500px; overflow: hidden; text-overflow: ellipsis; text-align: left;\">int64</td><td style=\"white-space: nowrap; max-width: 500px; overflow: hidden; text-overflow: ellipsis; text-align: left;\">int64</td><td style=\"white-space: nowrap; max-width: 500px; overflow: hidden; text-overflow: ellipsis; text-align: left;\">int64</td><td style=\"white-space: nowrap; max-width: 500px; overflow: hidden; text-overflow: ellipsis; text-align: left;\">int64</td><td style=\"white-space: nowrap; max-width: 500px; overflow: hidden; text-overflow: ellipsis; text-align: left;\">int64</td></tr>\n",
       "</thead><tbody><tr><td style=\"white-space: nowrap; max-width: 500px; overflow: hidden; text-overflow: ellipsis; \">&quot;A1BG&quot;</td><td style=\"white-space: nowrap; max-width: 500px; overflow: hidden; text-overflow: ellipsis; \">0</td><td style=\"white-space: nowrap; max-width: 500px; overflow: hidden; text-overflow: ellipsis; \">0</td><td style=\"white-space: nowrap; max-width: 500px; overflow: hidden; text-overflow: ellipsis; \">0</td><td style=\"white-space: nowrap; max-width: 500px; overflow: hidden; text-overflow: ellipsis; \">0</td><td style=\"white-space: nowrap; max-width: 500px; overflow: hidden; text-overflow: ellipsis; \">0</td></tr>\n",
       "<tr><td style=\"white-space: nowrap; max-width: 500px; overflow: hidden; text-overflow: ellipsis; \">&quot;A1CF&quot;</td><td style=\"white-space: nowrap; max-width: 500px; overflow: hidden; text-overflow: ellipsis; \">0</td><td style=\"white-space: nowrap; max-width: 500px; overflow: hidden; text-overflow: ellipsis; \">0</td><td style=\"white-space: nowrap; max-width: 500px; overflow: hidden; text-overflow: ellipsis; \">0</td><td style=\"white-space: nowrap; max-width: 500px; overflow: hidden; text-overflow: ellipsis; \">0</td><td style=\"white-space: nowrap; max-width: 500px; overflow: hidden; text-overflow: ellipsis; \">0</td></tr>\n",
       "<tr><td style=\"white-space: nowrap; max-width: 500px; overflow: hidden; text-overflow: ellipsis; \">&quot;A2M&quot;</td><td style=\"white-space: nowrap; max-width: 500px; overflow: hidden; text-overflow: ellipsis; \">0</td><td style=\"white-space: nowrap; max-width: 500px; overflow: hidden; text-overflow: ellipsis; \">0</td><td style=\"white-space: nowrap; max-width: 500px; overflow: hidden; text-overflow: ellipsis; \">0</td><td style=\"white-space: nowrap; max-width: 500px; overflow: hidden; text-overflow: ellipsis; \">0</td><td style=\"white-space: nowrap; max-width: 500px; overflow: hidden; text-overflow: ellipsis; \">0</td></tr>\n",
       "<tr><td style=\"white-space: nowrap; max-width: 500px; overflow: hidden; text-overflow: ellipsis; \">&quot;A2ML1&quot;</td><td style=\"white-space: nowrap; max-width: 500px; overflow: hidden; text-overflow: ellipsis; \">0</td><td style=\"white-space: nowrap; max-width: 500px; overflow: hidden; text-overflow: ellipsis; \">0</td><td style=\"white-space: nowrap; max-width: 500px; overflow: hidden; text-overflow: ellipsis; \">0</td><td style=\"white-space: nowrap; max-width: 500px; overflow: hidden; text-overflow: ellipsis; \">0</td><td style=\"white-space: nowrap; max-width: 500px; overflow: hidden; text-overflow: ellipsis; \">0</td></tr>\n",
       "<tr><td style=\"white-space: nowrap; max-width: 500px; overflow: hidden; text-overflow: ellipsis; \">&quot;A3GALT2&quot;</td><td style=\"white-space: nowrap; max-width: 500px; overflow: hidden; text-overflow: ellipsis; \">0</td><td style=\"white-space: nowrap; max-width: 500px; overflow: hidden; text-overflow: ellipsis; \">0</td><td style=\"white-space: nowrap; max-width: 500px; overflow: hidden; text-overflow: ellipsis; \">0</td><td style=\"white-space: nowrap; max-width: 500px; overflow: hidden; text-overflow: ellipsis; \">0</td><td style=\"white-space: nowrap; max-width: 500px; overflow: hidden; text-overflow: ellipsis; \">0</td></tr>\n",
       "<tr><td style=\"white-space: nowrap; max-width: 500px; overflow: hidden; text-overflow: ellipsis; \">&quot;A4GALT&quot;</td><td style=\"white-space: nowrap; max-width: 500px; overflow: hidden; text-overflow: ellipsis; \">0</td><td style=\"white-space: nowrap; max-width: 500px; overflow: hidden; text-overflow: ellipsis; \">0</td><td style=\"white-space: nowrap; max-width: 500px; overflow: hidden; text-overflow: ellipsis; \">0</td><td style=\"white-space: nowrap; max-width: 500px; overflow: hidden; text-overflow: ellipsis; \">0</td><td style=\"white-space: nowrap; max-width: 500px; overflow: hidden; text-overflow: ellipsis; \">0</td></tr>\n",
       "<tr><td style=\"white-space: nowrap; max-width: 500px; overflow: hidden; text-overflow: ellipsis; \">&quot;A4GNT&quot;</td><td style=\"white-space: nowrap; max-width: 500px; overflow: hidden; text-overflow: ellipsis; \">0</td><td style=\"white-space: nowrap; max-width: 500px; overflow: hidden; text-overflow: ellipsis; \">0</td><td style=\"white-space: nowrap; max-width: 500px; overflow: hidden; text-overflow: ellipsis; \">0</td><td style=\"white-space: nowrap; max-width: 500px; overflow: hidden; text-overflow: ellipsis; \">0</td><td style=\"white-space: nowrap; max-width: 500px; overflow: hidden; text-overflow: ellipsis; \">0</td></tr>\n",
       "<tr><td style=\"white-space: nowrap; max-width: 500px; overflow: hidden; text-overflow: ellipsis; \">&quot;AAAS&quot;</td><td style=\"white-space: nowrap; max-width: 500px; overflow: hidden; text-overflow: ellipsis; \">0</td><td style=\"white-space: nowrap; max-width: 500px; overflow: hidden; text-overflow: ellipsis; \">0</td><td style=\"white-space: nowrap; max-width: 500px; overflow: hidden; text-overflow: ellipsis; \">0</td><td style=\"white-space: nowrap; max-width: 500px; overflow: hidden; text-overflow: ellipsis; \">0</td><td style=\"white-space: nowrap; max-width: 500px; overflow: hidden; text-overflow: ellipsis; \">0</td></tr>\n",
       "<tr><td style=\"white-space: nowrap; max-width: 500px; overflow: hidden; text-overflow: ellipsis; \">&quot;AACS&quot;</td><td style=\"white-space: nowrap; max-width: 500px; overflow: hidden; text-overflow: ellipsis; \">0</td><td style=\"white-space: nowrap; max-width: 500px; overflow: hidden; text-overflow: ellipsis; \">0</td><td style=\"white-space: nowrap; max-width: 500px; overflow: hidden; text-overflow: ellipsis; \">0</td><td style=\"white-space: nowrap; max-width: 500px; overflow: hidden; text-overflow: ellipsis; \">0</td><td style=\"white-space: nowrap; max-width: 500px; overflow: hidden; text-overflow: ellipsis; \">0</td></tr>\n",
       "<tr><td style=\"white-space: nowrap; max-width: 500px; overflow: hidden; text-overflow: ellipsis; \">&quot;AADAC&quot;</td><td style=\"white-space: nowrap; max-width: 500px; overflow: hidden; text-overflow: ellipsis; \">0</td><td style=\"white-space: nowrap; max-width: 500px; overflow: hidden; text-overflow: ellipsis; \">0</td><td style=\"white-space: nowrap; max-width: 500px; overflow: hidden; text-overflow: ellipsis; \">0</td><td style=\"white-space: nowrap; max-width: 500px; overflow: hidden; text-overflow: ellipsis; \">0</td><td style=\"white-space: nowrap; max-width: 500px; overflow: hidden; text-overflow: ellipsis; \">0</td></tr>\n",
       "</tbody></table><p style=\"background: #fdd; padding: 0.4em;\">showing top 10 rows</p>\n",
       "<p style=\"background: #fdd; padding: 0.4em;\">showing the first 1 of 70 columns</p>\n"
      ],
      "text/plain": [
       "+-------------+----------------+--------------------------+\n",
       "| gene_symbol | 'PE421119'.ptv | 'PE421119'.ptv_plus_mpc3 |\n",
       "+-------------+----------------+--------------------------+\n",
       "| str         |          int64 |                    int64 |\n",
       "+-------------+----------------+--------------------------+\n",
       "| \"A1BG\"      |              0 |                        0 |\n",
       "| \"A1CF\"      |              0 |                        0 |\n",
       "| \"A2M\"       |              0 |                        0 |\n",
       "| \"A2ML1\"     |              0 |                        0 |\n",
       "| \"A3GALT2\"   |              0 |                        0 |\n",
       "| \"A4GALT\"    |              0 |                        0 |\n",
       "| \"A4GNT\"     |              0 |                        0 |\n",
       "| \"AAAS\"      |              0 |                        0 |\n",
       "| \"AACS\"      |              0 |                        0 |\n",
       "| \"AADAC\"     |              0 |                        0 |\n",
       "+-------------+----------------+--------------------------+\n",
       "\n",
       "+--------------------------+-----------------+----------------+\n",
       "| 'PE421119'.ptv_plus_mpc2 | 'PE421119'.mpc2 | 'PE421119'.syn |\n",
       "+--------------------------+-----------------+----------------+\n",
       "|                    int64 |           int64 |          int64 |\n",
       "+--------------------------+-----------------+----------------+\n",
       "|                        0 |               0 |              0 |\n",
       "|                        0 |               0 |              0 |\n",
       "|                        0 |               0 |              0 |\n",
       "|                        0 |               0 |              0 |\n",
       "|                        0 |               0 |              0 |\n",
       "|                        0 |               0 |              0 |\n",
       "|                        0 |               0 |              0 |\n",
       "|                        0 |               0 |              0 |\n",
       "|                        0 |               0 |              0 |\n",
       "|                        0 |               0 |              0 |\n",
       "+--------------------------+-----------------+----------------+\n",
       "showing top 10 rows\n",
       "showing the first 1 of 70 columns"
      ]
     },
     "metadata": {},
     "output_type": "display_data"
    }
   ],
   "source": [
    "mt2.show()"
   ]
  },
  {
   "cell_type": "code",
   "execution_count": null,
   "id": "046944c0",
   "metadata": {},
   "outputs": [],
   "source": [
    "small_mt = mt2.key_rows_by(*mt2.row_key, 'ptv', 'ptv_plus_mpc3', 'ptv_plus_mpc2', 'mpc2', 'syn')"
   ]
  },
  {
   "cell_type": "code",
   "execution_count": 33,
   "id": "6f62f843",
   "metadata": {},
   "outputs": [
    {
     "name": "stderr",
     "output_type": "stream",
     "text": [
      "2025-07-16 17:46:23.537 Hail: INFO: Ordering unsorted dataset with network shuffle\n",
      "2025-07-16 17:47:29.499 Hail: INFO: Ordering unsorted dataset with network shuffle\n",
      "2025-07-16 17:47:42.541 Hail: INFO: Ordering unsorted dataset with network shuffle\n",
      "2025-07-16 17:48:54.479 Hail: INFO: merging 25 files totalling 2.4M...1) / 24]\n",
      "2025-07-16 17:48:54.828 Hail: INFO: while writing:\n",
      "    gs://pbn_pilot/proj-PBN/04_rare_SNPs/02_variants_annotation/PBN_ptv_plus_mpc3.gene_group.tsv\n",
      "  merge time: 348.728ms\n"
     ]
    }
   ],
   "source": [
    "mt2.ptv_plus_mpc2.export('gs://pbn_pilot/proj-PBN/04_rare_SNPs/02_variants_annotation/PBN_ptv_plus_mpc2.gene_group.tsv')"
   ]
  },
  {
   "cell_type": "code",
   "execution_count": 34,
   "id": "9b020740",
   "metadata": {},
   "outputs": [
    {
     "name": "stderr",
     "output_type": "stream",
     "text": [
      "2025-07-16 17:50:07.015 Hail: INFO: Ordering unsorted dataset with network shuffle\n",
      "2025-07-16 17:51:12.146 Hail: INFO: Ordering unsorted dataset with network shuffle\n",
      "2025-07-16 17:51:27.524 Hail: INFO: Ordering unsorted dataset with network shuffle\n",
      "2025-07-16 17:52:34.312 Hail: INFO: merging 25 files totalling 2.4M...1) / 24]\n",
      "2025-07-16 17:52:34.569 Hail: INFO: while writing:\n",
      "    gs://pbn_pilot/proj-PBN/04_rare_SNPs/02_variants_annotation/PBN_ptv_plus_mpc2.gene_group.tsv\n",
      "  merge time: 256.160ms\n"
     ]
    }
   ],
   "source": [
    "mt2.ptv_plus_mpc2.export('gs://pbn_pilot/proj-PBN/04_rare_SNPs/02_variants_annotation/PBN_ptv_plus_mpc2.gene_group.tsv')"
   ]
  },
  {
   "cell_type": "code",
   "execution_count": 35,
   "id": "90fde213",
   "metadata": {},
   "outputs": [
    {
     "name": "stderr",
     "output_type": "stream",
     "text": [
      "2025-07-16 17:53:51.475 Hail: INFO: Ordering unsorted dataset with network shuffle\n",
      "2025-07-16 17:54:58.495 Hail: INFO: Ordering unsorted dataset with network shuffle\n",
      "2025-07-16 17:55:09.815 Hail: INFO: Ordering unsorted dataset with network shuffle\n",
      "2025-07-16 17:56:18.388 Hail: INFO: merging 25 files totalling 2.4M...1) / 24]\n",
      "2025-07-16 17:56:18.681 Hail: INFO: while writing:\n",
      "    gs://pbn_pilot/proj-PBN/04_rare_SNPs/02_variants_annotation/PBN_mpc2.gene_group.tsv\n",
      "  merge time: 292.226ms\n"
     ]
    }
   ],
   "source": [
    "mt2.mpc2.export('gs://pbn_pilot/proj-PBN/04_rare_SNPs/02_variants_annotation/PBN_mpc2.gene_group.tsv')"
   ]
  },
  {
   "cell_type": "code",
   "execution_count": 36,
   "id": "03aa10be",
   "metadata": {},
   "outputs": [
    {
     "name": "stderr",
     "output_type": "stream",
     "text": [
      "2025-07-16 17:56:34.176 Hail: INFO: Ordering unsorted dataset with network shuffle\n",
      "2025-07-16 17:56:39.958 Hail: INFO: Ordering unsorted dataset with network shuffle\n",
      "2025-07-16 17:56:55.085 Hail: INFO: Ordering unsorted dataset with network shuffle\n",
      "2025-07-16 17:58:03.316 Hail: INFO: merging 25 files totalling 2.4M...1) / 24]\n",
      "2025-07-16 17:58:03.630 Hail: INFO: while writing:\n",
      "    gs://pbn_pilot/proj-PBN/04_rare_SNPs/02_variants_annotation/PBN_syn.gene_group.tsv\n",
      "  merge time: 313.640ms\n",
      "[Stage 3:===(24 + 4) / 24][Stage 4:===(24 + 4) / 24][Stage 7:===(24 + 1) / 24]\r"
     ]
    }
   ],
   "source": [
    "mt2.syn.export('gs://pbn_pilot/proj-PBN/04_rare_SNPs/02_variants_annotation/PBN_syn.gene_group.tsv')"
   ]
  },
  {
   "cell_type": "code",
   "execution_count": null,
   "id": "b9bf9e35",
   "metadata": {},
   "outputs": [],
   "source": []
  }
 ],
 "metadata": {
  "kernelspec": {
   "display_name": "Hail",
   "language": "python",
   "name": "hail"
  },
  "language_info": {
   "codemirror_mode": {
    "name": "ipython",
    "version": 3
   },
   "file_extension": ".py",
   "mimetype": "text/x-python",
   "name": "python",
   "nbconvert_exporter": "python",
   "pygments_lexer": "ipython3",
   "version": "3.11.7"
  }
 },
 "nbformat": 4,
 "nbformat_minor": 5
}