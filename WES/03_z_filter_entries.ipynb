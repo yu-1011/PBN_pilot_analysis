{
 "cells": [
  {
   "cell_type": "code",
   "execution_count": 9,
   "id": "309992a0",
   "metadata": {},
   "outputs": [],
   "source": [
    "import sys\n",
    "import hail as hl\n",
    "import pandas as pd\n",
    "import gnomad\n",
    "from gnomad.resources.grch38 import gnomad\n",
    "import pandas as pd\n",
    "from bokeh.io import show, output_notebook\n",
    "from bokeh.layouts import gridplot"
   ]
  },
  {
   "cell_type": "code",
   "execution_count": 10,
   "id": "e55be376",
   "metadata": {},
   "outputs": [
    {
     "name": "stdout",
     "output_type": "stream",
     "text": [
      "Load pre-filtered BGE data before annotating VEP\n"
     ]
    },
    {
     "name": "stderr",
     "output_type": "stream",
     "text": [
      "[Stage 0:===============================================>         (20 + 4) / 24]\r"
     ]
    },
    {
     "name": "stdout",
     "output_type": "stream",
     "text": [
      "(155072, 70)\n"
     ]
    }
   ],
   "source": [
    "print(\"Load pre-filtered BGE data before annotating VEP\")\n",
    "mt = hl.read_matrix_table('gs://pbn_pilot/proj-PBN/04_rare_SNPs/00_raw_data/01_Var_PreFilterQC.SCZ_BGE.mt') # from prefilter\n",
    "print(mt.count()) # (4804848, 47683)"
   ]
  },
  {
   "cell_type": "code",
   "execution_count": 11,
   "id": "77b12acd",
   "metadata": {},
   "outputs": [],
   "source": [
    "mt = hl.variant_qc(mt)"
   ]
  },
  {
   "cell_type": "code",
   "execution_count": 12,
   "id": "37fab247",
   "metadata": {},
   "outputs": [
    {
     "name": "stdout",
     "output_type": "stream",
     "text": [
      "Low call rate filtering (>=0.95)\n",
      "Filtering out low call rate...\n"
     ]
    },
    {
     "name": "stderr",
     "output_type": "stream",
     "text": [
      "\r",
      "[Stage 1:>                                                        (0 + 16) / 24]\r",
      "\r",
      "[Stage 1:================>                                        (7 + 16) / 24]\r"
     ]
    },
    {
     "name": "stdout",
     "output_type": "stream",
     "text": [
      "151824\n"
     ]
    }
   ],
   "source": [
    "print(\"Low call rate filtering (>=0.95)\")\n",
    "print(\"Filtering out low call rate...\")\n",
    "mt = mt.filter_rows(mt.variant_qc.call_rate > 0.95)\n",
    "print(mt.count_rows()) # 4295392"
   ]
  },
  {
   "cell_type": "code",
   "execution_count": 13,
   "id": "5c4c0dff",
   "metadata": {},
   "outputs": [
    {
     "name": "stdout",
     "output_type": "stream",
     "text": [
      "Remove monoallelic variants (invariants)\n"
     ]
    },
    {
     "name": "stderr",
     "output_type": "stream",
     "text": [
      "[Stage 2:======================================>                  (16 + 8) / 24]\r"
     ]
    },
    {
     "name": "stdout",
     "output_type": "stream",
     "text": [
      "151455\n"
     ]
    },
    {
     "name": "stderr",
     "output_type": "stream",
     "text": [
      "\r",
      "[Stage 2:=========================================================(24 + 1) / 24]\r"
     ]
    }
   ],
   "source": [
    "# Filter out the invariant rows.\n",
    "print(\"Remove monoallelic variants (invariants)\")\n",
    "mt = mt.filter_rows((mt.variant_qc.AF[0] > 0.0) & (mt.variant_qc.AF[0] < 1.0))\n",
    "print(mt.count_rows())"
   ]
  },
  {
   "cell_type": "code",
   "execution_count": 14,
   "id": "6f97040f",
   "metadata": {},
   "outputs": [],
   "source": [
    "mt = mt.annotate_entries(DP=hl.sum(mt.AD))"
   ]
  },
  {
   "cell_type": "code",
   "execution_count": 15,
   "id": "c731d76f",
   "metadata": {},
   "outputs": [
    {
     "name": "stdout",
     "output_type": "stream",
     "text": [
      "pre filter variants\n"
     ]
    }
   ],
   "source": [
    "print(\"pre filter variants\")\n",
    "mt = mt.filter_entries(\n",
    "    hl.is_defined(mt.GT) &\n",
    "    (\n",
    "        (mt.GT.is_hom_ref() & \n",
    "            (\n",
    "                (mt.GQ < 20) |\n",
    "                (mt.DP < 10)\n",
    "            )\n",
    "        ) |\n",
    "        (mt.GT.is_het() & \n",
    "            ( \n",
    "                ((mt.AD[1] / mt.DP) < 0.2) | \n",
    "                ((mt.AD[1] / mt.DP) > 0.8) | \n",
    "                (mt.GQ < 20) |\n",
    "                (mt.DP < 10)\n",
    "            )\n",
    "        ) |\n",
    "        (mt.GT.is_hom_var() & \n",
    "            (\n",
    "                ((mt.AD[1] / mt.DP) < 0.8) |\n",
    "                (mt.GQ < 20) |\n",
    "                (mt.DP < 10)\n",
    "            )\n",
    "        )\n",
    "    ),\n",
    "    keep = False\n",
    ")"
   ]
  },
  {
   "cell_type": "code",
   "execution_count": 16,
   "id": "377b5f2d",
   "metadata": {},
   "outputs": [
    {
     "name": "stderr",
     "output_type": "stream",
     "text": [
      "[Stage 2:=================(24 + 1) / 24][Stage 3:=================(24 + 4) / 24]\r"
     ]
    },
    {
     "data": {
      "text/plain": [
       "(151455, 70)"
      ]
     },
     "execution_count": 16,
     "metadata": {},
     "output_type": "execute_result"
    }
   ],
   "source": [
    "mt.count() # filter_entries -->  as missing --> equal num snp  "
   ]
  },
  {
   "cell_type": "code",
   "execution_count": 17,
   "id": "38e4db5b",
   "metadata": {},
   "outputs": [
    {
     "name": "stderr",
     "output_type": "stream",
     "text": [
      "[Stage 2:===(24 + 1) / 24][Stage 3:===(24 + 4) / 24][Stage 4:==>(23 + 1) / 24]\r"
     ]
    },
    {
     "data": {
      "text/plain": [
       "151390"
      ]
     },
     "execution_count": 17,
     "metadata": {},
     "output_type": "execute_result"
    },
    {
     "name": "stderr",
     "output_type": "stream",
     "text": [
      "\r",
      "[Stage 2:=================(24 + 1) / 24][Stage 3:=================(24 + 4) / 24]\r"
     ]
    }
   ],
   "source": [
    "mt = hl.variant_qc(mt) # make DP using AD\n",
    "mt_tmp = mt.filter_rows(mt.variant_qc.dp_stats.mean > 10)\n",
    "mt_tmp.count_rows() # 4684298 "
   ]
  },
  {
   "cell_type": "code",
   "execution_count": 19,
   "id": "97222b89",
   "metadata": {},
   "outputs": [
    {
     "name": "stdout",
     "output_type": "stream",
     "text": [
      "Checkpointing... final variant QC by filter entries\n"
     ]
    },
    {
     "name": "stderr",
     "output_type": "stream",
     "text": [
      "2025-07-16 14:14:02.211 Hail: INFO: wrote matrix table with 151455 rows and 70 columns in 24 partitions to gs://pbn_pilot/proj-PBN/04_rare_SNPs/00_raw_data/03_filter_entries_VarQC.SCZ.mt\n",
      "[Stage 2:=================(24 + 1) / 24][Stage 3:=================(24 + 4) / 24]\r"
     ]
    }
   ],
   "source": [
    "print(\"Checkpointing... final variant QC by filter entries\")\n",
    "mt = mt.checkpoint('gs://pbn_pilot/proj-PBN/04_rare_SNPs/00_raw_data/03_filter_entries_VarQC.SCZ.mt', overwrite=True)"
   ]
  },
  {
   "cell_type": "code",
   "execution_count": null,
   "id": "66aaffc7",
   "metadata": {},
   "outputs": [],
   "source": []
  }
 ],
 "metadata": {
  "kernelspec": {
   "display_name": "Hail",
   "language": "python",
   "name": "hail"
  },
  "language_info": {
   "codemirror_mode": {
    "name": "ipython",
    "version": 3
   },
   "file_extension": ".py",
   "mimetype": "text/x-python",
   "name": "python",
   "nbconvert_exporter": "python",
   "pygments_lexer": "ipython3",
   "version": "3.11.7"
  }
 },
 "nbformat": 4,
 "nbformat_minor": 5
}