{
 "cells": [
  {
   "cell_type": "code",
   "execution_count": 2,
   "id": "53130415",
   "metadata": {},
   "outputs": [],
   "source": [
    "import sys\n",
    "import hail as hl\n",
    "import pandas as pd\n",
    "import gnomad\n",
    "from gnomad.resources.grch38 import gnomad\n",
    "#from gnomad.resources.grch38 import gnomad\n",
    "import pandas as pd\n",
    "from bokeh.io import show, output_notebook\n",
    "from bokeh.layouts import gridplot"
   ]
  },
  {
   "cell_type": "code",
   "execution_count": 3,
   "id": "6104c35c",
   "metadata": {},
   "outputs": [
    {
     "name": "stderr",
     "output_type": "stream",
     "text": [
      "Initializing Hail with default parameters...\n"
     ]
    },
    {
     "name": "stdout",
     "output_type": "stream",
     "text": [
      "Load pre-filtered BGE data before annotating VEP\n"
     ]
    },
    {
     "name": "stderr",
     "output_type": "stream",
     "text": [
      "/opt/conda/miniconda3/lib/python3.11/site-packages/hailtop/aiocloud/aiogoogle/user_config.py:43: UserWarning:\n",
      "\n",
      "Reading spark-defaults.conf to determine GCS requester pays configuration. This is deprecated. Please use `hailctl config set gcs_requester_pays/project` and `hailctl config set gcs_requester_pays/buckets`.\n",
      "\n",
      "Setting default log level to \"WARN\".\n",
      "To adjust logging level use sc.setLogLevel(newLevel). For SparkR, use setLogLevel(newLevel).\n"
     ]
    },
    {
     "name": "stdout",
     "output_type": "stream",
     "text": [
      "SPARKMONITOR_LISTENER: Started SparkListener for Jupyter Notebook\n",
      "SPARKMONITOR_LISTENER: Port obtained from environment: 33155\n",
      "SPARKMONITOR_LISTENER: Application Started: application_1752605443147_0002 ...Start Time: 1752607773939\n"
     ]
    },
    {
     "name": "stderr",
     "output_type": "stream",
     "text": [
      "Running on Apache Spark version 3.5.0\n",
      "SparkUI available at http://ychen-cnv-m.us-central1-a.c.pbn-analysis.internal:43201\n",
      "Welcome to\n",
      "     __  __     <>__\n",
      "    / /_/ /__  __/ /\n",
      "   / __  / _ `/ / /\n",
      "  /_/ /_/\\_,_/_/_/   version 0.2.135-034ef3e08116\n",
      "LOGGING: writing to /home/hail/hail-20250715-1929-0.2.135-034ef3e08116.log\n"
     ]
    },
    {
     "data": {
      "text/plain": [
       "(155072, 70)"
      ]
     },
     "execution_count": 3,
     "metadata": {},
     "output_type": "execute_result"
    }
   ],
   "source": [
    "print(\"Load pre-filtered BGE data before annotating VEP\")\n",
    "mt = hl.read_matrix_table('gs://pbn_pilot/proj-PBN/04_rare_SNPs/00_raw_data/01_Var_PreFilterQC.SCZ_BGE.mt')\n",
    "mt.count()"
   ]
  },
  {
   "cell_type": "code",
   "execution_count": 5,
   "id": "5466dec6",
   "metadata": {},
   "outputs": [
    {
     "name": "stdout",
     "output_type": "stream",
     "text": [
      "saving vcf for chrX all - only non-PAR and not pruned...\n"
     ]
    },
    {
     "name": "stderr",
     "output_type": "stream",
     "text": [
      "2025-07-15 19:41:26.350 Hail: INFO: wrote table with 155072 rows in 24 partitions to /tmp/persist_TableoUhHYtPUOO\n",
      "[Stage 1:>                                                          (0 + 1) / 1]\r"
     ]
    },
    {
     "name": "stdout",
     "output_type": "stream",
     "text": [
      "2902\n",
      "2693\n"
     ]
    }
   ],
   "source": [
    "print(\"saving vcf for chrX all - only non-PAR and not pruned...\")\n",
    "mt_chrX = mt.filter_rows(mt.locus.contig == 'chrX') # only chrX\n",
    "print(mt_chrX.count_rows())\n",
    "mt_chrX = mt_chrX.filter_rows(mt_chrX.locus.in_x_nonpar()) # only non-PAR for chrX\n",
    "print(mt_chrX.count_rows()) "
   ]
  },
  {
   "cell_type": "code",
   "execution_count": 6,
   "id": "01c16c5a",
   "metadata": {},
   "outputs": [],
   "source": [
    "mt_chrX = mt_chrX.drop('info')"
   ]
  },
  {
   "cell_type": "code",
   "execution_count": 8,
   "id": "7f444091",
   "metadata": {},
   "outputs": [
    {
     "name": "stdout",
     "output_type": "stream",
     "text": [
      "saving after reducing size...\n"
     ]
    },
    {
     "name": "stderr",
     "output_type": "stream",
     "text": [
      "2025-07-15 19:41:59.709 Hail: WARN: export_vcf: ignored the following fields:\n",
      "    'a_index' (row)\n",
      "    'was_split' (row)\n",
      "2025-07-15 19:42:00.957 Hail: WARN: export_vcf found no row field 'info'. Emitting no INFO fields.\n",
      "2025-07-15 19:42:02.995 Hail: INFO: merging 2 files totalling 212.4K...+ 1) / 1]\n",
      "2025-07-15 19:42:03.269 Hail: INFO: while writing:\n",
      "    gs://pbn_pilot/proj-PBN/04_rare_SNPs/00_raw_data/sex_check/chrX_NonPAR_only_20250715.vcf.bgz\n",
      "  merge time: 273.704ms\n"
     ]
    }
   ],
   "source": [
    "print(\"saving after reducing size...\")\n",
    "hl.export_vcf(mt_chrX, 'gs://pbn_pilot/proj-PBN/04_rare_SNPs/00_raw_data/sex_check/chrX_NonPAR_only_20250715.vcf.bgz') #"
   ]
  },
  {
   "cell_type": "code",
   "execution_count": 9,
   "id": "d64518f9",
   "metadata": {},
   "outputs": [
    {
     "name": "stdout",
     "output_type": "stream",
     "text": [
      "AF filtering...\n",
      "2685\n"
     ]
    },
    {
     "name": "stderr",
     "output_type": "stream",
     "text": [
      "\r",
      "[Stage 5:>                                                          (0 + 1) / 1]\r"
     ]
    }
   ],
   "source": [
    "mt_chrX = hl.variant_qc(mt_chrX)\n",
    "print(\"AF filtering...\")\n",
    "mt_chrX = mt_chrX.filter_rows(((mt_chrX.variant_qc.AF[0] > 0.001) & (mt_chrX.variant_qc.AF[1] > 0.001)) & ((mt_chrX.variant_qc.AF[0] < 0.999) & (mt_chrX.variant_qc.AF[1] < 0.999)))\n",
    "print(mt_chrX.count_rows()) # 3039"
   ]
  },
  {
   "cell_type": "code",
   "execution_count": 10,
   "id": "382ed7b1",
   "metadata": {},
   "outputs": [
    {
     "name": "stdout",
     "output_type": "stream",
     "text": [
      "saving after reducing size...\n"
     ]
    },
    {
     "name": "stderr",
     "output_type": "stream",
     "text": [
      "2025-07-15 19:42:55.688 Hail: WARN: export_vcf: ignored the following fields:\n",
      "    'a_index' (row)\n",
      "    'was_split' (row)\n",
      "    'variant_qc' (row)\n",
      "2025-07-15 19:42:56.967 Hail: WARN: export_vcf found no row field 'info'. Emitting no INFO fields.\n",
      "2025-07-15 19:42:58.359 Hail: INFO: merging 2 files totalling 210.3K...+ 1) / 1]\n",
      "2025-07-15 19:42:58.650 Hail: INFO: while writing:\n",
      "    gs://pbn_pilot/proj-PBN/04_rare_SNPs/00_raw_data/sex_check/chrX_NonPAR_only.maf0.001_20250715.vcf.bgz\n",
      "  merge time: 290.186ms\n"
     ]
    }
   ],
   "source": [
    "print(\"saving after reducing size...\")\n",
    "hl.export_vcf(mt_chrX, 'gs://pbn_pilot/proj-PBN/04_rare_SNPs/00_raw_data/sex_check/chrX_NonPAR_only.maf0.001_20250715.vcf.bgz') #"
   ]
  },
  {
   "cell_type": "code",
   "execution_count": 12,
   "id": "9972aa57",
   "metadata": {},
   "outputs": [
    {
     "name": "stderr",
     "output_type": "stream",
     "text": [
      "\r",
      "[Stage 9:>                                                          (0 + 1) / 1]\r"
     ]
    },
    {
     "data": {
      "text/html": [
       "<table><thead><tr><td style=\"white-space: nowrap; max-width: 500px; overflow: hidden; text-overflow: ellipsis; \" colspan=\"1\"><div style=\"text-align: left;\"></div></td><td style=\"white-space: nowrap; max-width: 500px; overflow: hidden; text-overflow: ellipsis; \" colspan=\"1\"><div style=\"text-align: left;\"></div></td><td style=\"white-space: nowrap; max-width: 500px; overflow: hidden; text-overflow: ellipsis; \" colspan=\"1\"><div style=\"text-align: left;\"></div></td><td style=\"white-space: nowrap; max-width: 500px; overflow: hidden; text-overflow: ellipsis; \" colspan=\"1\"><div style=\"text-align: left;\"></div></td><td style=\"white-space: nowrap; max-width: 500px; overflow: hidden; text-overflow: ellipsis; \" colspan=\"1\"><div style=\"text-align: left;\"></div></td><td style=\"white-space: nowrap; max-width: 500px; overflow: hidden; text-overflow: ellipsis; \" colspan=\"1\"><div style=\"text-align: left;\"></div></td></tr><tr><td style=\"white-space: nowrap; max-width: 500px; overflow: hidden; text-overflow: ellipsis; \" colspan=\"1\"><div style=\"text-align: left;border-bottom: solid 2px #000; padding-bottom: 5px\">s</div></td><td style=\"white-space: nowrap; max-width: 500px; overflow: hidden; text-overflow: ellipsis; \" colspan=\"1\"><div style=\"text-align: left;border-bottom: solid 2px #000; padding-bottom: 5px\">is_female</div></td><td style=\"white-space: nowrap; max-width: 500px; overflow: hidden; text-overflow: ellipsis; \" colspan=\"1\"><div style=\"text-align: left;border-bottom: solid 2px #000; padding-bottom: 5px\">f_stat</div></td><td style=\"white-space: nowrap; max-width: 500px; overflow: hidden; text-overflow: ellipsis; \" colspan=\"1\"><div style=\"text-align: left;border-bottom: solid 2px #000; padding-bottom: 5px\">n_called</div></td><td style=\"white-space: nowrap; max-width: 500px; overflow: hidden; text-overflow: ellipsis; \" colspan=\"1\"><div style=\"text-align: left;border-bottom: solid 2px #000; padding-bottom: 5px\">expected_homs</div></td><td style=\"white-space: nowrap; max-width: 500px; overflow: hidden; text-overflow: ellipsis; \" colspan=\"1\"><div style=\"text-align: left;border-bottom: solid 2px #000; padding-bottom: 5px\">observed_homs</div></td></tr><tr><td style=\"white-space: nowrap; max-width: 500px; overflow: hidden; text-overflow: ellipsis; text-align: left;\">str</td><td style=\"white-space: nowrap; max-width: 500px; overflow: hidden; text-overflow: ellipsis; text-align: left;\">bool</td><td style=\"white-space: nowrap; max-width: 500px; overflow: hidden; text-overflow: ellipsis; text-align: left;\">float64</td><td style=\"white-space: nowrap; max-width: 500px; overflow: hidden; text-overflow: ellipsis; text-align: left;\">int64</td><td style=\"white-space: nowrap; max-width: 500px; overflow: hidden; text-overflow: ellipsis; text-align: left;\">float64</td><td style=\"white-space: nowrap; max-width: 500px; overflow: hidden; text-overflow: ellipsis; text-align: left;\">int64</td></tr>\n",
       "</thead><tbody><tr><td style=\"white-space: nowrap; max-width: 500px; overflow: hidden; text-overflow: ellipsis; \">&quot;MS111091&quot;</td><td style=\"white-space: nowrap; max-width: 500px; overflow: hidden; text-overflow: ellipsis; \">False</td><td style=\"white-space: nowrap; max-width: 500px; overflow: hidden; text-overflow: ellipsis; \">9.32e-01</td><td style=\"white-space: nowrap; max-width: 500px; overflow: hidden; text-overflow: ellipsis; \">2609</td><td style=\"white-space: nowrap; max-width: 500px; overflow: hidden; text-overflow: ellipsis; \">2.31e+03</td><td style=\"white-space: nowrap; max-width: 500px; overflow: hidden; text-overflow: ellipsis; \">2589</td></tr>\n",
       "<tr><td style=\"white-space: nowrap; max-width: 500px; overflow: hidden; text-overflow: ellipsis; \">&quot;MS137267&quot;</td><td style=\"white-space: nowrap; max-width: 500px; overflow: hidden; text-overflow: ellipsis; \">False</td><td style=\"white-space: nowrap; max-width: 500px; overflow: hidden; text-overflow: ellipsis; \">9.45e-01</td><td style=\"white-space: nowrap; max-width: 500px; overflow: hidden; text-overflow: ellipsis; \">2594</td><td style=\"white-space: nowrap; max-width: 500px; overflow: hidden; text-overflow: ellipsis; \">2.30e+03</td><td style=\"white-space: nowrap; max-width: 500px; overflow: hidden; text-overflow: ellipsis; \">2578</td></tr>\n",
       "<tr><td style=\"white-space: nowrap; max-width: 500px; overflow: hidden; text-overflow: ellipsis; \">&quot;MS163366&quot;</td><td style=\"white-space: nowrap; max-width: 500px; overflow: hidden; text-overflow: ellipsis; \">NA</td><td style=\"white-space: nowrap; max-width: 500px; overflow: hidden; text-overflow: ellipsis; \">3.61e-01</td><td style=\"white-space: nowrap; max-width: 500px; overflow: hidden; text-overflow: ellipsis; \">2623</td><td style=\"white-space: nowrap; max-width: 500px; overflow: hidden; text-overflow: ellipsis; \">2.33e+03</td><td style=\"white-space: nowrap; max-width: 500px; overflow: hidden; text-overflow: ellipsis; \">2436</td></tr>\n",
       "<tr><td style=\"white-space: nowrap; max-width: 500px; overflow: hidden; text-overflow: ellipsis; \">&quot;MS237996&quot;</td><td style=\"white-space: nowrap; max-width: 500px; overflow: hidden; text-overflow: ellipsis; \">False</td><td style=\"white-space: nowrap; max-width: 500px; overflow: hidden; text-overflow: ellipsis; \">9.39e-01</td><td style=\"white-space: nowrap; max-width: 500px; overflow: hidden; text-overflow: ellipsis; \">2606</td><td style=\"white-space: nowrap; max-width: 500px; overflow: hidden; text-overflow: ellipsis; \">2.31e+03</td><td style=\"white-space: nowrap; max-width: 500px; overflow: hidden; text-overflow: ellipsis; \">2588</td></tr>\n",
       "<tr><td style=\"white-space: nowrap; max-width: 500px; overflow: hidden; text-overflow: ellipsis; \">&quot;MS247980&quot;</td><td style=\"white-space: nowrap; max-width: 500px; overflow: hidden; text-overflow: ellipsis; \">False</td><td style=\"white-space: nowrap; max-width: 500px; overflow: hidden; text-overflow: ellipsis; \">9.72e-01</td><td style=\"white-space: nowrap; max-width: 500px; overflow: hidden; text-overflow: ellipsis; \">2609</td><td style=\"white-space: nowrap; max-width: 500px; overflow: hidden; text-overflow: ellipsis; \">2.32e+03</td><td style=\"white-space: nowrap; max-width: 500px; overflow: hidden; text-overflow: ellipsis; \">2601</td></tr>\n",
       "<tr><td style=\"white-space: nowrap; max-width: 500px; overflow: hidden; text-overflow: ellipsis; \">&quot;MS288545&quot;</td><td style=\"white-space: nowrap; max-width: 500px; overflow: hidden; text-overflow: ellipsis; \">False</td><td style=\"white-space: nowrap; max-width: 500px; overflow: hidden; text-overflow: ellipsis; \">9.63e-01</td><td style=\"white-space: nowrap; max-width: 500px; overflow: hidden; text-overflow: ellipsis; \">2619</td><td style=\"white-space: nowrap; max-width: 500px; overflow: hidden; text-overflow: ellipsis; \">2.32e+03</td><td style=\"white-space: nowrap; max-width: 500px; overflow: hidden; text-overflow: ellipsis; \">2608</td></tr>\n",
       "<tr><td style=\"white-space: nowrap; max-width: 500px; overflow: hidden; text-overflow: ellipsis; \">&quot;MS309625&quot;</td><td style=\"white-space: nowrap; max-width: 500px; overflow: hidden; text-overflow: ellipsis; \">True</td><td style=\"white-space: nowrap; max-width: 500px; overflow: hidden; text-overflow: ellipsis; \">-1.71e-01</td><td style=\"white-space: nowrap; max-width: 500px; overflow: hidden; text-overflow: ellipsis; \">2636</td><td style=\"white-space: nowrap; max-width: 500px; overflow: hidden; text-overflow: ellipsis; \">2.34e+03</td><td style=\"white-space: nowrap; max-width: 500px; overflow: hidden; text-overflow: ellipsis; \">2290</td></tr>\n",
       "<tr><td style=\"white-space: nowrap; max-width: 500px; overflow: hidden; text-overflow: ellipsis; \">&quot;MS385647&quot;</td><td style=\"white-space: nowrap; max-width: 500px; overflow: hidden; text-overflow: ellipsis; \">False</td><td style=\"white-space: nowrap; max-width: 500px; overflow: hidden; text-overflow: ellipsis; \">9.52e-01</td><td style=\"white-space: nowrap; max-width: 500px; overflow: hidden; text-overflow: ellipsis; \">2616</td><td style=\"white-space: nowrap; max-width: 500px; overflow: hidden; text-overflow: ellipsis; \">2.32e+03</td><td style=\"white-space: nowrap; max-width: 500px; overflow: hidden; text-overflow: ellipsis; \">2602</td></tr>\n",
       "<tr><td style=\"white-space: nowrap; max-width: 500px; overflow: hidden; text-overflow: ellipsis; \">&quot;MS421078&quot;</td><td style=\"white-space: nowrap; max-width: 500px; overflow: hidden; text-overflow: ellipsis; \">NA</td><td style=\"white-space: nowrap; max-width: 500px; overflow: hidden; text-overflow: ellipsis; \">3.04e-01</td><td style=\"white-space: nowrap; max-width: 500px; overflow: hidden; text-overflow: ellipsis; \">2631</td><td style=\"white-space: nowrap; max-width: 500px; overflow: hidden; text-overflow: ellipsis; \">2.34e+03</td><td style=\"white-space: nowrap; max-width: 500px; overflow: hidden; text-overflow: ellipsis; \">2426</td></tr>\n",
       "<tr><td style=\"white-space: nowrap; max-width: 500px; overflow: hidden; text-overflow: ellipsis; \">&quot;MS439204&quot;</td><td style=\"white-space: nowrap; max-width: 500px; overflow: hidden; text-overflow: ellipsis; \">True</td><td style=\"white-space: nowrap; max-width: 500px; overflow: hidden; text-overflow: ellipsis; \">-1.94e-01</td><td style=\"white-space: nowrap; max-width: 500px; overflow: hidden; text-overflow: ellipsis; \">2640</td><td style=\"white-space: nowrap; max-width: 500px; overflow: hidden; text-overflow: ellipsis; \">2.34e+03</td><td style=\"white-space: nowrap; max-width: 500px; overflow: hidden; text-overflow: ellipsis; \">2286</td></tr>\n",
       "</tbody></table><p style=\"background: #fdd; padding: 0.4em;\">showing top 10 rows</p>\n"
      ],
      "text/plain": [
       "+------------+-----------+-----------+----------+---------------+\n",
       "| s          | is_female |    f_stat | n_called | expected_homs |\n",
       "+------------+-----------+-----------+----------+---------------+\n",
       "| str        |      bool |   float64 |    int64 |       float64 |\n",
       "+------------+-----------+-----------+----------+---------------+\n",
       "| \"MS111091\" |     False |  9.32e-01 |     2609 |      2.31e+03 |\n",
       "| \"MS137267\" |     False |  9.45e-01 |     2594 |      2.30e+03 |\n",
       "| \"MS163366\" |        NA |  3.61e-01 |     2623 |      2.33e+03 |\n",
       "| \"MS237996\" |     False |  9.39e-01 |     2606 |      2.31e+03 |\n",
       "| \"MS247980\" |     False |  9.72e-01 |     2609 |      2.32e+03 |\n",
       "| \"MS288545\" |     False |  9.63e-01 |     2619 |      2.32e+03 |\n",
       "| \"MS309625\" |      True | -1.71e-01 |     2636 |      2.34e+03 |\n",
       "| \"MS385647\" |     False |  9.52e-01 |     2616 |      2.32e+03 |\n",
       "| \"MS421078\" |        NA |  3.04e-01 |     2631 |      2.34e+03 |\n",
       "| \"MS439204\" |      True | -1.94e-01 |     2640 |      2.34e+03 |\n",
       "+------------+-----------+-----------+----------+---------------+\n",
       "\n",
       "+---------------+\n",
       "| observed_homs |\n",
       "+---------------+\n",
       "|         int64 |\n",
       "+---------------+\n",
       "|          2589 |\n",
       "|          2578 |\n",
       "|          2436 |\n",
       "|          2588 |\n",
       "|          2601 |\n",
       "|          2608 |\n",
       "|          2290 |\n",
       "|          2602 |\n",
       "|          2426 |\n",
       "|          2286 |\n",
       "+---------------+\n",
       "showing top 10 rows"
      ]
     },
     "metadata": {},
     "output_type": "display_data"
    },
    {
     "name": "stderr",
     "output_type": "stream",
     "text": [
      "2025-07-15 19:44:14.456 Hail: INFO: Coerced sorted dataset\n",
      "2025-07-15 19:44:15.592 Hail: INFO: merging 5 files totalling 2.9K...2 + 2) / 4]\n",
      "2025-07-15 19:44:15.828 Hail: INFO: while writing:\n",
      "    gs://pbn_pilot/proj-PBN/04_rare_SNPs/00_raw_data/sex_check/imputed_sex_bge_20250715.tsv\n",
      "  merge time: 235.098ms\n"
     ]
    }
   ],
   "source": [
    "# Let's impute sex now\n",
    "# Use only sites passing VQSR\n",
    "mt_temp = mt.filter_rows(mt.filters == hl.empty_set(hl.tstr), keep = True)\n",
    "\n",
    "# Calls need to be unphased\n",
    "mt_temp = mt_temp.select_entries(GT = hl.unphased_diploid_gt_index_call(mt_temp.GT.n_alt_alleles()))\n",
    "\n",
    "# Actually impute sex\n",
    "imputed_sex = hl.impute_sex(mt_temp.GT)\n",
    "\n",
    "# Look at results\n",
    "imputed_sex.show()\n",
    "# Export results\n",
    "imputed_sex.drop('is_female').export('gs://pbn_pilot/proj-PBN/04_rare_SNPs/00_raw_data/sex_check/imputed_sex_bge_20250715.tsv')"
   ]
  },
  {
   "cell_type": "code",
   "execution_count": null,
   "id": "ca225f06",
   "metadata": {},
   "outputs": [],
   "source": []
  }
 ],
 "metadata": {
  "kernelspec": {
   "display_name": "Hail",
   "language": "python",
   "name": "hail"
  },
  "language_info": {
   "codemirror_mode": {
    "name": "ipython",
    "version": 3
   },
   "file_extension": ".py",
   "mimetype": "text/x-python",
   "name": "python",
   "nbconvert_exporter": "python",
   "pygments_lexer": "ipython3",
   "version": "3.11.7"
  }
 },
 "nbformat": 4,
 "nbformat_minor": 5
}